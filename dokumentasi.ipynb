{
 "cells": [
  {
   "cell_type": "code",
   "execution_count": 1,
   "metadata": {},
   "outputs": [],
   "source": [
    "import requests # import library untuk API Call (HTTP Call)\n"
   ]
  },
  {
   "cell_type": "markdown",
   "metadata": {},
   "source": [
    "#### GET Request"
   ]
  },
  {
   "cell_type": "code",
   "execution_count": 30,
   "metadata": {},
   "outputs": [
    {
     "data": {
      "text/plain": [
       "{'message': 'This is encrypted lagi: 3e8a9952527e6d60a02d1dd53b97b2484cb1f6d5a21c3c7feb241054ab7eed50bd4f0f1fe5586cb0a6968c7fbb0aed12ce00a9f0a7787ed6dfd632134d2fe583'}"
      ]
     },
     "execution_count": 30,
     "metadata": {},
     "output_type": "execute_result"
    }
   ],
   "source": [
    "data = requests.get('https://ravenclaw-services.herokuapp.com/test')\n",
    "data.json()\n"
   ]
  },
  {
   "cell_type": "code",
   "execution_count": 80,
   "metadata": {},
   "outputs": [
    {
     "data": {
      "text/html": [
       "<div>\n",
       "<style scoped>\n",
       "    .dataframe tbody tr th:only-of-type {\n",
       "        vertical-align: middle;\n",
       "    }\n",
       "\n",
       "    .dataframe tbody tr th {\n",
       "        vertical-align: top;\n",
       "    }\n",
       "\n",
       "    .dataframe thead th {\n",
       "        text-align: right;\n",
       "    }\n",
       "</style>\n",
       "<table border=\"1\" class=\"dataframe\">\n",
       "  <thead>\n",
       "    <tr style=\"text-align: right;\">\n",
       "      <th></th>\n",
       "      <th>order_id</th>\n",
       "      <th>username</th>\n",
       "      <th>name</th>\n",
       "      <th>divisi</th>\n",
       "      <th>aktivitas</th>\n",
       "      <th>due_date</th>\n",
       "      <th>bsu_fix</th>\n",
       "      <th>status</th>\n",
       "    </tr>\n",
       "  </thead>\n",
       "  <tbody>\n",
       "    <tr>\n",
       "      <th>0</th>\n",
       "      <td>DEV-20220830-1664950507</td>\n",
       "      <td>hanggoro</td>\n",
       "      <td>Hanggoro Feriawan</td>\n",
       "      <td>DEVOPS</td>\n",
       "      <td>Pengajuan service AWS S3 1 Tera per month</td>\n",
       "      <td>2022-08-30</td>\n",
       "      <td>4.000000e+08</td>\n",
       "      <td>PENDING</td>\n",
       "    </tr>\n",
       "    <tr>\n",
       "      <th>1</th>\n",
       "      <td>DEV-20220518-1664950531</td>\n",
       "      <td>hanggoro</td>\n",
       "      <td>Hanggoro Feriawan</td>\n",
       "      <td>DEVOPS</td>\n",
       "      <td>Pengajuan laptop macbook 100 unit untuk divisi...</td>\n",
       "      <td>2022-05-18</td>\n",
       "      <td>3.000000e+10</td>\n",
       "      <td>PENDING</td>\n",
       "    </tr>\n",
       "    <tr>\n",
       "      <th>2</th>\n",
       "      <td>ITA-20221111-1664955112</td>\n",
       "      <td>anhar</td>\n",
       "      <td>Anhar</td>\n",
       "      <td>ITAIS</td>\n",
       "      <td>Pengajuan penutupan Data Center, dan migrasi k...</td>\n",
       "      <td>2022-11-11</td>\n",
       "      <td>1.500000e+09</td>\n",
       "      <td>PENDING</td>\n",
       "    </tr>\n",
       "  </tbody>\n",
       "</table>\n",
       "</div>"
      ],
      "text/plain": [
       "                  order_id  username               name  divisi  \\\n",
       "0  DEV-20220830-1664950507  hanggoro  Hanggoro Feriawan  DEVOPS   \n",
       "1  DEV-20220518-1664950531  hanggoro  Hanggoro Feriawan  DEVOPS   \n",
       "2  ITA-20221111-1664955112     anhar              Anhar   ITAIS   \n",
       "\n",
       "                                           aktivitas    due_date  \\\n",
       "0          Pengajuan service AWS S3 1 Tera per month  2022-08-30   \n",
       "1  Pengajuan laptop macbook 100 unit untuk divisi...  2022-05-18   \n",
       "2  Pengajuan penutupan Data Center, dan migrasi k...  2022-11-11   \n",
       "\n",
       "        bsu_fix   status  \n",
       "0  4.000000e+08  PENDING  \n",
       "1  3.000000e+10  PENDING  \n",
       "2  1.500000e+09  PENDING  "
      ]
     },
     "execution_count": 80,
     "metadata": {},
     "output_type": "execute_result"
    }
   ],
   "source": [
    "import pandas as pd\n",
    "data = requests.get(\n",
    "    'https://ravenclaw-services.herokuapp.com/CRUD/admin/lihat-data-pengajuan')\n",
    "pd.DataFrame(data.json())\n"
   ]
  },
  {
   "cell_type": "markdown",
   "metadata": {},
   "source": [
    "#### POST Request"
   ]
  },
  {
   "cell_type": "markdown",
   "metadata": {},
   "source": [
    "##### REGISTRATION"
   ]
  },
  {
   "cell_type": "code",
   "execution_count": 37,
   "metadata": {},
   "outputs": [
    {
     "data": {
      "text/plain": [
       "{'registration_status': 'failed', 'msg': 'username already registered'}"
      ]
     },
     "execution_count": 37,
     "metadata": {},
     "output_type": "execute_result"
    }
   ],
   "source": [
    "payload = {\n",
    "    'name': 'Erry Kusumayadi',\n",
    "    'username': 'errykusumayadi',\n",
    "    'password': 'itsgvp11',\n",
    "    'role': 'admin',\n",
    "    'divisi': 'ITSG'\n",
    "}\n",
    "\n",
    "\n",
    "data = requests.post('https://ravenclaw-services.herokuapp.com/CRUD/reg', json=payload)\n",
    "data.json()"
   ]
  },
  {
   "cell_type": "code",
   "execution_count": 29,
   "metadata": {},
   "outputs": [
    {
     "data": {
      "text/plain": [
       "{'detail': [{'loc': ['body', 'name'],\n",
       "   'msg': 'field required',\n",
       "   'type': 'value_error.missing'},\n",
       "  {'loc': ['body', 'divisi'],\n",
       "   'msg': 'field required',\n",
       "   'type': 'value_error.missing'}]}"
      ]
     },
     "execution_count": 29,
     "metadata": {},
     "output_type": "execute_result"
    }
   ],
   "source": [
    "payload = {\"fullName\": 'Hafidz Erdityo', \"username\": 'hafidzerdityo',\n",
    "           \"password\": 'akulapar', \"unit\": 'Jaskug', \"role\": 'Bendahara'}\n",
    "\n",
    "\n",
    "data = requests.post(\n",
    "    'https://ravenclaw-services.herokuapp.com/Jaskug/CRUD/reg', json=payload)\n",
    "data.json()\n"
   ]
  },
  {
   "cell_type": "markdown",
   "metadata": {},
   "source": [
    "##### LOGIN"
   ]
  },
  {
   "cell_type": "markdown",
   "metadata": {},
   "source": [
    "if user_name not registered"
   ]
  },
  {
   "cell_type": "code",
   "execution_count": 22,
   "metadata": {},
   "outputs": [
    {
     "data": {
      "text/plain": [
       "{'login_status': 'failed', 'msg': 'wrong username'}"
      ]
     },
     "execution_count": 22,
     "metadata": {},
     "output_type": "execute_result"
    }
   ],
   "source": [
    "payload = {\n",
    "    'username': 'hafidz',\n",
    "    'password': 'hehehehe',\n",
    "}\n",
    "\n",
    "data = requests.post('https://ravenclaw-services.herokuapp.com/CRUD/login', json=payload)\n",
    "data.json()\n"
   ]
  },
  {
   "cell_type": "code",
   "execution_count": 28,
   "metadata": {},
   "outputs": [
    {
     "data": {
      "text/plain": [
       "{'login_status': 'failed', 'msg': 'wrong username'}"
      ]
     },
     "execution_count": 28,
     "metadata": {},
     "output_type": "execute_result"
    }
   ],
   "source": [
    "import requests\n",
    "payload = {\n",
    "    'username': 'hafidz',\n",
    "    'password': 'hehehehe',\n",
    "}\n",
    "\n",
    "data = requests.post(\n",
    "    'https://ravenclaw-services.herokuapp.com/Jaskug/CRUD/login', json=payload)\n",
    "data.json()"
   ]
  },
  {
   "cell_type": "markdown",
   "metadata": {},
   "source": [
    "if user_name is registered but password is wrong"
   ]
  },
  {
   "cell_type": "code",
   "execution_count": 32,
   "metadata": {},
   "outputs": [
    {
     "data": {
      "text/plain": [
       "{'login_status': 'failed', 'msg': 'wrong password'}"
      ]
     },
     "execution_count": 32,
     "metadata": {},
     "output_type": "execute_result"
    }
   ],
   "source": [
    "payload = {\n",
    "    'username': 'hanggoro',\n",
    "    'password': 'hehehehe',\n",
    "}\n",
    "\n",
    "data = requests.post(\n",
    "    'https://ravenclaw-services.herokuapp.com/CRUD/login', json=payload)\n",
    "data.json()\n"
   ]
  },
  {
   "cell_type": "markdown",
   "metadata": {},
   "source": [
    "if everything is success"
   ]
  },
  {
   "cell_type": "code",
   "execution_count": 110,
   "metadata": {},
   "outputs": [
    {
     "data": {
      "text/plain": [
       "{'login_status': 'success',\n",
       " 'data': {'name': 'Hanggoro Feriawan',\n",
       "  'username': 'hanggoro',\n",
       "  'role': 'client',\n",
       "  'divisi': 'DEVOPS'}}"
      ]
     },
     "execution_count": 110,
     "metadata": {},
     "output_type": "execute_result"
    }
   ],
   "source": [
    "payload = {\n",
    "    'username': 'hanggoro',\n",
    "    'password': 'devopsvp11',\n",
    "}\n",
    "\n",
    "data = requests.post(\n",
    "    'https://ravenclaw-services.herokuapp.com/CRUD/login', json=payload)\n",
    "data.json()\n"
   ]
  },
  {
   "cell_type": "markdown",
   "metadata": {},
   "source": [
    "##### Form Pengajuan"
   ]
  },
  {
   "cell_type": "code",
   "execution_count": 108,
   "metadata": {},
   "outputs": [
    {
     "data": {
      "text/plain": [
       "{'username': 'hanggoro',\n",
       " 'name': 'Hanggoro Feriawan',\n",
       " 'divisi': 'DEVOPS',\n",
       " 'aktivitas': 'Pengajuan jasa vendor untuk develop POSPAY superapp',\n",
       " 'due_date': '2023-05-10',\n",
       " 'bsu_fix': 400000000}"
      ]
     },
     "execution_count": 108,
     "metadata": {},
     "output_type": "execute_result"
    }
   ],
   "source": [
    "payload = {\n",
    "    'username': 'hanggoro',  # disabled dan tidak muncul di form\n",
    "    'name': 'Hanggoro Feriawan',  # disabled\n",
    "    'divisi': 'DEVOPS',  # disabled\n",
    "    'aktivitas': 'Pengajuan jasa vendor untuk develop POSPAY superapp',\n",
    "    'due_date': '2023-05-10',\n",
    "    'bsu_fix': 400000000,\n",
    "}\n",
    "payload"
   ]
  },
  {
   "cell_type": "code",
   "execution_count": 5,
   "metadata": {},
   "outputs": [
    {
     "data": {
      "text/plain": [
       "{'status': 'success'}"
      ]
     },
     "execution_count": 5,
     "metadata": {},
     "output_type": "execute_result"
    }
   ],
   "source": [
    "\n",
    "\n",
    "payload = {\n",
    "    'username': 'rudinur', # disabled dan tidak muncul di form\n",
    "    'name': 'Rudi Nur Sulistiyono',  # disabled\n",
    "    'divisi': 'AO', # disabled\n",
    "    'manajer': 'Danton',\n",
    "    'kategori': 'CAPEX',\n",
    "    'aktivitas': 'Pengadaan Penyediaan vendor untuk melakukan unit testing ',\n",
    "    'due': {\n",
    "        'due_quarter': 'Q3',\n",
    "        'due_date': '2023-11-24',\n",
    "    },\n",
    "    'bsu': {\n",
    "        'bsu_kategori': 'fluktuatif',\n",
    "        'bsu_fix': None\n",
    "    }\n",
    "}\n",
    "\n",
    "data = requests.post(\n",
    "    'https://ravenclaw-services.herokuapp.com/CRUD/client/form-pengajuan', json=payload)\n",
    "test = data.json()\n",
    "test"
   ]
  },
  {
   "cell_type": "markdown",
   "metadata": {},
   "source": [
    "##### Generate dummy text"
   ]
  },
  {
   "cell_type": "code",
   "execution_count": 10,
   "metadata": {},
   "outputs": [],
   "source": [
    "import random\n",
    "\n"
   ]
  },
  {
   "cell_type": "code",
   "execution_count": 13,
   "metadata": {},
   "outputs": [],
   "source": [
    "from faker import Faker\n",
    "fake = Faker()\n"
   ]
  },
  {
   "cell_type": "code",
   "execution_count": 14,
   "metadata": {},
   "outputs": [
    {
     "data": {
      "text/plain": [
       "DatetimeIndex(['2022-01-01', '2022-01-02', '2022-01-03', '2022-01-04',\n",
       "               '2022-01-05', '2022-01-06', '2022-01-07', '2022-01-08',\n",
       "               '2022-01-09', '2022-01-10',\n",
       "               ...\n",
       "               '2022-12-21', '2022-12-22', '2022-12-23', '2022-12-24',\n",
       "               '2022-12-25', '2022-12-26', '2022-12-27', '2022-12-28',\n",
       "               '2022-12-29', '2022-12-30'],\n",
       "              dtype='datetime64[ns]', length=364, freq='D')"
      ]
     },
     "execution_count": 14,
     "metadata": {},
     "output_type": "execute_result"
    }
   ],
   "source": [
    "import pandas as pd\n",
    "from datetime import datetime\n",
    "\n",
    "gas = 364\n",
    "tgl  = pd.date_range(\n",
    "    start=pd.Timestamp('2022-12-31') - pd.offsets.Day(gas),\n",
    "    freq='D', periods=gas)\n",
    "tgl "
   ]
  },
  {
   "cell_type": "code",
   "execution_count": 19,
   "metadata": {},
   "outputs": [],
   "source": [
    "tgl = tgl.to_list()"
   ]
  },
  {
   "cell_type": "code",
   "execution_count": 22,
   "metadata": {},
   "outputs": [],
   "source": [
    "tgl = [str(i).split()[0] for i in tgl]"
   ]
  },
  {
   "cell_type": "code",
   "execution_count": 23,
   "metadata": {},
   "outputs": [
    {
     "data": {
      "text/plain": [
       "'2022-04-20'"
      ]
     },
     "execution_count": 23,
     "metadata": {},
     "output_type": "execute_result"
    }
   ],
   "source": [
    "import random\n",
    "\n",
    "random.choice(tgl)"
   ]
  },
  {
   "cell_type": "code",
   "execution_count": 24,
   "metadata": {},
   "outputs": [],
   "source": [
    "tanggal = '2022-07-05'\n",
    "\n",
    "def get_quarter(tanggal):\n",
    "    if tanggal >= '2022-01-01' and tanggal <= '2022-03-30':\n",
    "        quarter = 'Q1'\n",
    "    elif tanggal >= '2022-04-01' and tanggal <= '2022-06-30':\n",
    "        quarter = 'Q2'\n",
    "    else:\n",
    "        quarter = 'Q3'\n",
    "    return quarter"
   ]
  },
  {
   "cell_type": "code",
   "execution_count": 25,
   "metadata": {},
   "outputs": [],
   "source": [
    "def penanganan(duit):\n",
    "    if duit >= 0 and duit<= 100000000:\n",
    "        return random.choice(['pembelian_langsung_skema_terbatas','pembelian_langsung'])\n",
    "    else:\n",
    "        return random.choice(['pemilihan_langsung','lelang_terbatas','lelang_terbuka'])"
   ]
  },
  {
   "cell_type": "code",
   "execution_count": null,
   "metadata": {},
   "outputs": [],
   "source": [
    "manajer_random = ['Danton','Adi Nugroho','Hudi Suyatno','Agus Himawan','Egi Legiman']\n",
    "kategori_random = ['CAPEX','OPEX']"
   ]
  },
  {
   "cell_type": "code",
   "execution_count": 30,
   "metadata": {},
   "outputs": [],
   "source": [
    "manajer_random = ['Triyanta','Yuyus Nurkamal', 'Fenny', 'Tri Widiartono','Edi Priyatno']\n",
    "kategori_random = ['CAPEX','OPEX']"
   ]
  },
  {
   "cell_type": "code",
   "execution_count": 34,
   "metadata": {},
   "outputs": [],
   "source": [
    "manajer_random = ['Nasruddin','Yohana Budi', 'Ricky', 'Henny','Dede']\n",
    "kategori_random = ['CAPEX','OPEX']"
   ]
  },
  {
   "cell_type": "code",
   "execution_count": 39,
   "metadata": {},
   "outputs": [],
   "source": [
    "manajer_random = ['Fikri','Syukuri', 'Hamdani']\n",
    "kategori_random = ['CAPEX','OPEX']"
   ]
  },
  {
   "cell_type": "code",
   "execution_count": 40,
   "metadata": {},
   "outputs": [
    {
     "name": "stderr",
     "output_type": "stream",
     "text": [
      "100%|██████████| 30/30 [01:08<00:00,  2.28s/it]\n"
     ]
    }
   ],
   "source": [
    "from tqdm import tqdm\n",
    "import random\n",
    "import requests\n",
    "\n",
    "for _ in tqdm(range(30)):\n",
    "    random_tgl = random.choice(tgl)\n",
    "    duit = random.randint(70000000, 3000000000)\n",
    "    payload = {\n",
    "        'username': 'errykusumayadi',  # disabled dan tidak muncul di form\n",
    "        'name': 'Erry Kusumayadi',  # disabled\n",
    "        'divisi': 'ITAIS',  # disabled\n",
    "        'manajer': random.choice(manajer_random),\n",
    "        'kategori': random.choice(kategori_random),\n",
    "        'aktivitas': fake.text(),\n",
    "        'due': {\n",
    "            'due_quarter': get_quarter(random_tgl),\n",
    "            'due_date': random_tgl,\n",
    "        },\n",
    "        'bsu': {\n",
    "            'bsu_kategori': 'fix',\n",
    "            'bsu_fix': duit\n",
    "        }\n",
    "    }\n",
    "\n",
    "    data = requests.post(\n",
    "        'https://ravenclaw-services.herokuapp.com/CRUD/client/form-pengajuan', json=payload)\n",
    "    test = data.json()"
   ]
  },
  {
   "cell_type": "code",
   "execution_count": 12,
   "metadata": {},
   "outputs": [
    {
     "ename": "JSONDecodeError",
     "evalue": "Expecting value: line 1 column 1 (char 0)",
     "output_type": "error",
     "traceback": [
      "\u001b[1;31m---------------------------------------------------------------------------\u001b[0m",
      "\u001b[1;31mJSONDecodeError\u001b[0m                           Traceback (most recent call last)",
      "\u001b[1;32mc:\\Users\\hafid\\AppData\\Local\\Programs\\Python\\Python310\\lib\\site-packages\\requests\\models.py\u001b[0m in \u001b[0;36mjson\u001b[1;34m(self, **kwargs)\u001b[0m\n\u001b[0;32m    970\u001b[0m         \u001b[1;32mtry\u001b[0m\u001b[1;33m:\u001b[0m\u001b[1;33m\u001b[0m\u001b[1;33m\u001b[0m\u001b[0m\n\u001b[1;32m--> 971\u001b[1;33m             \u001b[1;32mreturn\u001b[0m \u001b[0mcomplexjson\u001b[0m\u001b[1;33m.\u001b[0m\u001b[0mloads\u001b[0m\u001b[1;33m(\u001b[0m\u001b[0mself\u001b[0m\u001b[1;33m.\u001b[0m\u001b[0mtext\u001b[0m\u001b[1;33m,\u001b[0m \u001b[1;33m**\u001b[0m\u001b[0mkwargs\u001b[0m\u001b[1;33m)\u001b[0m\u001b[1;33m\u001b[0m\u001b[1;33m\u001b[0m\u001b[0m\n\u001b[0m\u001b[0;32m    972\u001b[0m         \u001b[1;32mexcept\u001b[0m \u001b[0mJSONDecodeError\u001b[0m \u001b[1;32mas\u001b[0m \u001b[0me\u001b[0m\u001b[1;33m:\u001b[0m\u001b[1;33m\u001b[0m\u001b[1;33m\u001b[0m\u001b[0m\n",
      "\u001b[1;32mc:\\Users\\hafid\\AppData\\Local\\Programs\\Python\\Python310\\lib\\json\\__init__.py\u001b[0m in \u001b[0;36mloads\u001b[1;34m(s, cls, object_hook, parse_float, parse_int, parse_constant, object_pairs_hook, **kw)\u001b[0m\n\u001b[0;32m    345\u001b[0m             parse_constant is None and object_pairs_hook is None and not kw):\n\u001b[1;32m--> 346\u001b[1;33m         \u001b[1;32mreturn\u001b[0m \u001b[0m_default_decoder\u001b[0m\u001b[1;33m.\u001b[0m\u001b[0mdecode\u001b[0m\u001b[1;33m(\u001b[0m\u001b[0ms\u001b[0m\u001b[1;33m)\u001b[0m\u001b[1;33m\u001b[0m\u001b[1;33m\u001b[0m\u001b[0m\n\u001b[0m\u001b[0;32m    347\u001b[0m     \u001b[1;32mif\u001b[0m \u001b[0mcls\u001b[0m \u001b[1;32mis\u001b[0m \u001b[1;32mNone\u001b[0m\u001b[1;33m:\u001b[0m\u001b[1;33m\u001b[0m\u001b[1;33m\u001b[0m\u001b[0m\n",
      "\u001b[1;32mc:\\Users\\hafid\\AppData\\Local\\Programs\\Python\\Python310\\lib\\json\\decoder.py\u001b[0m in \u001b[0;36mdecode\u001b[1;34m(self, s, _w)\u001b[0m\n\u001b[0;32m    336\u001b[0m         \"\"\"\n\u001b[1;32m--> 337\u001b[1;33m         \u001b[0mobj\u001b[0m\u001b[1;33m,\u001b[0m \u001b[0mend\u001b[0m \u001b[1;33m=\u001b[0m \u001b[0mself\u001b[0m\u001b[1;33m.\u001b[0m\u001b[0mraw_decode\u001b[0m\u001b[1;33m(\u001b[0m\u001b[0ms\u001b[0m\u001b[1;33m,\u001b[0m \u001b[0midx\u001b[0m\u001b[1;33m=\u001b[0m\u001b[0m_w\u001b[0m\u001b[1;33m(\u001b[0m\u001b[0ms\u001b[0m\u001b[1;33m,\u001b[0m \u001b[1;36m0\u001b[0m\u001b[1;33m)\u001b[0m\u001b[1;33m.\u001b[0m\u001b[0mend\u001b[0m\u001b[1;33m(\u001b[0m\u001b[1;33m)\u001b[0m\u001b[1;33m)\u001b[0m\u001b[1;33m\u001b[0m\u001b[1;33m\u001b[0m\u001b[0m\n\u001b[0m\u001b[0;32m    338\u001b[0m         \u001b[0mend\u001b[0m \u001b[1;33m=\u001b[0m \u001b[0m_w\u001b[0m\u001b[1;33m(\u001b[0m\u001b[0ms\u001b[0m\u001b[1;33m,\u001b[0m \u001b[0mend\u001b[0m\u001b[1;33m)\u001b[0m\u001b[1;33m.\u001b[0m\u001b[0mend\u001b[0m\u001b[1;33m(\u001b[0m\u001b[1;33m)\u001b[0m\u001b[1;33m\u001b[0m\u001b[1;33m\u001b[0m\u001b[0m\n",
      "\u001b[1;32mc:\\Users\\hafid\\AppData\\Local\\Programs\\Python\\Python310\\lib\\json\\decoder.py\u001b[0m in \u001b[0;36mraw_decode\u001b[1;34m(self, s, idx)\u001b[0m\n\u001b[0;32m    354\u001b[0m         \u001b[1;32mexcept\u001b[0m \u001b[0mStopIteration\u001b[0m \u001b[1;32mas\u001b[0m \u001b[0merr\u001b[0m\u001b[1;33m:\u001b[0m\u001b[1;33m\u001b[0m\u001b[1;33m\u001b[0m\u001b[0m\n\u001b[1;32m--> 355\u001b[1;33m             \u001b[1;32mraise\u001b[0m \u001b[0mJSONDecodeError\u001b[0m\u001b[1;33m(\u001b[0m\u001b[1;34m\"Expecting value\"\u001b[0m\u001b[1;33m,\u001b[0m \u001b[0ms\u001b[0m\u001b[1;33m,\u001b[0m \u001b[0merr\u001b[0m\u001b[1;33m.\u001b[0m\u001b[0mvalue\u001b[0m\u001b[1;33m)\u001b[0m \u001b[1;32mfrom\u001b[0m \u001b[1;32mNone\u001b[0m\u001b[1;33m\u001b[0m\u001b[1;33m\u001b[0m\u001b[0m\n\u001b[0m\u001b[0;32m    356\u001b[0m         \u001b[1;32mreturn\u001b[0m \u001b[0mobj\u001b[0m\u001b[1;33m,\u001b[0m \u001b[0mend\u001b[0m\u001b[1;33m\u001b[0m\u001b[1;33m\u001b[0m\u001b[0m\n",
      "\u001b[1;31mJSONDecodeError\u001b[0m: Expecting value: line 1 column 1 (char 0)",
      "\nDuring handling of the above exception, another exception occurred:\n",
      "\u001b[1;31mJSONDecodeError\u001b[0m                           Traceback (most recent call last)",
      "\u001b[1;32m~\\AppData\\Local\\Temp/ipykernel_6292/3030443957.py\u001b[0m in \u001b[0;36m<module>\u001b[1;34m\u001b[0m\n\u001b[0;32m     19\u001b[0m data = requests.post(\n\u001b[0;32m     20\u001b[0m     'https://ravenclaw-services.herokuapp.com/CRUD/client/form-pengajuan', json=payload)\n\u001b[1;32m---> 21\u001b[1;33m \u001b[0mtest\u001b[0m \u001b[1;33m=\u001b[0m \u001b[0mdata\u001b[0m\u001b[1;33m.\u001b[0m\u001b[0mjson\u001b[0m\u001b[1;33m(\u001b[0m\u001b[1;33m)\u001b[0m\u001b[1;33m\u001b[0m\u001b[1;33m\u001b[0m\u001b[0m\n\u001b[0m\u001b[0;32m     22\u001b[0m \u001b[0mtest\u001b[0m\u001b[1;33m\u001b[0m\u001b[1;33m\u001b[0m\u001b[0m\n",
      "\u001b[1;32mc:\\Users\\hafid\\AppData\\Local\\Programs\\Python\\Python310\\lib\\site-packages\\requests\\models.py\u001b[0m in \u001b[0;36mjson\u001b[1;34m(self, **kwargs)\u001b[0m\n\u001b[0;32m    973\u001b[0m             \u001b[1;31m# Catch JSON-related errors and raise as requests.JSONDecodeError\u001b[0m\u001b[1;33m\u001b[0m\u001b[1;33m\u001b[0m\u001b[0m\n\u001b[0;32m    974\u001b[0m             \u001b[1;31m# This aliases json.JSONDecodeError and simplejson.JSONDecodeError\u001b[0m\u001b[1;33m\u001b[0m\u001b[1;33m\u001b[0m\u001b[0m\n\u001b[1;32m--> 975\u001b[1;33m             \u001b[1;32mraise\u001b[0m \u001b[0mRequestsJSONDecodeError\u001b[0m\u001b[1;33m(\u001b[0m\u001b[0me\u001b[0m\u001b[1;33m.\u001b[0m\u001b[0mmsg\u001b[0m\u001b[1;33m,\u001b[0m \u001b[0me\u001b[0m\u001b[1;33m.\u001b[0m\u001b[0mdoc\u001b[0m\u001b[1;33m,\u001b[0m \u001b[0me\u001b[0m\u001b[1;33m.\u001b[0m\u001b[0mpos\u001b[0m\u001b[1;33m)\u001b[0m\u001b[1;33m\u001b[0m\u001b[1;33m\u001b[0m\u001b[0m\n\u001b[0m\u001b[0;32m    976\u001b[0m \u001b[1;33m\u001b[0m\u001b[0m\n\u001b[0;32m    977\u001b[0m     \u001b[1;33m@\u001b[0m\u001b[0mproperty\u001b[0m\u001b[1;33m\u001b[0m\u001b[1;33m\u001b[0m\u001b[0m\n",
      "\u001b[1;31mJSONDecodeError\u001b[0m: Expecting value: line 1 column 1 (char 0)"
     ]
    }
   ],
   "source": [
    "\n",
    "\n",
    "payload = {\n",
    "    'username': 'rudinur',  # disabled dan tidak muncul di form\n",
    "    'name': 'Rudi Nur Sulistiyono',  # disabled\n",
    "    'divisi': 'AO',  # disabled\n",
    "    'manajer': 'Danton',\n",
    "    'kategori': 'CAPEX',\n",
    "    'aktivitas': 'Pengadaan Perangkat network',\n",
    "    'due': {\n",
    "        'due_quarter': 'Q3',\n",
    "        'due_date': '2023-11-24',\n",
    "    },\n",
    "    'bsu': {\n",
    "        'bsu_kategori': 'fluktuatif',\n",
    "        'bsu_fix': None\n",
    "    },\n",
    "    'mitra' : 'PT Telkom Indonesia',\n",
    "    'metode_pengadaan': 'Pelelangan Terbuka'\n",
    "}\n",
    "\n",
    "data = requests.post(\n",
    "    'https://ravenclaw-services.herokuapp.com/CRUD/client/form-pengajuan', json=payload)\n",
    "test = data.json()\n",
    "test"
   ]
  },
  {
   "cell_type": "code",
   "execution_count": 139,
   "metadata": {},
   "outputs": [],
   "source": [
    "\n",
    "payload = {\n",
    "    'username': 'hanggoro'\n",
    "}\n",
    "data = requests.post(\n",
    "    'https://ravenclaw-services.herokuapp.com/CRUD/client/lihat-data-pengajuan', json=payload)\n",
    "df = data.json()\n"
   ]
  },
  {
   "cell_type": "code",
   "execution_count": 1,
   "metadata": {},
   "outputs": [
    {
     "data": {
      "text/html": [
       "<div>\n",
       "<style scoped>\n",
       "    .dataframe tbody tr th:only-of-type {\n",
       "        vertical-align: middle;\n",
       "    }\n",
       "\n",
       "    .dataframe tbody tr th {\n",
       "        vertical-align: top;\n",
       "    }\n",
       "\n",
       "    .dataframe thead th {\n",
       "        text-align: right;\n",
       "    }\n",
       "</style>\n",
       "<table border=\"1\" class=\"dataframe\">\n",
       "  <thead>\n",
       "    <tr style=\"text-align: right;\">\n",
       "      <th></th>\n",
       "      <th>order_id</th>\n",
       "      <th>username</th>\n",
       "      <th>name</th>\n",
       "      <th>divisi</th>\n",
       "      <th>manajer</th>\n",
       "      <th>kategori</th>\n",
       "      <th>aktivitas</th>\n",
       "      <th>status</th>\n",
       "      <th>due</th>\n",
       "      <th>bsu</th>\n",
       "      <th>metode_pengadaan</th>\n",
       "    </tr>\n",
       "  </thead>\n",
       "  <tbody>\n",
       "    <tr>\n",
       "      <th>0</th>\n",
       "      <td>AO-1665454378</td>\n",
       "      <td>rudinur</td>\n",
       "      <td>Rudi Nur Sulistiyono</td>\n",
       "      <td>AO</td>\n",
       "      <td>Hudi Suyatno</td>\n",
       "      <td>OPEX</td>\n",
       "      <td>Fall method friend decade at sometimes persona...</td>\n",
       "      <td>PENDING</td>\n",
       "      <td>{'due_quarter': 'Q3', 'due_date': '2022-11-07'}</td>\n",
       "      <td>{'bsu_kategori': 'fix', 'bsu_fix': 923833227}</td>\n",
       "      <td>pemilihan_langsung</td>\n",
       "    </tr>\n",
       "    <tr>\n",
       "      <th>1</th>\n",
       "      <td>AO-1665454380</td>\n",
       "      <td>rudinur</td>\n",
       "      <td>Rudi Nur Sulistiyono</td>\n",
       "      <td>AO</td>\n",
       "      <td>Egi Legiman</td>\n",
       "      <td>CAPEX</td>\n",
       "      <td>Decade military body result specific quality. ...</td>\n",
       "      <td>PENDING</td>\n",
       "      <td>{'due_quarter': 'Q1', 'due_date': '2022-02-11'}</td>\n",
       "      <td>{'bsu_kategori': 'fix', 'bsu_fix': 1920560686}</td>\n",
       "      <td>lelang_terbuka</td>\n",
       "    </tr>\n",
       "    <tr>\n",
       "      <th>2</th>\n",
       "      <td>AO-1665454382</td>\n",
       "      <td>rudinur</td>\n",
       "      <td>Rudi Nur Sulistiyono</td>\n",
       "      <td>AO</td>\n",
       "      <td>Hudi Suyatno</td>\n",
       "      <td>OPEX</td>\n",
       "      <td>Technology technology international old might ...</td>\n",
       "      <td>PENDING</td>\n",
       "      <td>{'due_quarter': 'Q1', 'due_date': '2022-01-09'}</td>\n",
       "      <td>{'bsu_kategori': 'fix', 'bsu_fix': 593082223}</td>\n",
       "      <td>pemilihan_langsung</td>\n",
       "    </tr>\n",
       "    <tr>\n",
       "      <th>3</th>\n",
       "      <td>AO-1665454384</td>\n",
       "      <td>rudinur</td>\n",
       "      <td>Rudi Nur Sulistiyono</td>\n",
       "      <td>AO</td>\n",
       "      <td>Adi Nugroho</td>\n",
       "      <td>CAPEX</td>\n",
       "      <td>Believe front admit we.\\nDescribe staff best c...</td>\n",
       "      <td>PENDING</td>\n",
       "      <td>{'due_quarter': 'Q1', 'due_date': '2022-01-24'}</td>\n",
       "      <td>{'bsu_kategori': 'fix', 'bsu_fix': 1139819800}</td>\n",
       "      <td>pemilihan_langsung</td>\n",
       "    </tr>\n",
       "    <tr>\n",
       "      <th>4</th>\n",
       "      <td>AO-1665454386</td>\n",
       "      <td>rudinur</td>\n",
       "      <td>Rudi Nur Sulistiyono</td>\n",
       "      <td>AO</td>\n",
       "      <td>Danton</td>\n",
       "      <td>CAPEX</td>\n",
       "      <td>Itself trial already according hand. Heavy per...</td>\n",
       "      <td>PENDING</td>\n",
       "      <td>{'due_quarter': 'Q1', 'due_date': '2022-03-09'}</td>\n",
       "      <td>{'bsu_kategori': 'fix', 'bsu_fix': 126003254}</td>\n",
       "      <td>lelang_terbuka</td>\n",
       "    </tr>\n",
       "    <tr>\n",
       "      <th>...</th>\n",
       "      <td>...</td>\n",
       "      <td>...</td>\n",
       "      <td>...</td>\n",
       "      <td>...</td>\n",
       "      <td>...</td>\n",
       "      <td>...</td>\n",
       "      <td>...</td>\n",
       "      <td>...</td>\n",
       "      <td>...</td>\n",
       "      <td>...</td>\n",
       "      <td>...</td>\n",
       "    </tr>\n",
       "    <tr>\n",
       "      <th>235</th>\n",
       "      <td>ITA-1665456179</td>\n",
       "      <td>errykusumayadi</td>\n",
       "      <td>Erry Kusumayadi</td>\n",
       "      <td>ITAIS</td>\n",
       "      <td>Fikri</td>\n",
       "      <td>OPEX</td>\n",
       "      <td>Hold modern decade time both. Because someone ...</td>\n",
       "      <td>PENDING</td>\n",
       "      <td>{'due_quarter': 'Q3', 'due_date': '2022-08-29'}</td>\n",
       "      <td>{'bsu_kategori': 'fix', 'bsu_fix': 1952722428}</td>\n",
       "      <td>pemilihan_langsung</td>\n",
       "    </tr>\n",
       "    <tr>\n",
       "      <th>236</th>\n",
       "      <td>ITA-1665456181</td>\n",
       "      <td>errykusumayadi</td>\n",
       "      <td>Erry Kusumayadi</td>\n",
       "      <td>ITAIS</td>\n",
       "      <td>Hamdani</td>\n",
       "      <td>CAPEX</td>\n",
       "      <td>Will weight simple successful show threat stud...</td>\n",
       "      <td>PENDING</td>\n",
       "      <td>{'due_quarter': 'Q1', 'due_date': '2022-01-01'}</td>\n",
       "      <td>{'bsu_kategori': 'fix', 'bsu_fix': 697743946}</td>\n",
       "      <td>pemilihan_langsung</td>\n",
       "    </tr>\n",
       "    <tr>\n",
       "      <th>237</th>\n",
       "      <td>ITA-1665456183</td>\n",
       "      <td>errykusumayadi</td>\n",
       "      <td>Erry Kusumayadi</td>\n",
       "      <td>ITAIS</td>\n",
       "      <td>Hamdani</td>\n",
       "      <td>OPEX</td>\n",
       "      <td>We national above leader. Wish nor whole gover...</td>\n",
       "      <td>PENDING</td>\n",
       "      <td>{'due_quarter': 'Q3', 'due_date': '2022-09-13'}</td>\n",
       "      <td>{'bsu_kategori': 'fix', 'bsu_fix': 387328011}</td>\n",
       "      <td>lelang_terbatas</td>\n",
       "    </tr>\n",
       "    <tr>\n",
       "      <th>238</th>\n",
       "      <td>ITA-1665456186</td>\n",
       "      <td>errykusumayadi</td>\n",
       "      <td>Erry Kusumayadi</td>\n",
       "      <td>ITAIS</td>\n",
       "      <td>Fikri</td>\n",
       "      <td>OPEX</td>\n",
       "      <td>Eye measure camera series. Education south ene...</td>\n",
       "      <td>PENDING</td>\n",
       "      <td>{'due_quarter': 'Q3', 'due_date': '2022-11-22'}</td>\n",
       "      <td>{'bsu_kategori': 'fix', 'bsu_fix': 101279208}</td>\n",
       "      <td>lelang_terbatas</td>\n",
       "    </tr>\n",
       "    <tr>\n",
       "      <th>239</th>\n",
       "      <td>ITA-1665456188</td>\n",
       "      <td>errykusumayadi</td>\n",
       "      <td>Erry Kusumayadi</td>\n",
       "      <td>ITAIS</td>\n",
       "      <td>Syukuri</td>\n",
       "      <td>OPEX</td>\n",
       "      <td>Right fill movie special candidate. Above bank...</td>\n",
       "      <td>PENDING</td>\n",
       "      <td>{'due_quarter': 'Q1', 'due_date': '2022-02-27'}</td>\n",
       "      <td>{'bsu_kategori': 'fix', 'bsu_fix': 2540351514}</td>\n",
       "      <td>pemilihan_langsung</td>\n",
       "    </tr>\n",
       "  </tbody>\n",
       "</table>\n",
       "<p>240 rows × 11 columns</p>\n",
       "</div>"
      ],
      "text/plain": [
       "           order_id        username                  name divisi  \\\n",
       "0     AO-1665454378         rudinur  Rudi Nur Sulistiyono     AO   \n",
       "1     AO-1665454380         rudinur  Rudi Nur Sulistiyono     AO   \n",
       "2     AO-1665454382         rudinur  Rudi Nur Sulistiyono     AO   \n",
       "3     AO-1665454384         rudinur  Rudi Nur Sulistiyono     AO   \n",
       "4     AO-1665454386         rudinur  Rudi Nur Sulistiyono     AO   \n",
       "..              ...             ...                   ...    ...   \n",
       "235  ITA-1665456179  errykusumayadi       Erry Kusumayadi  ITAIS   \n",
       "236  ITA-1665456181  errykusumayadi       Erry Kusumayadi  ITAIS   \n",
       "237  ITA-1665456183  errykusumayadi       Erry Kusumayadi  ITAIS   \n",
       "238  ITA-1665456186  errykusumayadi       Erry Kusumayadi  ITAIS   \n",
       "239  ITA-1665456188  errykusumayadi       Erry Kusumayadi  ITAIS   \n",
       "\n",
       "          manajer kategori                                          aktivitas  \\\n",
       "0    Hudi Suyatno     OPEX  Fall method friend decade at sometimes persona...   \n",
       "1     Egi Legiman    CAPEX  Decade military body result specific quality. ...   \n",
       "2    Hudi Suyatno     OPEX  Technology technology international old might ...   \n",
       "3     Adi Nugroho    CAPEX  Believe front admit we.\\nDescribe staff best c...   \n",
       "4          Danton    CAPEX  Itself trial already according hand. Heavy per...   \n",
       "..            ...      ...                                                ...   \n",
       "235         Fikri     OPEX  Hold modern decade time both. Because someone ...   \n",
       "236       Hamdani    CAPEX  Will weight simple successful show threat stud...   \n",
       "237       Hamdani     OPEX  We national above leader. Wish nor whole gover...   \n",
       "238         Fikri     OPEX  Eye measure camera series. Education south ene...   \n",
       "239       Syukuri     OPEX  Right fill movie special candidate. Above bank...   \n",
       "\n",
       "      status                                              due  \\\n",
       "0    PENDING  {'due_quarter': 'Q3', 'due_date': '2022-11-07'}   \n",
       "1    PENDING  {'due_quarter': 'Q1', 'due_date': '2022-02-11'}   \n",
       "2    PENDING  {'due_quarter': 'Q1', 'due_date': '2022-01-09'}   \n",
       "3    PENDING  {'due_quarter': 'Q1', 'due_date': '2022-01-24'}   \n",
       "4    PENDING  {'due_quarter': 'Q1', 'due_date': '2022-03-09'}   \n",
       "..       ...                                              ...   \n",
       "235  PENDING  {'due_quarter': 'Q3', 'due_date': '2022-08-29'}   \n",
       "236  PENDING  {'due_quarter': 'Q1', 'due_date': '2022-01-01'}   \n",
       "237  PENDING  {'due_quarter': 'Q3', 'due_date': '2022-09-13'}   \n",
       "238  PENDING  {'due_quarter': 'Q3', 'due_date': '2022-11-22'}   \n",
       "239  PENDING  {'due_quarter': 'Q1', 'due_date': '2022-02-27'}   \n",
       "\n",
       "                                                bsu    metode_pengadaan  \n",
       "0     {'bsu_kategori': 'fix', 'bsu_fix': 923833227}  pemilihan_langsung  \n",
       "1    {'bsu_kategori': 'fix', 'bsu_fix': 1920560686}      lelang_terbuka  \n",
       "2     {'bsu_kategori': 'fix', 'bsu_fix': 593082223}  pemilihan_langsung  \n",
       "3    {'bsu_kategori': 'fix', 'bsu_fix': 1139819800}  pemilihan_langsung  \n",
       "4     {'bsu_kategori': 'fix', 'bsu_fix': 126003254}      lelang_terbuka  \n",
       "..                                              ...                 ...  \n",
       "235  {'bsu_kategori': 'fix', 'bsu_fix': 1952722428}  pemilihan_langsung  \n",
       "236   {'bsu_kategori': 'fix', 'bsu_fix': 697743946}  pemilihan_langsung  \n",
       "237   {'bsu_kategori': 'fix', 'bsu_fix': 387328011}     lelang_terbatas  \n",
       "238   {'bsu_kategori': 'fix', 'bsu_fix': 101279208}     lelang_terbatas  \n",
       "239  {'bsu_kategori': 'fix', 'bsu_fix': 2540351514}  pemilihan_langsung  \n",
       "\n",
       "[240 rows x 11 columns]"
      ]
     },
     "execution_count": 1,
     "metadata": {},
     "output_type": "execute_result"
    }
   ],
   "source": [
    "import pandas as pd\n",
    "import requests\n",
    "data = requests.get(\n",
    "    'https://ravenclaw-services.herokuapp.com/CRUD/admin/lihat-data-pengajuan')\n",
    "df = pd.DataFrame(data.json())\n",
    "df\n"
   ]
  },
  {
   "cell_type": "code",
   "execution_count": 6,
   "metadata": {},
   "outputs": [
    {
     "data": {
      "text/plain": [
       "divisi\n",
       "AO         70\n",
       "DEVOPS     70\n",
       "ITAIS     100\n",
       "Name: order_id, dtype: int64"
      ]
     },
     "execution_count": 6,
     "metadata": {},
     "output_type": "execute_result"
    }
   ],
   "source": [
    "df.groupby(['divisi']).count()['order_id']"
   ]
  },
  {
   "cell_type": "code",
   "execution_count": 142,
   "metadata": {},
   "outputs": [
    {
     "data": {
      "text/html": [
       "<div>\n",
       "<style scoped>\n",
       "    .dataframe tbody tr th:only-of-type {\n",
       "        vertical-align: middle;\n",
       "    }\n",
       "\n",
       "    .dataframe tbody tr th {\n",
       "        vertical-align: top;\n",
       "    }\n",
       "\n",
       "    .dataframe thead th {\n",
       "        text-align: right;\n",
       "    }\n",
       "</style>\n",
       "<table border=\"1\" class=\"dataframe\">\n",
       "  <thead>\n",
       "    <tr style=\"text-align: right;\">\n",
       "      <th></th>\n",
       "      <th>order_id</th>\n",
       "      <th>name</th>\n",
       "      <th>divisi</th>\n",
       "      <th>aktivitas</th>\n",
       "      <th>due_date</th>\n",
       "      <th>kategori</th>\n",
       "      <th>status</th>\n",
       "      <th>bsu_fix</th>\n",
       "    </tr>\n",
       "  </thead>\n",
       "  <tbody>\n",
       "    <tr>\n",
       "      <th>0</th>\n",
       "      <td>DEV-1664961432</td>\n",
       "      <td>Hanggoro Feriawan</td>\n",
       "      <td>DEVOPS</td>\n",
       "      <td>Pengadaan Jasa Sewa Cloud Azure</td>\n",
       "      <td>2023-05-30</td>\n",
       "      <td>OPEX</td>\n",
       "      <td>PENDING</td>\n",
       "      <td>6000000.0</td>\n",
       "    </tr>\n",
       "    <tr>\n",
       "      <th>1</th>\n",
       "      <td>DEV-1664961706</td>\n",
       "      <td>Hanggoro Feriawan</td>\n",
       "      <td>DEVOPS</td>\n",
       "      <td>Pembelian Perangkat IT, MACBOOK AIR M2 sejumla...</td>\n",
       "      <td>2023-04-19</td>\n",
       "      <td>CAPEX</td>\n",
       "      <td>PENDING</td>\n",
       "      <td>14000000.0</td>\n",
       "    </tr>\n",
       "    <tr>\n",
       "      <th>2</th>\n",
       "      <td>DEV-1664961784</td>\n",
       "      <td>Hanggoro Feriawan</td>\n",
       "      <td>DEVOPS</td>\n",
       "      <td>Implementasi Robotics Process Automation(RPA) ...</td>\n",
       "      <td>2023-05-23</td>\n",
       "      <td>CAPEX</td>\n",
       "      <td>PENDING</td>\n",
       "      <td>17000000.0</td>\n",
       "    </tr>\n",
       "  </tbody>\n",
       "</table>\n",
       "</div>"
      ],
      "text/plain": [
       "         order_id               name  divisi  \\\n",
       "0  DEV-1664961432  Hanggoro Feriawan  DEVOPS   \n",
       "1  DEV-1664961706  Hanggoro Feriawan  DEVOPS   \n",
       "2  DEV-1664961784  Hanggoro Feriawan  DEVOPS   \n",
       "\n",
       "                                           aktivitas    due_date kategori  \\\n",
       "0                    Pengadaan Jasa Sewa Cloud Azure  2023-05-30     OPEX   \n",
       "1  Pembelian Perangkat IT, MACBOOK AIR M2 sejumla...  2023-04-19    CAPEX   \n",
       "2  Implementasi Robotics Process Automation(RPA) ...  2023-05-23    CAPEX   \n",
       "\n",
       "    status     bsu_fix  \n",
       "0  PENDING   6000000.0  \n",
       "1  PENDING  14000000.0  \n",
       "2  PENDING  17000000.0  "
      ]
     },
     "execution_count": 142,
     "metadata": {},
     "output_type": "execute_result"
    }
   ],
   "source": [
    "import pandas as pd\n",
    "pd.DataFrame(df)"
   ]
  },
  {
   "cell_type": "code",
   "execution_count": 1,
   "metadata": {},
   "outputs": [],
   "source": [
    "progress = 20\n",
    "\n",
    "current_progress = ['a','b','c']"
   ]
  },
  {
   "cell_type": "code",
   "execution_count": 6,
   "metadata": {},
   "outputs": [
    {
     "name": "stderr",
     "output_type": "stream",
     "text": [
      " 50%|█████     | 5/10 [00:06<00:06,  1.21s/it]\n"
     ]
    },
    {
     "ename": "KeyboardInterrupt",
     "evalue": "",
     "output_type": "error",
     "traceback": [
      "\u001b[1;31m---------------------------------------------------------------------------\u001b[0m",
      "\u001b[1;31mKeyboardInterrupt\u001b[0m                         Traceback (most recent call last)",
      "\u001b[1;32m~\\AppData\\Local\\Temp/ipykernel_7860/3660012911.py\u001b[0m in \u001b[0;36m<module>\u001b[1;34m\u001b[0m\n\u001b[0;32m      3\u001b[0m \u001b[1;33m\u001b[0m\u001b[0m\n\u001b[0;32m      4\u001b[0m \u001b[1;32mfor\u001b[0m \u001b[0mi\u001b[0m \u001b[1;32min\u001b[0m \u001b[0mtqdm\u001b[0m\u001b[1;33m(\u001b[0m\u001b[0mrange\u001b[0m\u001b[1;33m(\u001b[0m\u001b[1;36m10\u001b[0m\u001b[1;33m)\u001b[0m\u001b[1;33m)\u001b[0m\u001b[1;33m:\u001b[0m\u001b[1;33m\u001b[0m\u001b[1;33m\u001b[0m\u001b[0m\n\u001b[1;32m----> 5\u001b[1;33m     \u001b[0mtime\u001b[0m\u001b[1;33m.\u001b[0m\u001b[0msleep\u001b[0m\u001b[1;33m(\u001b[0m\u001b[1;36m1\u001b[0m\u001b[1;33m)\u001b[0m\u001b[1;33m\u001b[0m\u001b[1;33m\u001b[0m\u001b[0m\n\u001b[0m",
      "\u001b[1;31mKeyboardInterrupt\u001b[0m: "
     ]
    }
   ],
   "source": [
    "from tqdm import tqdm\n",
    "import time\n",
    "\n",
    "for i in tqdm(range(10)):\n",
    "    time.sleep(1)"
   ]
  },
  {
   "cell_type": "code",
   "execution_count": null,
   "metadata": {},
   "outputs": [],
   "source": []
  }
 ],
 "metadata": {
  "kernelspec": {
   "display_name": "Python 3.10.1 64-bit",
   "language": "python",
   "name": "python3"
  },
  "language_info": {
   "codemirror_mode": {
    "name": "ipython",
    "version": 3
   },
   "file_extension": ".py",
   "mimetype": "text/x-python",
   "name": "python",
   "nbconvert_exporter": "python",
   "pygments_lexer": "ipython3",
   "version": "3.10.1"
  },
  "orig_nbformat": 4,
  "vscode": {
   "interpreter": {
    "hash": "9b00adcca2d127d9453d757094884878814abfad2252649bfcca8391f83476c8"
   }
  }
 },
 "nbformat": 4,
 "nbformat_minor": 2
}
