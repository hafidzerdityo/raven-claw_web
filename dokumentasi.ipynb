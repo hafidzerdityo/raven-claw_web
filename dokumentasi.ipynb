{
 "cells": [
  {
   "cell_type": "code",
   "execution_count": 1,
   "metadata": {},
   "outputs": [],
   "source": [
    "import requests # import library untuk API Call (HTTP Call)\n"
   ]
  },
  {
   "cell_type": "markdown",
   "metadata": {},
   "source": [
    "#### GET Request"
   ]
  },
  {
   "cell_type": "code",
   "execution_count": 2,
   "metadata": {},
   "outputs": [
    {
     "data": {
      "text/plain": [
       "{'message': 'This is encrypted lagi: 3e8a9952527e6d60a02d1dd53b97b2484cb1f6d5a21c3c7feb241054ab7eed50bd4f0f1fe5586cb0a6968c7fbb0aed12ce00a9f0a7787ed6dfd632134d2fe583'}"
      ]
     },
     "execution_count": 2,
     "metadata": {},
     "output_type": "execute_result"
    }
   ],
   "source": [
    "data = requests.get('https://ravenclaw-services.herokuapp.com/test')\n",
    "data.json()\n"
   ]
  },
  {
   "cell_type": "code",
   "execution_count": 80,
   "metadata": {},
   "outputs": [
    {
     "data": {
      "text/html": [
       "<div>\n",
       "<style scoped>\n",
       "    .dataframe tbody tr th:only-of-type {\n",
       "        vertical-align: middle;\n",
       "    }\n",
       "\n",
       "    .dataframe tbody tr th {\n",
       "        vertical-align: top;\n",
       "    }\n",
       "\n",
       "    .dataframe thead th {\n",
       "        text-align: right;\n",
       "    }\n",
       "</style>\n",
       "<table border=\"1\" class=\"dataframe\">\n",
       "  <thead>\n",
       "    <tr style=\"text-align: right;\">\n",
       "      <th></th>\n",
       "      <th>order_id</th>\n",
       "      <th>username</th>\n",
       "      <th>name</th>\n",
       "      <th>divisi</th>\n",
       "      <th>aktivitas</th>\n",
       "      <th>due_date</th>\n",
       "      <th>bsu_fix</th>\n",
       "      <th>status</th>\n",
       "    </tr>\n",
       "  </thead>\n",
       "  <tbody>\n",
       "    <tr>\n",
       "      <th>0</th>\n",
       "      <td>DEV-20220830-1664950507</td>\n",
       "      <td>hanggoro</td>\n",
       "      <td>Hanggoro Feriawan</td>\n",
       "      <td>DEVOPS</td>\n",
       "      <td>Pengajuan service AWS S3 1 Tera per month</td>\n",
       "      <td>2022-08-30</td>\n",
       "      <td>4.000000e+08</td>\n",
       "      <td>PENDING</td>\n",
       "    </tr>\n",
       "    <tr>\n",
       "      <th>1</th>\n",
       "      <td>DEV-20220518-1664950531</td>\n",
       "      <td>hanggoro</td>\n",
       "      <td>Hanggoro Feriawan</td>\n",
       "      <td>DEVOPS</td>\n",
       "      <td>Pengajuan laptop macbook 100 unit untuk divisi...</td>\n",
       "      <td>2022-05-18</td>\n",
       "      <td>3.000000e+10</td>\n",
       "      <td>PENDING</td>\n",
       "    </tr>\n",
       "    <tr>\n",
       "      <th>2</th>\n",
       "      <td>ITA-20221111-1664955112</td>\n",
       "      <td>anhar</td>\n",
       "      <td>Anhar</td>\n",
       "      <td>ITAIS</td>\n",
       "      <td>Pengajuan penutupan Data Center, dan migrasi k...</td>\n",
       "      <td>2022-11-11</td>\n",
       "      <td>1.500000e+09</td>\n",
       "      <td>PENDING</td>\n",
       "    </tr>\n",
       "  </tbody>\n",
       "</table>\n",
       "</div>"
      ],
      "text/plain": [
       "                  order_id  username               name  divisi  \\\n",
       "0  DEV-20220830-1664950507  hanggoro  Hanggoro Feriawan  DEVOPS   \n",
       "1  DEV-20220518-1664950531  hanggoro  Hanggoro Feriawan  DEVOPS   \n",
       "2  ITA-20221111-1664955112     anhar              Anhar   ITAIS   \n",
       "\n",
       "                                           aktivitas    due_date  \\\n",
       "0          Pengajuan service AWS S3 1 Tera per month  2022-08-30   \n",
       "1  Pengajuan laptop macbook 100 unit untuk divisi...  2022-05-18   \n",
       "2  Pengajuan penutupan Data Center, dan migrasi k...  2022-11-11   \n",
       "\n",
       "        bsu_fix   status  \n",
       "0  4.000000e+08  PENDING  \n",
       "1  3.000000e+10  PENDING  \n",
       "2  1.500000e+09  PENDING  "
      ]
     },
     "execution_count": 80,
     "metadata": {},
     "output_type": "execute_result"
    }
   ],
   "source": [
    "import pandas as pd\n",
    "data = requests.get(\n",
    "    'https://ravenclaw-services.herokuapp.com/CRUD/admin/lihat-data-pengajuan')\n",
    "pd.DataFrame(data.json())\n"
   ]
  },
  {
   "cell_type": "markdown",
   "metadata": {},
   "source": [
    "#### POST Request"
   ]
  },
  {
   "cell_type": "markdown",
   "metadata": {},
   "source": [
    "##### REGISTRATION"
   ]
  },
  {
   "cell_type": "code",
   "execution_count": 143,
   "metadata": {},
   "outputs": [
    {
     "data": {
      "text/plain": [
       "{'registration_status': 'success'}"
      ]
     },
     "execution_count": 143,
     "metadata": {},
     "output_type": "execute_result"
    }
   ],
   "source": [
    "payload = {\n",
    "    'name': 'Violyn Agustin',\n",
    "    'username': 'madam_vio',\n",
    "    'password': 'sukapisang69',\n",
    "    'role': 'admin',\n",
    "    'divisi': 'ITSG'\n",
    "}\n",
    "\n",
    "\n",
    "data = requests.post('https://ravenclaw-services.herokuapp.com/CRUD/reg', json=payload)\n",
    "data.json()"
   ]
  },
  {
   "cell_type": "markdown",
   "metadata": {},
   "source": [
    "##### LOGIN"
   ]
  },
  {
   "cell_type": "markdown",
   "metadata": {},
   "source": [
    "if user_name not registered"
   ]
  },
  {
   "cell_type": "code",
   "execution_count": 11,
   "metadata": {},
   "outputs": [
    {
     "data": {
      "text/plain": [
       "{'login_status': 'failed', 'msg': 'wrong user_name'}"
      ]
     },
     "execution_count": 11,
     "metadata": {},
     "output_type": "execute_result"
    }
   ],
   "source": [
    "payload = {\n",
    "    'user_name': 'hafidz',\n",
    "    'password': 'hehehehe',\n",
    "}\n",
    "\n",
    "data = requests.post('https://ravenclaw-services.herokuapp.com/CRUD/login', json=payload)\n",
    "data.json()\n"
   ]
  },
  {
   "cell_type": "markdown",
   "metadata": {},
   "source": [
    "if user_name is registered but password is wrong"
   ]
  },
  {
   "cell_type": "code",
   "execution_count": 32,
   "metadata": {},
   "outputs": [
    {
     "data": {
      "text/plain": [
       "{'login_status': 'failed', 'msg': 'wrong password'}"
      ]
     },
     "execution_count": 32,
     "metadata": {},
     "output_type": "execute_result"
    }
   ],
   "source": [
    "payload = {\n",
    "    'username': 'hanggoro',\n",
    "    'password': 'hehehehe',\n",
    "}\n",
    "\n",
    "data = requests.post(\n",
    "    'https://ravenclaw-services.herokuapp.com/CRUD/login', json=payload)\n",
    "data.json()\n"
   ]
  },
  {
   "cell_type": "markdown",
   "metadata": {},
   "source": [
    "if everything is success"
   ]
  },
  {
   "cell_type": "code",
   "execution_count": 110,
   "metadata": {},
   "outputs": [
    {
     "data": {
      "text/plain": [
       "{'login_status': 'success',\n",
       " 'data': {'name': 'Hanggoro Feriawan',\n",
       "  'username': 'hanggoro',\n",
       "  'role': 'client',\n",
       "  'divisi': 'DEVOPS'}}"
      ]
     },
     "execution_count": 110,
     "metadata": {},
     "output_type": "execute_result"
    }
   ],
   "source": [
    "payload = {\n",
    "    'username': 'hanggoro',\n",
    "    'password': 'devopsvp11',\n",
    "}\n",
    "\n",
    "data = requests.post(\n",
    "    'https://ravenclaw-services.herokuapp.com/CRUD/login', json=payload)\n",
    "data.json()\n"
   ]
  },
  {
   "cell_type": "markdown",
   "metadata": {},
   "source": [
    "##### Form Pengajuan"
   ]
  },
  {
   "cell_type": "code",
   "execution_count": 108,
   "metadata": {},
   "outputs": [
    {
     "data": {
      "text/plain": [
       "{'username': 'hanggoro',\n",
       " 'name': 'Hanggoro Feriawan',\n",
       " 'divisi': 'DEVOPS',\n",
       " 'aktivitas': 'Pengajuan jasa vendor untuk develop POSPAY superapp',\n",
       " 'due_date': '2023-05-10',\n",
       " 'bsu_fix': 400000000}"
      ]
     },
     "execution_count": 108,
     "metadata": {},
     "output_type": "execute_result"
    }
   ],
   "source": [
    "payload = {\n",
    "    'username': 'hanggoro',  # disabled dan tidak muncul di form\n",
    "    'name': 'Hanggoro Feriawan',  # disabled\n",
    "    'divisi': 'DEVOPS',  # disabled\n",
    "    'aktivitas': 'Pengajuan jasa vendor untuk develop POSPAY superapp',\n",
    "    'due_date': '2023-05-10',\n",
    "    'bsu_fix': 400000000,\n",
    "}\n",
    "payload"
   ]
  },
  {
   "cell_type": "code",
   "execution_count": 5,
   "metadata": {},
   "outputs": [
    {
     "data": {
      "text/plain": [
       "{'status': 'success'}"
      ]
     },
     "execution_count": 5,
     "metadata": {},
     "output_type": "execute_result"
    }
   ],
   "source": [
    "\n",
    "\n",
    "payload = {\n",
    "    'username': 'rudinur', # disabled dan tidak muncul di form\n",
    "    'name': 'Rudi Nur Sulistiyono',  # disabled\n",
    "    'divisi': 'AO', # disabled\n",
    "    'manajer': 'Danton',\n",
    "    'kategori': 'CAPEX',\n",
    "    'aktivitas': 'Pengadaan Penyediaan vendor untuk melakukan unit testing ',\n",
    "    'due': {\n",
    "        'due_quarter': 'Q3',\n",
    "        'due_date': '2023-11-24',\n",
    "    },\n",
    "    'bsu': {\n",
    "        'bsu_kategori': 'fluktuatif',\n",
    "        'bsu_fix': None\n",
    "    }\n",
    "}\n",
    "\n",
    "data = requests.post(\n",
    "    'https://ravenclaw-services.herokuapp.com/CRUD/client/form-pengajuan', json=payload)\n",
    "test = data.json()\n",
    "test"
   ]
  },
  {
   "cell_type": "markdown",
   "metadata": {},
   "source": [
    "##### Generate dummy text"
   ]
  },
  {
   "cell_type": "code",
   "execution_count": 8,
   "metadata": {},
   "outputs": [
    {
     "data": {
      "text/plain": [
       "6994942551"
      ]
     },
     "execution_count": 8,
     "metadata": {},
     "output_type": "execute_result"
    }
   ],
   "source": [
    "import random\n",
    "\n"
   ]
  },
  {
   "cell_type": "code",
   "execution_count": 18,
   "metadata": {},
   "outputs": [],
   "source": [
    "manajer_random = ['Danton','Adi Nugroho','Hudi Suyatno','Agus Himawan','Egi Legiman']\n",
    "kategori_random = ['CAPEX','OPEX']"
   ]
  },
  {
   "cell_type": "code",
   "execution_count": 3,
   "metadata": {},
   "outputs": [
    {
     "data": {
      "text/plain": [
       "True"
      ]
     },
     "execution_count": 3,
     "metadata": {},
     "output_type": "execute_result"
    }
   ],
   "source": [
    "'2023-11-05' > '2023-05-29'\n"
   ]
  },
  {
   "cell_type": "code",
   "execution_count": 21,
   "metadata": {},
   "outputs": [],
   "source": [
    "from faker import Faker\n",
    "fake = Faker()\n"
   ]
  },
  {
   "cell_type": "code",
   "execution_count": 13,
   "metadata": {},
   "outputs": [
    {
     "data": {
      "text/plain": [
       "DatetimeIndex(['2022-01-01', '2022-01-02', '2022-01-03', '2022-01-04',\n",
       "               '2022-01-05', '2022-01-06', '2022-01-07', '2022-01-08',\n",
       "               '2022-01-09', '2022-01-10',\n",
       "               ...\n",
       "               '2022-12-21', '2022-12-22', '2022-12-23', '2022-12-24',\n",
       "               '2022-12-25', '2022-12-26', '2022-12-27', '2022-12-28',\n",
       "               '2022-12-29', '2022-12-30'],\n",
       "              dtype='datetime64[ns]', length=364, freq='D')"
      ]
     },
     "execution_count": 13,
     "metadata": {},
     "output_type": "execute_result"
    }
   ],
   "source": [
    "import pandas as pd\n",
    "from datetime import datetime\n",
    "\n",
    "gas = 364\n",
    "tgl  = pd.date_range(\n",
    "    start=pd.Timestamp('2022-12-31') - pd.offsets.Day(gas),\n",
    "    freq='D', periods=gas)\n",
    "tgl "
   ]
  },
  {
   "cell_type": "code",
   "execution_count": null,
   "metadata": {},
   "outputs": [],
   "source": []
  },
  {
   "cell_type": "code",
   "execution_count": 18,
   "metadata": {},
   "outputs": [
    {
     "data": {
      "text/plain": [
       "Timestamp('2022-10-12 00:00:00', freq='D')"
      ]
     },
     "execution_count": 18,
     "metadata": {},
     "output_type": "execute_result"
    }
   ],
   "source": [
    "import random\n",
    "\n",
    "random.choice(tgl)"
   ]
  },
  {
   "cell_type": "code",
   "execution_count": 17,
   "metadata": {},
   "outputs": [],
   "source": [
    "tanggal = '2022-07-05'\n",
    "\n",
    "def get_quarter(tanggal):\n",
    "    if tanggal >= '2022-01-01' and tanggal <= '2022-03-30':\n",
    "        quarter = 'Q1'\n",
    "    elif tanggal >= '2022-04-01' and tanggal <= '2022-06-30':\n",
    "        quarter = 'Q2'\n",
    "    else:\n",
    "        quarter = 'Q3'\n",
    "    return quarter"
   ]
  },
  {
   "cell_type": "code",
   "execution_count": null,
   "metadata": {},
   "outputs": [],
   "source": []
  },
  {
   "cell_type": "code",
   "execution_count": 23,
   "metadata": {},
   "outputs": [
    {
     "name": "stderr",
     "output_type": "stream",
     "text": [
      "100%|██████████| 50/50 [01:54<00:00,  2.30s/it]\n"
     ]
    }
   ],
   "source": [
    "from tqdm import tqdm\n",
    "\n",
    "for _ in tqdm(range(50)):\n",
    "    payload = {\n",
    "        'username': 'rudinur',  # disabled dan tidak muncul di form\n",
    "        'name': 'Rudi Nur Sulistiyono',  # disabled\n",
    "        'divisi': 'AO',  # disabled\n",
    "        'manajer': random.choice(manajer_random),\n",
    "        'kategori': random.choice(kategori_random),\n",
    "        'aktivitas': fake.text(),\n",
    "        'due': {\n",
    "            'due_quarter': 'Q3',\n",
    "            'due_date': '2023-10-25',\n",
    "        },\n",
    "        'bsu': {\n",
    "            'bsu_kategori': 'fix',\n",
    "            'bsu_fix': random.randint(1000000, 9999999999)\n",
    "        }\n",
    "    }\n",
    "\n",
    "    data = requests.post(\n",
    "        'https://ravenclaw-services.herokuapp.com/CRUD/client/form-pengajuan', json=payload)\n",
    "    test = data.json()"
   ]
  },
  {
   "cell_type": "code",
   "execution_count": 128,
   "metadata": {},
   "outputs": [
    {
     "data": {
      "text/plain": [
       "{'username': 'hanggoro',\n",
       " 'name': 'Hanggoro Feriawan',\n",
       " 'divisi': 'DEVOPS',\n",
       " 'aktivitas': 'Pengajuan service AWS S3 1 Tera per month',\n",
       " 'due_date': '2022-08-30',\n",
       " 'bsu_fix': 400000000.0}"
      ]
     },
     "execution_count": 128,
     "metadata": {},
     "output_type": "execute_result"
    }
   ],
   "source": [
    "\n",
    "\n",
    "payload = {\n",
    "    'username': 'rudinur',  # disabled dan tidak muncul di form\n",
    "    'name': 'Rudi Nur Sulistiyono',  # disabled\n",
    "    'divisi': 'AO',  # disabled\n",
    "    'manajer': 'Danton',\n",
    "    'kategori': 'CAPEX',\n",
    "    'aktivitas': 'Pengadaan Penyediaan vendor untuk melakukan unit testing ',\n",
    "    'due': {\n",
    "        'due_quarter': 'Q3',\n",
    "        'due_date': '2023-11-24',\n",
    "    },\n",
    "    'bsu': {\n",
    "        'bsu_kategori': 'fluktuatif',\n",
    "        'bsu_fix': None\n",
    "    }\n",
    "}\n",
    "\n",
    "data = requests.post(\n",
    "    'https://ravenclaw-services.herokuapp.com/CRUD/client/form-pengajuan', json=payload)\n",
    "test = data.json()\n",
    "test\n"
   ]
  },
  {
   "cell_type": "code",
   "execution_count": 139,
   "metadata": {},
   "outputs": [],
   "source": [
    "\n",
    "payload = {\n",
    "    'username': 'hanggoro'\n",
    "}\n",
    "data = requests.post(\n",
    "    'https://ravenclaw-services.herokuapp.com/CRUD/client/lihat-data-pengajuan', json=payload)\n",
    "df = data.json()\n"
   ]
  },
  {
   "cell_type": "code",
   "execution_count": 28,
   "metadata": {},
   "outputs": [
    {
     "data": {
      "text/html": [
       "<div>\n",
       "<style scoped>\n",
       "    .dataframe tbody tr th:only-of-type {\n",
       "        vertical-align: middle;\n",
       "    }\n",
       "\n",
       "    .dataframe tbody tr th {\n",
       "        vertical-align: top;\n",
       "    }\n",
       "\n",
       "    .dataframe thead th {\n",
       "        text-align: right;\n",
       "    }\n",
       "</style>\n",
       "<table border=\"1\" class=\"dataframe\">\n",
       "  <thead>\n",
       "    <tr style=\"text-align: right;\">\n",
       "      <th></th>\n",
       "      <th>order_id</th>\n",
       "      <th>username</th>\n",
       "      <th>name</th>\n",
       "      <th>divisi</th>\n",
       "      <th>manajer</th>\n",
       "      <th>kategori</th>\n",
       "      <th>aktivitas</th>\n",
       "      <th>status</th>\n",
       "      <th>due</th>\n",
       "      <th>bsu</th>\n",
       "    </tr>\n",
       "  </thead>\n",
       "  <tbody>\n",
       "    <tr>\n",
       "      <th>0</th>\n",
       "      <td>DEV-1665131549</td>\n",
       "      <td>hanggoro</td>\n",
       "      <td>Hanggoro Feriawan</td>\n",
       "      <td>DEVOPS</td>\n",
       "      <td>Yuyus</td>\n",
       "      <td>CAPEX</td>\n",
       "      <td>Pengadaan Penyediaan ENDPOINTSECURITY</td>\n",
       "      <td>PENDING</td>\n",
       "      <td>{'due_quarter': 'Q2', 'due_date': '2023-05-24'}</td>\n",
       "      <td>{'bsu_kategori': 'fix', 'bsu_fix': 1300000}</td>\n",
       "    </tr>\n",
       "    <tr>\n",
       "      <th>1</th>\n",
       "      <td>AO-1665132031</td>\n",
       "      <td>rudinur</td>\n",
       "      <td>Rudi Nur Sulistiyono</td>\n",
       "      <td>AO</td>\n",
       "      <td>Danton</td>\n",
       "      <td>CAPEX</td>\n",
       "      <td>Pengadaan Penyediaan vendor untuk melakukan un...</td>\n",
       "      <td>PENDING</td>\n",
       "      <td>{'due_quarter': 'Q3', 'due_date': '2023-11-24'}</td>\n",
       "      <td>{'bsu_kategori': 'fluktuatif', 'bsu_fix': None}</td>\n",
       "    </tr>\n",
       "    <tr>\n",
       "      <th>2</th>\n",
       "      <td>AO-1665132991</td>\n",
       "      <td>rudinur</td>\n",
       "      <td>Rudi Nur Sulistiyono</td>\n",
       "      <td>AO</td>\n",
       "      <td>Egi Legiman</td>\n",
       "      <td>OPEX</td>\n",
       "      <td>Throw modern whole rock administration pull gr...</td>\n",
       "      <td>PENDING</td>\n",
       "      <td>{'due_quarter': 'Q3', 'due_date': '2023-11-24'}</td>\n",
       "      <td>{'bsu_kategori': 'fix', 'bsu_fix': 9382027725}</td>\n",
       "    </tr>\n",
       "    <tr>\n",
       "      <th>3</th>\n",
       "      <td>AO-1665132994</td>\n",
       "      <td>rudinur</td>\n",
       "      <td>Rudi Nur Sulistiyono</td>\n",
       "      <td>AO</td>\n",
       "      <td>Hudi Suyatno</td>\n",
       "      <td>OPEX</td>\n",
       "      <td>Never account lead spring happen morning. Two ...</td>\n",
       "      <td>PENDING</td>\n",
       "      <td>{'due_quarter': 'Q3', 'due_date': '2023-11-24'}</td>\n",
       "      <td>{'bsu_kategori': 'fix', 'bsu_fix': 6139433597}</td>\n",
       "    </tr>\n",
       "    <tr>\n",
       "      <th>4</th>\n",
       "      <td>AO-1665132996</td>\n",
       "      <td>rudinur</td>\n",
       "      <td>Rudi Nur Sulistiyono</td>\n",
       "      <td>AO</td>\n",
       "      <td>Agus Himawan</td>\n",
       "      <td>CAPEX</td>\n",
       "      <td>Study certain deal agency decision night those...</td>\n",
       "      <td>PENDING</td>\n",
       "      <td>{'due_quarter': 'Q3', 'due_date': '2023-11-24'}</td>\n",
       "      <td>{'bsu_kategori': 'fix', 'bsu_fix': 6196557491}</td>\n",
       "    </tr>\n",
       "    <tr>\n",
       "      <th>...</th>\n",
       "      <td>...</td>\n",
       "      <td>...</td>\n",
       "      <td>...</td>\n",
       "      <td>...</td>\n",
       "      <td>...</td>\n",
       "      <td>...</td>\n",
       "      <td>...</td>\n",
       "      <td>...</td>\n",
       "      <td>...</td>\n",
       "      <td>...</td>\n",
       "    </tr>\n",
       "    <tr>\n",
       "      <th>57</th>\n",
       "      <td>AO-1665133162</td>\n",
       "      <td>rudinur</td>\n",
       "      <td>Rudi Nur Sulistiyono</td>\n",
       "      <td>AO</td>\n",
       "      <td>Adi Nugroho</td>\n",
       "      <td>OPEX</td>\n",
       "      <td>Health find teach mention sure yes. Sit give p...</td>\n",
       "      <td>PENDING</td>\n",
       "      <td>{'due_quarter': 'Q3', 'due_date': '2023-13-25'}</td>\n",
       "      <td>{'bsu_kategori': 'fix', 'bsu_fix': 5751700352}</td>\n",
       "    </tr>\n",
       "    <tr>\n",
       "      <th>58</th>\n",
       "      <td>AO-1665133164</td>\n",
       "      <td>rudinur</td>\n",
       "      <td>Rudi Nur Sulistiyono</td>\n",
       "      <td>AO</td>\n",
       "      <td>Danton</td>\n",
       "      <td>OPEX</td>\n",
       "      <td>Plan arrive order offer land. Record daughter ...</td>\n",
       "      <td>PENDING</td>\n",
       "      <td>{'due_quarter': 'Q3', 'due_date': '2023-13-25'}</td>\n",
       "      <td>{'bsu_kategori': 'fix', 'bsu_fix': 286800483}</td>\n",
       "    </tr>\n",
       "    <tr>\n",
       "      <th>59</th>\n",
       "      <td>AO-1665133167</td>\n",
       "      <td>rudinur</td>\n",
       "      <td>Rudi Nur Sulistiyono</td>\n",
       "      <td>AO</td>\n",
       "      <td>Danton</td>\n",
       "      <td>CAPEX</td>\n",
       "      <td>Tonight authority enjoy skin suddenly. Establi...</td>\n",
       "      <td>PENDING</td>\n",
       "      <td>{'due_quarter': 'Q3', 'due_date': '2023-13-25'}</td>\n",
       "      <td>{'bsu_kategori': 'fix', 'bsu_fix': 2105549694}</td>\n",
       "    </tr>\n",
       "    <tr>\n",
       "      <th>60</th>\n",
       "      <td>AO-1665133169</td>\n",
       "      <td>rudinur</td>\n",
       "      <td>Rudi Nur Sulistiyono</td>\n",
       "      <td>AO</td>\n",
       "      <td>Hudi Suyatno</td>\n",
       "      <td>CAPEX</td>\n",
       "      <td>Program ok evidence yourself adult cultural bo...</td>\n",
       "      <td>PENDING</td>\n",
       "      <td>{'due_quarter': 'Q3', 'due_date': '2023-13-25'}</td>\n",
       "      <td>{'bsu_kategori': 'fix', 'bsu_fix': 3943178253}</td>\n",
       "    </tr>\n",
       "    <tr>\n",
       "      <th>61</th>\n",
       "      <td>AO-1665133171</td>\n",
       "      <td>rudinur</td>\n",
       "      <td>Rudi Nur Sulistiyono</td>\n",
       "      <td>AO</td>\n",
       "      <td>Adi Nugroho</td>\n",
       "      <td>OPEX</td>\n",
       "      <td>Development move environment consumer understa...</td>\n",
       "      <td>PENDING</td>\n",
       "      <td>{'due_quarter': 'Q3', 'due_date': '2023-13-25'}</td>\n",
       "      <td>{'bsu_kategori': 'fix', 'bsu_fix': 9663896575}</td>\n",
       "    </tr>\n",
       "  </tbody>\n",
       "</table>\n",
       "<p>62 rows × 10 columns</p>\n",
       "</div>"
      ],
      "text/plain": [
       "          order_id  username                  name  divisi       manajer  \\\n",
       "0   DEV-1665131549  hanggoro     Hanggoro Feriawan  DEVOPS         Yuyus   \n",
       "1    AO-1665132031   rudinur  Rudi Nur Sulistiyono      AO        Danton   \n",
       "2    AO-1665132991   rudinur  Rudi Nur Sulistiyono      AO   Egi Legiman   \n",
       "3    AO-1665132994   rudinur  Rudi Nur Sulistiyono      AO  Hudi Suyatno   \n",
       "4    AO-1665132996   rudinur  Rudi Nur Sulistiyono      AO  Agus Himawan   \n",
       "..             ...       ...                   ...     ...           ...   \n",
       "57   AO-1665133162   rudinur  Rudi Nur Sulistiyono      AO   Adi Nugroho   \n",
       "58   AO-1665133164   rudinur  Rudi Nur Sulistiyono      AO        Danton   \n",
       "59   AO-1665133167   rudinur  Rudi Nur Sulistiyono      AO        Danton   \n",
       "60   AO-1665133169   rudinur  Rudi Nur Sulistiyono      AO  Hudi Suyatno   \n",
       "61   AO-1665133171   rudinur  Rudi Nur Sulistiyono      AO   Adi Nugroho   \n",
       "\n",
       "   kategori                                          aktivitas   status  \\\n",
       "0     CAPEX              Pengadaan Penyediaan ENDPOINTSECURITY  PENDING   \n",
       "1     CAPEX  Pengadaan Penyediaan vendor untuk melakukan un...  PENDING   \n",
       "2      OPEX  Throw modern whole rock administration pull gr...  PENDING   \n",
       "3      OPEX  Never account lead spring happen morning. Two ...  PENDING   \n",
       "4     CAPEX  Study certain deal agency decision night those...  PENDING   \n",
       "..      ...                                                ...      ...   \n",
       "57     OPEX  Health find teach mention sure yes. Sit give p...  PENDING   \n",
       "58     OPEX  Plan arrive order offer land. Record daughter ...  PENDING   \n",
       "59    CAPEX  Tonight authority enjoy skin suddenly. Establi...  PENDING   \n",
       "60    CAPEX  Program ok evidence yourself adult cultural bo...  PENDING   \n",
       "61     OPEX  Development move environment consumer understa...  PENDING   \n",
       "\n",
       "                                                due  \\\n",
       "0   {'due_quarter': 'Q2', 'due_date': '2023-05-24'}   \n",
       "1   {'due_quarter': 'Q3', 'due_date': '2023-11-24'}   \n",
       "2   {'due_quarter': 'Q3', 'due_date': '2023-11-24'}   \n",
       "3   {'due_quarter': 'Q3', 'due_date': '2023-11-24'}   \n",
       "4   {'due_quarter': 'Q3', 'due_date': '2023-11-24'}   \n",
       "..                                              ...   \n",
       "57  {'due_quarter': 'Q3', 'due_date': '2023-13-25'}   \n",
       "58  {'due_quarter': 'Q3', 'due_date': '2023-13-25'}   \n",
       "59  {'due_quarter': 'Q3', 'due_date': '2023-13-25'}   \n",
       "60  {'due_quarter': 'Q3', 'due_date': '2023-13-25'}   \n",
       "61  {'due_quarter': 'Q3', 'due_date': '2023-13-25'}   \n",
       "\n",
       "                                                bsu  \n",
       "0       {'bsu_kategori': 'fix', 'bsu_fix': 1300000}  \n",
       "1   {'bsu_kategori': 'fluktuatif', 'bsu_fix': None}  \n",
       "2    {'bsu_kategori': 'fix', 'bsu_fix': 9382027725}  \n",
       "3    {'bsu_kategori': 'fix', 'bsu_fix': 6139433597}  \n",
       "4    {'bsu_kategori': 'fix', 'bsu_fix': 6196557491}  \n",
       "..                                              ...  \n",
       "57   {'bsu_kategori': 'fix', 'bsu_fix': 5751700352}  \n",
       "58    {'bsu_kategori': 'fix', 'bsu_fix': 286800483}  \n",
       "59   {'bsu_kategori': 'fix', 'bsu_fix': 2105549694}  \n",
       "60   {'bsu_kategori': 'fix', 'bsu_fix': 3943178253}  \n",
       "61   {'bsu_kategori': 'fix', 'bsu_fix': 9663896575}  \n",
       "\n",
       "[62 rows x 10 columns]"
      ]
     },
     "execution_count": 28,
     "metadata": {},
     "output_type": "execute_result"
    }
   ],
   "source": [
    "import pandas as pd\n",
    "data = requests.get(\n",
    "    'https://ravenclaw-services.herokuapp.com/CRUD/admin/lihat-data-pengajuan')\n",
    "df = pd.DataFrame(data.json())\n",
    "df\n"
   ]
  },
  {
   "cell_type": "code",
   "execution_count": 142,
   "metadata": {},
   "outputs": [
    {
     "data": {
      "text/html": [
       "<div>\n",
       "<style scoped>\n",
       "    .dataframe tbody tr th:only-of-type {\n",
       "        vertical-align: middle;\n",
       "    }\n",
       "\n",
       "    .dataframe tbody tr th {\n",
       "        vertical-align: top;\n",
       "    }\n",
       "\n",
       "    .dataframe thead th {\n",
       "        text-align: right;\n",
       "    }\n",
       "</style>\n",
       "<table border=\"1\" class=\"dataframe\">\n",
       "  <thead>\n",
       "    <tr style=\"text-align: right;\">\n",
       "      <th></th>\n",
       "      <th>order_id</th>\n",
       "      <th>name</th>\n",
       "      <th>divisi</th>\n",
       "      <th>aktivitas</th>\n",
       "      <th>due_date</th>\n",
       "      <th>kategori</th>\n",
       "      <th>status</th>\n",
       "      <th>bsu_fix</th>\n",
       "    </tr>\n",
       "  </thead>\n",
       "  <tbody>\n",
       "    <tr>\n",
       "      <th>0</th>\n",
       "      <td>DEV-1664961432</td>\n",
       "      <td>Hanggoro Feriawan</td>\n",
       "      <td>DEVOPS</td>\n",
       "      <td>Pengadaan Jasa Sewa Cloud Azure</td>\n",
       "      <td>2023-05-30</td>\n",
       "      <td>OPEX</td>\n",
       "      <td>PENDING</td>\n",
       "      <td>6000000.0</td>\n",
       "    </tr>\n",
       "    <tr>\n",
       "      <th>1</th>\n",
       "      <td>DEV-1664961706</td>\n",
       "      <td>Hanggoro Feriawan</td>\n",
       "      <td>DEVOPS</td>\n",
       "      <td>Pembelian Perangkat IT, MACBOOK AIR M2 sejumla...</td>\n",
       "      <td>2023-04-19</td>\n",
       "      <td>CAPEX</td>\n",
       "      <td>PENDING</td>\n",
       "      <td>14000000.0</td>\n",
       "    </tr>\n",
       "    <tr>\n",
       "      <th>2</th>\n",
       "      <td>DEV-1664961784</td>\n",
       "      <td>Hanggoro Feriawan</td>\n",
       "      <td>DEVOPS</td>\n",
       "      <td>Implementasi Robotics Process Automation(RPA) ...</td>\n",
       "      <td>2023-05-23</td>\n",
       "      <td>CAPEX</td>\n",
       "      <td>PENDING</td>\n",
       "      <td>17000000.0</td>\n",
       "    </tr>\n",
       "  </tbody>\n",
       "</table>\n",
       "</div>"
      ],
      "text/plain": [
       "         order_id               name  divisi  \\\n",
       "0  DEV-1664961432  Hanggoro Feriawan  DEVOPS   \n",
       "1  DEV-1664961706  Hanggoro Feriawan  DEVOPS   \n",
       "2  DEV-1664961784  Hanggoro Feriawan  DEVOPS   \n",
       "\n",
       "                                           aktivitas    due_date kategori  \\\n",
       "0                    Pengadaan Jasa Sewa Cloud Azure  2023-05-30     OPEX   \n",
       "1  Pembelian Perangkat IT, MACBOOK AIR M2 sejumla...  2023-04-19    CAPEX   \n",
       "2  Implementasi Robotics Process Automation(RPA) ...  2023-05-23    CAPEX   \n",
       "\n",
       "    status     bsu_fix  \n",
       "0  PENDING   6000000.0  \n",
       "1  PENDING  14000000.0  \n",
       "2  PENDING  17000000.0  "
      ]
     },
     "execution_count": 142,
     "metadata": {},
     "output_type": "execute_result"
    }
   ],
   "source": [
    "import pandas as pd\n",
    "pd.DataFrame(df)"
   ]
  },
  {
   "cell_type": "code",
   "execution_count": 1,
   "metadata": {},
   "outputs": [],
   "source": [
    "progress = 20\n",
    "\n",
    "current_progress = ['a','b','c']"
   ]
  },
  {
   "cell_type": "code",
   "execution_count": 6,
   "metadata": {},
   "outputs": [
    {
     "name": "stderr",
     "output_type": "stream",
     "text": [
      " 50%|█████     | 5/10 [00:06<00:06,  1.21s/it]\n"
     ]
    },
    {
     "ename": "KeyboardInterrupt",
     "evalue": "",
     "output_type": "error",
     "traceback": [
      "\u001b[1;31m---------------------------------------------------------------------------\u001b[0m",
      "\u001b[1;31mKeyboardInterrupt\u001b[0m                         Traceback (most recent call last)",
      "\u001b[1;32m~\\AppData\\Local\\Temp/ipykernel_7860/3660012911.py\u001b[0m in \u001b[0;36m<module>\u001b[1;34m\u001b[0m\n\u001b[0;32m      3\u001b[0m \u001b[1;33m\u001b[0m\u001b[0m\n\u001b[0;32m      4\u001b[0m \u001b[1;32mfor\u001b[0m \u001b[0mi\u001b[0m \u001b[1;32min\u001b[0m \u001b[0mtqdm\u001b[0m\u001b[1;33m(\u001b[0m\u001b[0mrange\u001b[0m\u001b[1;33m(\u001b[0m\u001b[1;36m10\u001b[0m\u001b[1;33m)\u001b[0m\u001b[1;33m)\u001b[0m\u001b[1;33m:\u001b[0m\u001b[1;33m\u001b[0m\u001b[1;33m\u001b[0m\u001b[0m\n\u001b[1;32m----> 5\u001b[1;33m     \u001b[0mtime\u001b[0m\u001b[1;33m.\u001b[0m\u001b[0msleep\u001b[0m\u001b[1;33m(\u001b[0m\u001b[1;36m1\u001b[0m\u001b[1;33m)\u001b[0m\u001b[1;33m\u001b[0m\u001b[1;33m\u001b[0m\u001b[0m\n\u001b[0m",
      "\u001b[1;31mKeyboardInterrupt\u001b[0m: "
     ]
    }
   ],
   "source": [
    "from tqdm import tqdm\n",
    "import time\n",
    "\n",
    "for i in tqdm(range(10)):\n",
    "    time.sleep(1)"
   ]
  },
  {
   "cell_type": "code",
   "execution_count": null,
   "metadata": {},
   "outputs": [],
   "source": []
  }
 ],
 "metadata": {
  "kernelspec": {
   "display_name": "Python 3.10.1 64-bit",
   "language": "python",
   "name": "python3"
  },
  "language_info": {
   "codemirror_mode": {
    "name": "ipython",
    "version": 3
   },
   "file_extension": ".py",
   "mimetype": "text/x-python",
   "name": "python",
   "nbconvert_exporter": "python",
   "pygments_lexer": "ipython3",
   "version": "3.10.1"
  },
  "orig_nbformat": 4,
  "vscode": {
   "interpreter": {
    "hash": "9b00adcca2d127d9453d757094884878814abfad2252649bfcca8391f83476c8"
   }
  }
 },
 "nbformat": 4,
 "nbformat_minor": 2
}
