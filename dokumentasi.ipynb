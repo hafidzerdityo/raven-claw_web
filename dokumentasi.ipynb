{
 "cells": [
  {
   "cell_type": "code",
   "execution_count": 26,
   "metadata": {},
   "outputs": [],
   "source": [
    "import requests # import library untuk API Call (HTTP Call)\n"
   ]
  },
  {
   "cell_type": "markdown",
   "metadata": {},
   "source": [
    "#### GET Request"
   ]
  },
  {
   "cell_type": "code",
   "execution_count": 4,
   "metadata": {},
   "outputs": [
    {
     "data": {
      "text/plain": [
       "{'message': 'This is encrypted lagi: 3e8a9952527e6d60a02d1dd53b97b2484cb1f6d5a21c3c7feb241054ab7eed50bd4f0f1fe5586cb0a6968c7fbb0aed12ce00a9f0a7787ed6dfd632134d2fe583'}"
      ]
     },
     "execution_count": 4,
     "metadata": {},
     "output_type": "execute_result"
    }
   ],
   "source": [
    "data = requests.get('https://ravenclaw-services.herokuapp.com/test')\n",
    "data.json()\n"
   ]
  },
  {
   "cell_type": "markdown",
   "metadata": {},
   "source": [
    "#### POST Request"
   ]
  },
  {
   "cell_type": "markdown",
   "metadata": {},
   "source": [
    "##### REGISTRATION"
   ]
  },
  {
   "cell_type": "code",
   "execution_count": 75,
   "metadata": {},
   "outputs": [
    {
     "data": {
      "text/plain": [
       "{'registration_status': 'success'}"
      ]
     },
     "execution_count": 75,
     "metadata": {},
     "output_type": "execute_result"
    }
   ],
   "source": [
    "payload = {\n",
    "    'name': 'Winar Wahyu Wulansari',\n",
    "    'username': 'winarw',\n",
    "    'password': 'winar123',\n",
    "    'role': 'admin',\n",
    "    'divisi': 'ITSG'\n",
    "}\n",
    "\n",
    "\n",
    "data = requests.post('https://ravenclaw-services.herokuapp.com/CRUD/reg', json=payload)\n",
    "data.json()"
   ]
  },
  {
   "cell_type": "markdown",
   "metadata": {},
   "source": [
    "##### LOGIN"
   ]
  },
  {
   "cell_type": "markdown",
   "metadata": {},
   "source": [
    "if user_name not registered"
   ]
  },
  {
   "cell_type": "code",
   "execution_count": 11,
   "metadata": {},
   "outputs": [
    {
     "data": {
      "text/plain": [
       "{'login_status': 'failed', 'msg': 'wrong user_name'}"
      ]
     },
     "execution_count": 11,
     "metadata": {},
     "output_type": "execute_result"
    }
   ],
   "source": [
    "payload = {\n",
    "    'user_name': 'hafidz',\n",
    "    'password': 'hehehehe',\n",
    "}\n",
    "\n",
    "data = requests.post('https://ravenclaw-services.herokuapp.com/CRUD/login', json=payload)\n",
    "data.json()\n"
   ]
  },
  {
   "cell_type": "markdown",
   "metadata": {},
   "source": [
    "if user_name is registered but password is wrong"
   ]
  },
  {
   "cell_type": "code",
   "execution_count": 32,
   "metadata": {},
   "outputs": [
    {
     "data": {
      "text/plain": [
       "{'login_status': 'failed', 'msg': 'wrong password'}"
      ]
     },
     "execution_count": 32,
     "metadata": {},
     "output_type": "execute_result"
    }
   ],
   "source": [
    "payload = {\n",
    "    'username': 'hanggoro',\n",
    "    'password': 'hehehehe',\n",
    "}\n",
    "\n",
    "data = requests.post(\n",
    "    'https://ravenclaw-services.herokuapp.com/CRUD/login', json=payload)\n",
    "data.json()\n"
   ]
  },
  {
   "cell_type": "markdown",
   "metadata": {},
   "source": [
    "if everything is success"
   ]
  },
  {
   "cell_type": "code",
   "execution_count": 69,
   "metadata": {},
   "outputs": [
    {
     "data": {
      "text/plain": [
       "{'login_status': 'failed', 'msg': 'wrong password'}"
      ]
     },
     "execution_count": 69,
     "metadata": {},
     "output_type": "execute_result"
    }
   ],
   "source": [
    "payload = {\n",
    "    'username': 'hanggoro',\n",
    "    'password': 'devopsvp11',\n",
    "}\n",
    "\n",
    "data = requests.post(\n",
    "    'https://ravenclaw-services.herokuapp.com/CRUD/login', json=payload)\n",
    "data.json()\n"
   ]
  },
  {
   "cell_type": "markdown",
   "metadata": {},
   "source": [
    "##### Form Pengajuan"
   ]
  },
  {
   "cell_type": "code",
   "execution_count": 61,
   "metadata": {},
   "outputs": [
    {
     "data": {
      "text/plain": [
       "{'status': 'success'}"
      ]
     },
     "execution_count": 61,
     "metadata": {},
     "output_type": "execute_result"
    }
   ],
   "source": [
    "\n",
    "\n",
    "payload = {\n",
    "    'username': 'anhar', # disabled dan tidak muncul di form\n",
    "    'name': 'Anhar', # disabled\n",
    "    'divisi': 'ITAIS', # disabled\n",
    "    'aktivitas': 'Pengajuan penutupan Data Center, dan migrasi ke Google Cloud Platorm',\n",
    "    'due_date': '2022-11-11',\n",
    "    'bsu_fix': 1500000000,\n",
    "}\n",
    "\n",
    "data = requests.post(\n",
    "    'https://ravenclaw-services.herokuapp.com/CRUD/client/form-pengajuan', json=payload)\n",
    "data.json()\n"
   ]
  },
  {
   "cell_type": "code",
   "execution_count": 62,
   "metadata": {},
   "outputs": [],
   "source": [
    "\n",
    "payload = {\n",
    "    'username': 'anhar'\n",
    "}\n",
    "data = requests.post(\n",
    "    'https://ravenclaw-services.herokuapp.com/CRUD/client/lihat-data-pengajuan', json=payload)\n",
    "df = data.json()\n"
   ]
  },
  {
   "cell_type": "code",
   "execution_count": 63,
   "metadata": {},
   "outputs": [
    {
     "data": {
      "text/html": [
       "<div>\n",
       "<style scoped>\n",
       "    .dataframe tbody tr th:only-of-type {\n",
       "        vertical-align: middle;\n",
       "    }\n",
       "\n",
       "    .dataframe tbody tr th {\n",
       "        vertical-align: top;\n",
       "    }\n",
       "\n",
       "    .dataframe thead th {\n",
       "        text-align: right;\n",
       "    }\n",
       "</style>\n",
       "<table border=\"1\" class=\"dataframe\">\n",
       "  <thead>\n",
       "    <tr style=\"text-align: right;\">\n",
       "      <th></th>\n",
       "      <th>order_id</th>\n",
       "      <th>name</th>\n",
       "      <th>divisi</th>\n",
       "      <th>aktivitas</th>\n",
       "      <th>due_date</th>\n",
       "      <th>bsu_fix</th>\n",
       "      <th>status</th>\n",
       "    </tr>\n",
       "  </thead>\n",
       "  <tbody>\n",
       "    <tr>\n",
       "      <th>0</th>\n",
       "      <td>ITA-20221230-1664951699</td>\n",
       "      <td>ANHAR</td>\n",
       "      <td>ITAIS</td>\n",
       "      <td>Pengajuan cloud service AWS EC2, dengan storag...</td>\n",
       "      <td>2022-12-30</td>\n",
       "      <td>4.550000e+07</td>\n",
       "      <td>PENDING</td>\n",
       "    </tr>\n",
       "    <tr>\n",
       "      <th>1</th>\n",
       "      <td>ITA-20221111-1664951825</td>\n",
       "      <td>ANHAR</td>\n",
       "      <td>ITAIS</td>\n",
       "      <td>Pengajuan penutupan Data Center, dan migrasi k...</td>\n",
       "      <td>2022-11-11</td>\n",
       "      <td>1.500000e+09</td>\n",
       "      <td>PENDING</td>\n",
       "    </tr>\n",
       "  </tbody>\n",
       "</table>\n",
       "</div>"
      ],
      "text/plain": [
       "                  order_id   name divisi  \\\n",
       "0  ITA-20221230-1664951699  ANHAR  ITAIS   \n",
       "1  ITA-20221111-1664951825  ANHAR  ITAIS   \n",
       "\n",
       "                                           aktivitas    due_date  \\\n",
       "0  Pengajuan cloud service AWS EC2, dengan storag...  2022-12-30   \n",
       "1  Pengajuan penutupan Data Center, dan migrasi k...  2022-11-11   \n",
       "\n",
       "        bsu_fix   status  \n",
       "0  4.550000e+07  PENDING  \n",
       "1  1.500000e+09  PENDING  "
      ]
     },
     "execution_count": 63,
     "metadata": {},
     "output_type": "execute_result"
    }
   ],
   "source": [
    "import pandas as pd\n",
    "pd.DataFrame(df)"
   ]
  }
 ],
 "metadata": {
  "kernelspec": {
   "display_name": "Python 3.10.1 64-bit",
   "language": "python",
   "name": "python3"
  },
  "language_info": {
   "codemirror_mode": {
    "name": "ipython",
    "version": 3
   },
   "file_extension": ".py",
   "mimetype": "text/x-python",
   "name": "python",
   "nbconvert_exporter": "python",
   "pygments_lexer": "ipython3",
   "version": "3.10.1"
  },
  "orig_nbformat": 4,
  "vscode": {
   "interpreter": {
    "hash": "9b00adcca2d127d9453d757094884878814abfad2252649bfcca8391f83476c8"
   }
  }
 },
 "nbformat": 4,
 "nbformat_minor": 2
}
