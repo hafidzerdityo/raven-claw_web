{
 "cells": [
  {
   "cell_type": "code",
   "execution_count": 26,
   "metadata": {},
   "outputs": [],
   "source": [
    "import requests # import library untuk API Call (HTTP Call)\n"
   ]
  },
  {
   "cell_type": "markdown",
   "metadata": {},
   "source": [
    "#### GET Request"
   ]
  },
  {
   "cell_type": "code",
   "execution_count": 4,
   "metadata": {},
   "outputs": [
    {
     "data": {
      "text/plain": [
       "{'message': 'This is encrypted lagi: 3e8a9952527e6d60a02d1dd53b97b2484cb1f6d5a21c3c7feb241054ab7eed50bd4f0f1fe5586cb0a6968c7fbb0aed12ce00a9f0a7787ed6dfd632134d2fe583'}"
      ]
     },
     "execution_count": 4,
     "metadata": {},
     "output_type": "execute_result"
    }
   ],
   "source": [
    "data = requests.get('https://ravenclaw-services.herokuapp.com/test')\n",
    "data.json()\n"
   ]
  },
  {
   "cell_type": "code",
   "execution_count": 80,
   "metadata": {},
   "outputs": [
    {
     "data": {
      "text/html": [
       "<div>\n",
       "<style scoped>\n",
       "    .dataframe tbody tr th:only-of-type {\n",
       "        vertical-align: middle;\n",
       "    }\n",
       "\n",
       "    .dataframe tbody tr th {\n",
       "        vertical-align: top;\n",
       "    }\n",
       "\n",
       "    .dataframe thead th {\n",
       "        text-align: right;\n",
       "    }\n",
       "</style>\n",
       "<table border=\"1\" class=\"dataframe\">\n",
       "  <thead>\n",
       "    <tr style=\"text-align: right;\">\n",
       "      <th></th>\n",
       "      <th>order_id</th>\n",
       "      <th>username</th>\n",
       "      <th>name</th>\n",
       "      <th>divisi</th>\n",
       "      <th>aktivitas</th>\n",
       "      <th>due_date</th>\n",
       "      <th>bsu_fix</th>\n",
       "      <th>status</th>\n",
       "    </tr>\n",
       "  </thead>\n",
       "  <tbody>\n",
       "    <tr>\n",
       "      <th>0</th>\n",
       "      <td>DEV-20220830-1664950507</td>\n",
       "      <td>hanggoro</td>\n",
       "      <td>Hanggoro Feriawan</td>\n",
       "      <td>DEVOPS</td>\n",
       "      <td>Pengajuan service AWS S3 1 Tera per month</td>\n",
       "      <td>2022-08-30</td>\n",
       "      <td>4.000000e+08</td>\n",
       "      <td>PENDING</td>\n",
       "    </tr>\n",
       "    <tr>\n",
       "      <th>1</th>\n",
       "      <td>DEV-20220518-1664950531</td>\n",
       "      <td>hanggoro</td>\n",
       "      <td>Hanggoro Feriawan</td>\n",
       "      <td>DEVOPS</td>\n",
       "      <td>Pengajuan laptop macbook 100 unit untuk divisi...</td>\n",
       "      <td>2022-05-18</td>\n",
       "      <td>3.000000e+10</td>\n",
       "      <td>PENDING</td>\n",
       "    </tr>\n",
       "    <tr>\n",
       "      <th>2</th>\n",
       "      <td>ITA-20221111-1664955112</td>\n",
       "      <td>anhar</td>\n",
       "      <td>Anhar</td>\n",
       "      <td>ITAIS</td>\n",
       "      <td>Pengajuan penutupan Data Center, dan migrasi k...</td>\n",
       "      <td>2022-11-11</td>\n",
       "      <td>1.500000e+09</td>\n",
       "      <td>PENDING</td>\n",
       "    </tr>\n",
       "  </tbody>\n",
       "</table>\n",
       "</div>"
      ],
      "text/plain": [
       "                  order_id  username               name  divisi  \\\n",
       "0  DEV-20220830-1664950507  hanggoro  Hanggoro Feriawan  DEVOPS   \n",
       "1  DEV-20220518-1664950531  hanggoro  Hanggoro Feriawan  DEVOPS   \n",
       "2  ITA-20221111-1664955112     anhar              Anhar   ITAIS   \n",
       "\n",
       "                                           aktivitas    due_date  \\\n",
       "0          Pengajuan service AWS S3 1 Tera per month  2022-08-30   \n",
       "1  Pengajuan laptop macbook 100 unit untuk divisi...  2022-05-18   \n",
       "2  Pengajuan penutupan Data Center, dan migrasi k...  2022-11-11   \n",
       "\n",
       "        bsu_fix   status  \n",
       "0  4.000000e+08  PENDING  \n",
       "1  3.000000e+10  PENDING  \n",
       "2  1.500000e+09  PENDING  "
      ]
     },
     "execution_count": 80,
     "metadata": {},
     "output_type": "execute_result"
    }
   ],
   "source": [
    "data = requests.get(\n",
    "    'https://ravenclaw-services.herokuapp.com/CRUD/admin/lihat-data-pengajuan')\n",
    "pd.DataFrame(data.json())\n"
   ]
  },
  {
   "cell_type": "markdown",
   "metadata": {},
   "source": [
    "#### POST Request"
   ]
  },
  {
   "cell_type": "markdown",
   "metadata": {},
   "source": [
    "##### REGISTRATION"
   ]
  },
  {
   "cell_type": "code",
   "execution_count": 143,
   "metadata": {},
   "outputs": [
    {
     "data": {
      "text/plain": [
       "{'registration_status': 'success'}"
      ]
     },
     "execution_count": 143,
     "metadata": {},
     "output_type": "execute_result"
    }
   ],
   "source": [
    "payload = {\n",
    "    'name': 'Violyn Agustin',\n",
    "    'username': 'madam_vio',\n",
    "    'password': 'sukapisang69',\n",
    "    'role': 'admin',\n",
    "    'divisi': 'ITSG'\n",
    "}\n",
    "\n",
    "\n",
    "data = requests.post('https://ravenclaw-services.herokuapp.com/CRUD/reg', json=payload)\n",
    "data.json()"
   ]
  },
  {
   "cell_type": "markdown",
   "metadata": {},
   "source": [
    "##### LOGIN"
   ]
  },
  {
   "cell_type": "markdown",
   "metadata": {},
   "source": [
    "if user_name not registered"
   ]
  },
  {
   "cell_type": "code",
   "execution_count": 11,
   "metadata": {},
   "outputs": [
    {
     "data": {
      "text/plain": [
       "{'login_status': 'failed', 'msg': 'wrong user_name'}"
      ]
     },
     "execution_count": 11,
     "metadata": {},
     "output_type": "execute_result"
    }
   ],
   "source": [
    "payload = {\n",
    "    'user_name': 'hafidz',\n",
    "    'password': 'hehehehe',\n",
    "}\n",
    "\n",
    "data = requests.post('https://ravenclaw-services.herokuapp.com/CRUD/login', json=payload)\n",
    "data.json()\n"
   ]
  },
  {
   "cell_type": "markdown",
   "metadata": {},
   "source": [
    "if user_name is registered but password is wrong"
   ]
  },
  {
   "cell_type": "code",
   "execution_count": 32,
   "metadata": {},
   "outputs": [
    {
     "data": {
      "text/plain": [
       "{'login_status': 'failed', 'msg': 'wrong password'}"
      ]
     },
     "execution_count": 32,
     "metadata": {},
     "output_type": "execute_result"
    }
   ],
   "source": [
    "payload = {\n",
    "    'username': 'hanggoro',\n",
    "    'password': 'hehehehe',\n",
    "}\n",
    "\n",
    "data = requests.post(\n",
    "    'https://ravenclaw-services.herokuapp.com/CRUD/login', json=payload)\n",
    "data.json()\n"
   ]
  },
  {
   "cell_type": "markdown",
   "metadata": {},
   "source": [
    "if everything is success"
   ]
  },
  {
   "cell_type": "code",
   "execution_count": 110,
   "metadata": {},
   "outputs": [
    {
     "data": {
      "text/plain": [
       "{'login_status': 'success',\n",
       " 'data': {'name': 'Hanggoro Feriawan',\n",
       "  'username': 'hanggoro',\n",
       "  'role': 'client',\n",
       "  'divisi': 'DEVOPS'}}"
      ]
     },
     "execution_count": 110,
     "metadata": {},
     "output_type": "execute_result"
    }
   ],
   "source": [
    "payload = {\n",
    "    'username': 'hanggoro',\n",
    "    'password': 'devopsvp11',\n",
    "}\n",
    "\n",
    "data = requests.post(\n",
    "    'https://ravenclaw-services.herokuapp.com/CRUD/login', json=payload)\n",
    "data.json()\n"
   ]
  },
  {
   "cell_type": "markdown",
   "metadata": {},
   "source": [
    "##### Form Pengajuan"
   ]
  },
  {
   "cell_type": "code",
   "execution_count": 108,
   "metadata": {},
   "outputs": [
    {
     "data": {
      "text/plain": [
       "{'username': 'hanggoro',\n",
       " 'name': 'Hanggoro Feriawan',\n",
       " 'divisi': 'DEVOPS',\n",
       " 'aktivitas': 'Pengajuan jasa vendor untuk develop POSPAY superapp',\n",
       " 'due_date': '2023-05-10',\n",
       " 'bsu_fix': 400000000}"
      ]
     },
     "execution_count": 108,
     "metadata": {},
     "output_type": "execute_result"
    }
   ],
   "source": [
    "payload = {\n",
    "    'username': 'hanggoro',  # disabled dan tidak muncul di form\n",
    "    'name': 'Hanggoro Feriawan',  # disabled\n",
    "    'divisi': 'DEVOPS',  # disabled\n",
    "    'aktivitas': 'Pengajuan jasa vendor untuk develop POSPAY superapp',\n",
    "    'due_date': '2023-05-10',\n",
    "    'bsu_fix': 400000000,\n",
    "}\n",
    "payload"
   ]
  },
  {
   "cell_type": "code",
   "execution_count": 138,
   "metadata": {},
   "outputs": [
    {
     "data": {
      "text/plain": [
       "{'status': 'success'}"
      ]
     },
     "execution_count": 138,
     "metadata": {},
     "output_type": "execute_result"
    }
   ],
   "source": [
    "\n",
    "\n",
    "payload = {\n",
    "    'username': 'anhar', # disabled dan tidak muncul di form\n",
    "    'name': 'Anhar',  # disabled\n",
    "    'divisi': 'ITAIS', # disabled\n",
    "    'aktivitas': 'Pengadaan Penyediaan ENDPOINTSECURITY',\n",
    "    'due_date': '2023-05-24',\n",
    "    'kategori': 'CAPEX',\n",
    "    'bsu_fix': 8000000,\n",
    "}\n",
    "\n",
    "data = requests.post(\n",
    "    'https://ravenclaw-services.herokuapp.com/CRUD/client/form-pengajuan', json=payload)\n",
    "test = data.json()\n",
    "test"
   ]
  },
  {
   "cell_type": "code",
   "execution_count": 128,
   "metadata": {},
   "outputs": [
    {
     "data": {
      "text/plain": [
       "{'username': 'hanggoro',\n",
       " 'name': 'Hanggoro Feriawan',\n",
       " 'divisi': 'DEVOPS',\n",
       " 'aktivitas': 'Pengajuan service AWS S3 1 Tera per month',\n",
       " 'due_date': '2022-08-30',\n",
       " 'bsu_fix': 400000000.0}"
      ]
     },
     "execution_count": 128,
     "metadata": {},
     "output_type": "execute_result"
    }
   ],
   "source": [
    "test['data2']"
   ]
  },
  {
   "cell_type": "code",
   "execution_count": 139,
   "metadata": {},
   "outputs": [],
   "source": [
    "\n",
    "payload = {\n",
    "    'username': 'hanggoro'\n",
    "}\n",
    "data = requests.post(\n",
    "    'https://ravenclaw-services.herokuapp.com/CRUD/client/lihat-data-pengajuan', json=payload)\n",
    "df = data.json()\n"
   ]
  },
  {
   "cell_type": "code",
   "execution_count": 140,
   "metadata": {},
   "outputs": [
    {
     "data": {
      "text/plain": [
       "[{'order_id': 'DEV-1664961432',\n",
       "  'name': 'Hanggoro Feriawan',\n",
       "  'divisi': 'DEVOPS',\n",
       "  'aktivitas': 'Pengadaan Jasa Sewa Cloud Azure',\n",
       "  'due_date': '2023-05-30',\n",
       "  'kategori': 'OPEX',\n",
       "  'status': 'PENDING',\n",
       "  'bsu_fix': 6000000.0},\n",
       " {'order_id': 'DEV-1664961706',\n",
       "  'name': 'Hanggoro Feriawan',\n",
       "  'divisi': 'DEVOPS',\n",
       "  'aktivitas': 'Pembelian Perangkat IT, MACBOOK AIR M2 sejumlah 100 unit',\n",
       "  'due_date': '2023-04-19',\n",
       "  'kategori': 'CAPEX',\n",
       "  'status': 'PENDING',\n",
       "  'bsu_fix': 14000000.0},\n",
       " {'order_id': 'DEV-1664961784',\n",
       "  'name': 'Hanggoro Feriawan',\n",
       "  'divisi': 'DEVOPS',\n",
       "  'aktivitas': 'Implementasi Robotics Process Automation(RPA) pada proses rekonsiliasi SGLK',\n",
       "  'due_date': '2023-05-23',\n",
       "  'kategori': 'CAPEX',\n",
       "  'status': 'PENDING',\n",
       "  'bsu_fix': 17000000.0}]"
      ]
     },
     "execution_count": 140,
     "metadata": {},
     "output_type": "execute_result"
    }
   ],
   "source": [
    "df"
   ]
  },
  {
   "cell_type": "code",
   "execution_count": 142,
   "metadata": {},
   "outputs": [
    {
     "data": {
      "text/html": [
       "<div>\n",
       "<style scoped>\n",
       "    .dataframe tbody tr th:only-of-type {\n",
       "        vertical-align: middle;\n",
       "    }\n",
       "\n",
       "    .dataframe tbody tr th {\n",
       "        vertical-align: top;\n",
       "    }\n",
       "\n",
       "    .dataframe thead th {\n",
       "        text-align: right;\n",
       "    }\n",
       "</style>\n",
       "<table border=\"1\" class=\"dataframe\">\n",
       "  <thead>\n",
       "    <tr style=\"text-align: right;\">\n",
       "      <th></th>\n",
       "      <th>order_id</th>\n",
       "      <th>name</th>\n",
       "      <th>divisi</th>\n",
       "      <th>aktivitas</th>\n",
       "      <th>due_date</th>\n",
       "      <th>kategori</th>\n",
       "      <th>status</th>\n",
       "      <th>bsu_fix</th>\n",
       "    </tr>\n",
       "  </thead>\n",
       "  <tbody>\n",
       "    <tr>\n",
       "      <th>0</th>\n",
       "      <td>DEV-1664961432</td>\n",
       "      <td>Hanggoro Feriawan</td>\n",
       "      <td>DEVOPS</td>\n",
       "      <td>Pengadaan Jasa Sewa Cloud Azure</td>\n",
       "      <td>2023-05-30</td>\n",
       "      <td>OPEX</td>\n",
       "      <td>PENDING</td>\n",
       "      <td>6000000.0</td>\n",
       "    </tr>\n",
       "    <tr>\n",
       "      <th>1</th>\n",
       "      <td>DEV-1664961706</td>\n",
       "      <td>Hanggoro Feriawan</td>\n",
       "      <td>DEVOPS</td>\n",
       "      <td>Pembelian Perangkat IT, MACBOOK AIR M2 sejumla...</td>\n",
       "      <td>2023-04-19</td>\n",
       "      <td>CAPEX</td>\n",
       "      <td>PENDING</td>\n",
       "      <td>14000000.0</td>\n",
       "    </tr>\n",
       "    <tr>\n",
       "      <th>2</th>\n",
       "      <td>DEV-1664961784</td>\n",
       "      <td>Hanggoro Feriawan</td>\n",
       "      <td>DEVOPS</td>\n",
       "      <td>Implementasi Robotics Process Automation(RPA) ...</td>\n",
       "      <td>2023-05-23</td>\n",
       "      <td>CAPEX</td>\n",
       "      <td>PENDING</td>\n",
       "      <td>17000000.0</td>\n",
       "    </tr>\n",
       "  </tbody>\n",
       "</table>\n",
       "</div>"
      ],
      "text/plain": [
       "         order_id               name  divisi  \\\n",
       "0  DEV-1664961432  Hanggoro Feriawan  DEVOPS   \n",
       "1  DEV-1664961706  Hanggoro Feriawan  DEVOPS   \n",
       "2  DEV-1664961784  Hanggoro Feriawan  DEVOPS   \n",
       "\n",
       "                                           aktivitas    due_date kategori  \\\n",
       "0                    Pengadaan Jasa Sewa Cloud Azure  2023-05-30     OPEX   \n",
       "1  Pembelian Perangkat IT, MACBOOK AIR M2 sejumla...  2023-04-19    CAPEX   \n",
       "2  Implementasi Robotics Process Automation(RPA) ...  2023-05-23    CAPEX   \n",
       "\n",
       "    status     bsu_fix  \n",
       "0  PENDING   6000000.0  \n",
       "1  PENDING  14000000.0  \n",
       "2  PENDING  17000000.0  "
      ]
     },
     "execution_count": 142,
     "metadata": {},
     "output_type": "execute_result"
    }
   ],
   "source": [
    "import pandas as pd\n",
    "pd.DataFrame(df)"
   ]
  },
  {
   "cell_type": "code",
   "execution_count": null,
   "metadata": {},
   "outputs": [],
   "source": []
  }
 ],
 "metadata": {
  "kernelspec": {
   "display_name": "Python 3.10.1 64-bit",
   "language": "python",
   "name": "python3"
  },
  "language_info": {
   "codemirror_mode": {
    "name": "ipython",
    "version": 3
   },
   "file_extension": ".py",
   "mimetype": "text/x-python",
   "name": "python",
   "nbconvert_exporter": "python",
   "pygments_lexer": "ipython3",
   "version": "3.10.1"
  },
  "orig_nbformat": 4,
  "vscode": {
   "interpreter": {
    "hash": "9b00adcca2d127d9453d757094884878814abfad2252649bfcca8391f83476c8"
   }
  }
 },
 "nbformat": 4,
 "nbformat_minor": 2
}
