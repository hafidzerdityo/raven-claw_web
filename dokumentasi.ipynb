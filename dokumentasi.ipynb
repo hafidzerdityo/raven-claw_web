{
 "cells": [
  {
   "cell_type": "code",
   "execution_count": 26,
   "metadata": {},
   "outputs": [],
   "source": [
    "import requests # import library untuk API Call (HTTP Call)\n"
   ]
  },
  {
   "cell_type": "markdown",
   "metadata": {},
   "source": [
    "#### GET Request (contoh aja)"
   ]
  },
  {
   "cell_type": "code",
   "execution_count": 4,
   "metadata": {},
   "outputs": [
    {
     "data": {
      "text/plain": [
       "{'message': 'This is encrypted lagi: 3e8a9952527e6d60a02d1dd53b97b2484cb1f6d5a21c3c7feb241054ab7eed50bd4f0f1fe5586cb0a6968c7fbb0aed12ce00a9f0a7787ed6dfd632134d2fe583'}"
      ]
     },
     "execution_count": 4,
     "metadata": {},
     "output_type": "execute_result"
    }
   ],
   "source": [
    "data = requests.get('https://ravenclaw-services.herokuapp.com/test')\n",
    "data.json()\n"
   ]
  },
  {
   "cell_type": "markdown",
   "metadata": {},
   "source": [
    "#### POST Request"
   ]
  },
  {
   "cell_type": "markdown",
   "metadata": {},
   "source": [
    "##### REGISTRATION endpoint -> /CRUD/reg"
   ]
  },
  {
   "cell_type": "code",
   "execution_count": 31,
   "metadata": {},
   "outputs": [
    {
     "data": {
      "text/plain": [
       "{'registration_status': 'success'}"
      ]
     },
     "execution_count": 31,
     "metadata": {},
     "output_type": "execute_result"
    }
   ],
   "source": [
    "payload = {\n",
    "    'username': 'madamvio',\n",
    "    'password': 'sukapisang69',\n",
    "    'role': 'admin',\n",
    "    'divisi': 'ITSG'\n",
    "}\n",
    "\n",
    "\n",
    "data = requests.post('https://ravenclaw-services.herokuapp.com/CRUD/reg', json=payload)\n",
    "data.json()"
   ]
  },
  {
   "cell_type": "markdown",
   "metadata": {},
   "source": [
    "##### LOGIN endpoint -> /CRUD/login"
   ]
  },
  {
   "cell_type": "markdown",
   "metadata": {},
   "source": [
    "if user_name not registered"
   ]
  },
  {
   "cell_type": "code",
   "execution_count": 11,
   "metadata": {},
   "outputs": [
    {
     "data": {
      "text/plain": [
       "{'login_status': 'failed', 'msg': 'wrong user_name'}"
      ]
     },
     "execution_count": 11,
     "metadata": {},
     "output_type": "execute_result"
    }
   ],
   "source": [
    "payload = {\n",
    "    'user_name': 'hafidz',\n",
    "    'password': 'hehehehe',\n",
    "}\n",
    "\n",
    "data = requests.post('https://ravenclaw-services.herokuapp.com/CRUD/login', json=payload)\n",
    "data.json()\n"
   ]
  },
  {
   "cell_type": "markdown",
   "metadata": {},
   "source": [
    "if user_name is registered but password is wrong"
   ]
  },
  {
   "cell_type": "code",
   "execution_count": 32,
   "metadata": {},
   "outputs": [
    {
     "data": {
      "text/plain": [
       "{'login_status': 'failed', 'msg': 'wrong password'}"
      ]
     },
     "execution_count": 32,
     "metadata": {},
     "output_type": "execute_result"
    }
   ],
   "source": [
    "payload = {\n",
    "    'username': 'hanggoro',\n",
    "    'password': 'hehehehe',\n",
    "}\n",
    "\n",
    "data = requests.post(\n",
    "    'https://ravenclaw-services.herokuapp.com/CRUD/login', json=payload)\n",
    "data.json()\n"
   ]
  },
  {
   "cell_type": "markdown",
   "metadata": {},
   "source": [
    "if everything is success"
   ]
  },
  {
   "cell_type": "code",
   "execution_count": 30,
   "metadata": {},
   "outputs": [
    {
     "data": {
      "text/plain": [
       "{'login_status': 'success',\n",
       " 'data': {'username': 'hanggoro', 'role': 'client', 'divisi': 'DEVOPS'}}"
      ]
     },
     "execution_count": 30,
     "metadata": {},
     "output_type": "execute_result"
    }
   ],
   "source": [
    "payload = {\n",
    "    'username': 'hanggoro',\n",
    "    'password': 'devopsvp11',\n",
    "}\n",
    "\n",
    "data = requests.post(\n",
    "    'https://ravenclaw-services.herokuapp.com/CRUD/login', json=payload)\n",
    "data.json()\n"
   ]
  },
  {
   "cell_type": "code",
   "execution_count": 33,
   "metadata": {},
   "outputs": [
    {
     "data": {
      "text/plain": [
       "{'registration_status': 'success'}"
      ]
     },
     "execution_count": 33,
     "metadata": {},
     "output_type": "execute_result"
    }
   ],
   "source": [
    "\n",
    "\n",
    "payload = {\n",
    "    'username': 'hanggoro', # disabled dan tidak muncul di form\n",
    "    'name': 'Hanggoro Feriawan',\n",
    "    'divisi': 'DEVOPS', # disabled\n",
    "    'aktivitas': 'Pengajuan laptop macbook 100 unit untuk divisi aplikasi jaskug',\n",
    "    'due_date': '2022-05-18',\n",
    "    'bsu_fix': 30000000000,\n",
    "}\n",
    "\n",
    "data = requests.post(\n",
    "    'https://ravenclaw-services.herokuapp.com/CRUD/client/form-pengajuan', json=payload)\n",
    "data.json()\n"
   ]
  }
 ],
 "metadata": {
  "kernelspec": {
   "display_name": "Python 3.10.1 64-bit",
   "language": "python",
   "name": "python3"
  },
  "language_info": {
   "codemirror_mode": {
    "name": "ipython",
    "version": 3
   },
   "file_extension": ".py",
   "mimetype": "text/x-python",
   "name": "python",
   "nbconvert_exporter": "python",
   "pygments_lexer": "ipython3",
   "version": "3.10.1"
  },
  "orig_nbformat": 4,
  "vscode": {
   "interpreter": {
    "hash": "9b00adcca2d127d9453d757094884878814abfad2252649bfcca8391f83476c8"
   }
  }
 },
 "nbformat": 4,
 "nbformat_minor": 2
}
