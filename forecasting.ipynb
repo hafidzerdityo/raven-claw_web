{
 "cells": [
  {
   "cell_type": "code",
   "execution_count": 14,
   "metadata": {},
   "outputs": [
    {
     "data": {
      "text/html": [
       "<div>\n",
       "<style scoped>\n",
       "    .dataframe tbody tr th:only-of-type {\n",
       "        vertical-align: middle;\n",
       "    }\n",
       "\n",
       "    .dataframe tbody tr th {\n",
       "        vertical-align: top;\n",
       "    }\n",
       "\n",
       "    .dataframe thead th {\n",
       "        text-align: right;\n",
       "    }\n",
       "</style>\n",
       "<table border=\"1\" class=\"dataframe\">\n",
       "  <thead>\n",
       "    <tr style=\"text-align: right;\">\n",
       "      <th></th>\n",
       "      <th>Date</th>\n",
       "      <th>Open</th>\n",
       "      <th>High</th>\n",
       "      <th>Low</th>\n",
       "      <th>Close</th>\n",
       "      <th>Adj Close</th>\n",
       "      <th>Volume</th>\n",
       "    </tr>\n",
       "  </thead>\n",
       "  <tbody>\n",
       "    <tr>\n",
       "      <th>0</th>\n",
       "      <td>1986-03-13</td>\n",
       "      <td>0.088542</td>\n",
       "      <td>0.101563</td>\n",
       "      <td>0.088542</td>\n",
       "      <td>0.097222</td>\n",
       "      <td>0.060980</td>\n",
       "      <td>1031788800</td>\n",
       "    </tr>\n",
       "    <tr>\n",
       "      <th>1</th>\n",
       "      <td>1986-03-14</td>\n",
       "      <td>0.097222</td>\n",
       "      <td>0.102431</td>\n",
       "      <td>0.097222</td>\n",
       "      <td>0.100694</td>\n",
       "      <td>0.063158</td>\n",
       "      <td>308160000</td>\n",
       "    </tr>\n",
       "    <tr>\n",
       "      <th>2</th>\n",
       "      <td>1986-03-17</td>\n",
       "      <td>0.100694</td>\n",
       "      <td>0.103299</td>\n",
       "      <td>0.100694</td>\n",
       "      <td>0.102431</td>\n",
       "      <td>0.064247</td>\n",
       "      <td>133171200</td>\n",
       "    </tr>\n",
       "    <tr>\n",
       "      <th>3</th>\n",
       "      <td>1986-03-18</td>\n",
       "      <td>0.102431</td>\n",
       "      <td>0.103299</td>\n",
       "      <td>0.098958</td>\n",
       "      <td>0.099826</td>\n",
       "      <td>0.062613</td>\n",
       "      <td>67766400</td>\n",
       "    </tr>\n",
       "    <tr>\n",
       "      <th>4</th>\n",
       "      <td>1986-03-19</td>\n",
       "      <td>0.099826</td>\n",
       "      <td>0.100694</td>\n",
       "      <td>0.097222</td>\n",
       "      <td>0.098090</td>\n",
       "      <td>0.061524</td>\n",
       "      <td>47894400</td>\n",
       "    </tr>\n",
       "    <tr>\n",
       "      <th>...</th>\n",
       "      <td>...</td>\n",
       "      <td>...</td>\n",
       "      <td>...</td>\n",
       "      <td>...</td>\n",
       "      <td>...</td>\n",
       "      <td>...</td>\n",
       "      <td>...</td>\n",
       "    </tr>\n",
       "    <tr>\n",
       "      <th>9214</th>\n",
       "      <td>2022-10-03</td>\n",
       "      <td>235.410004</td>\n",
       "      <td>241.610001</td>\n",
       "      <td>234.660004</td>\n",
       "      <td>240.740005</td>\n",
       "      <td>240.740005</td>\n",
       "      <td>28880400</td>\n",
       "    </tr>\n",
       "    <tr>\n",
       "      <th>9215</th>\n",
       "      <td>2022-10-04</td>\n",
       "      <td>245.089996</td>\n",
       "      <td>250.360001</td>\n",
       "      <td>244.979996</td>\n",
       "      <td>248.880005</td>\n",
       "      <td>248.880005</td>\n",
       "      <td>34888400</td>\n",
       "    </tr>\n",
       "    <tr>\n",
       "      <th>9216</th>\n",
       "      <td>2022-10-05</td>\n",
       "      <td>245.990005</td>\n",
       "      <td>250.580002</td>\n",
       "      <td>244.100006</td>\n",
       "      <td>249.199997</td>\n",
       "      <td>249.199997</td>\n",
       "      <td>20347100</td>\n",
       "    </tr>\n",
       "    <tr>\n",
       "      <th>9217</th>\n",
       "      <td>2022-10-06</td>\n",
       "      <td>247.929993</td>\n",
       "      <td>250.339996</td>\n",
       "      <td>246.080002</td>\n",
       "      <td>246.789993</td>\n",
       "      <td>246.789993</td>\n",
       "      <td>20239900</td>\n",
       "    </tr>\n",
       "    <tr>\n",
       "      <th>9218</th>\n",
       "      <td>2022-10-07</td>\n",
       "      <td>240.899994</td>\n",
       "      <td>241.320007</td>\n",
       "      <td>233.169998</td>\n",
       "      <td>234.240005</td>\n",
       "      <td>234.240005</td>\n",
       "      <td>37732400</td>\n",
       "    </tr>\n",
       "  </tbody>\n",
       "</table>\n",
       "<p>9219 rows × 7 columns</p>\n",
       "</div>"
      ],
      "text/plain": [
       "            Date        Open        High         Low       Close   Adj Close  \\\n",
       "0     1986-03-13    0.088542    0.101563    0.088542    0.097222    0.060980   \n",
       "1     1986-03-14    0.097222    0.102431    0.097222    0.100694    0.063158   \n",
       "2     1986-03-17    0.100694    0.103299    0.100694    0.102431    0.064247   \n",
       "3     1986-03-18    0.102431    0.103299    0.098958    0.099826    0.062613   \n",
       "4     1986-03-19    0.099826    0.100694    0.097222    0.098090    0.061524   \n",
       "...          ...         ...         ...         ...         ...         ...   \n",
       "9214  2022-10-03  235.410004  241.610001  234.660004  240.740005  240.740005   \n",
       "9215  2022-10-04  245.089996  250.360001  244.979996  248.880005  248.880005   \n",
       "9216  2022-10-05  245.990005  250.580002  244.100006  249.199997  249.199997   \n",
       "9217  2022-10-06  247.929993  250.339996  246.080002  246.789993  246.789993   \n",
       "9218  2022-10-07  240.899994  241.320007  233.169998  234.240005  234.240005   \n",
       "\n",
       "          Volume  \n",
       "0     1031788800  \n",
       "1      308160000  \n",
       "2      133171200  \n",
       "3       67766400  \n",
       "4       47894400  \n",
       "...          ...  \n",
       "9214    28880400  \n",
       "9215    34888400  \n",
       "9216    20347100  \n",
       "9217    20239900  \n",
       "9218    37732400  \n",
       "\n",
       "[9219 rows x 7 columns]"
      ]
     },
     "execution_count": 14,
     "metadata": {},
     "output_type": "execute_result"
    }
   ],
   "source": [
    "import pandas as pd\n",
    "\n",
    "df = pd.read_csv('MSFT.csv')\n",
    "\n",
    "df\n"
   ]
  },
  {
   "cell_type": "code",
   "execution_count": 15,
   "metadata": {},
   "outputs": [],
   "source": [
    "# import pandas as pd\n",
    "# import requests\n",
    "\n",
    "# data = requests.get(\n",
    "#     'https://ravenclaw-services.herokuapp.com/CRUD/admin/lihat-data-pengajuan')\n",
    "# df = pd.DataFrame(data.json())\n",
    "# df.sample(4)\n",
    "\n",
    "# df['Date'] = df['due'].apply(lambda x:x['due_date'])\n",
    "# df['Close'] = df['bsu'].apply(lambda x:x['bsu_fix'])"
   ]
  },
  {
   "cell_type": "code",
   "execution_count": 16,
   "metadata": {},
   "outputs": [
    {
     "data": {
      "text/html": [
       "<div>\n",
       "<style scoped>\n",
       "    .dataframe tbody tr th:only-of-type {\n",
       "        vertical-align: middle;\n",
       "    }\n",
       "\n",
       "    .dataframe tbody tr th {\n",
       "        vertical-align: top;\n",
       "    }\n",
       "\n",
       "    .dataframe thead th {\n",
       "        text-align: right;\n",
       "    }\n",
       "</style>\n",
       "<table border=\"1\" class=\"dataframe\">\n",
       "  <thead>\n",
       "    <tr style=\"text-align: right;\">\n",
       "      <th></th>\n",
       "      <th>Date</th>\n",
       "      <th>Close</th>\n",
       "    </tr>\n",
       "  </thead>\n",
       "  <tbody>\n",
       "    <tr>\n",
       "      <th>0</th>\n",
       "      <td>1986-03-13</td>\n",
       "      <td>0.097222</td>\n",
       "    </tr>\n",
       "    <tr>\n",
       "      <th>1</th>\n",
       "      <td>1986-03-14</td>\n",
       "      <td>0.100694</td>\n",
       "    </tr>\n",
       "    <tr>\n",
       "      <th>2</th>\n",
       "      <td>1986-03-17</td>\n",
       "      <td>0.102431</td>\n",
       "    </tr>\n",
       "    <tr>\n",
       "      <th>3</th>\n",
       "      <td>1986-03-18</td>\n",
       "      <td>0.099826</td>\n",
       "    </tr>\n",
       "    <tr>\n",
       "      <th>4</th>\n",
       "      <td>1986-03-19</td>\n",
       "      <td>0.098090</td>\n",
       "    </tr>\n",
       "    <tr>\n",
       "      <th>...</th>\n",
       "      <td>...</td>\n",
       "      <td>...</td>\n",
       "    </tr>\n",
       "    <tr>\n",
       "      <th>9214</th>\n",
       "      <td>2022-10-03</td>\n",
       "      <td>240.740005</td>\n",
       "    </tr>\n",
       "    <tr>\n",
       "      <th>9215</th>\n",
       "      <td>2022-10-04</td>\n",
       "      <td>248.880005</td>\n",
       "    </tr>\n",
       "    <tr>\n",
       "      <th>9216</th>\n",
       "      <td>2022-10-05</td>\n",
       "      <td>249.199997</td>\n",
       "    </tr>\n",
       "    <tr>\n",
       "      <th>9217</th>\n",
       "      <td>2022-10-06</td>\n",
       "      <td>246.789993</td>\n",
       "    </tr>\n",
       "    <tr>\n",
       "      <th>9218</th>\n",
       "      <td>2022-10-07</td>\n",
       "      <td>234.240005</td>\n",
       "    </tr>\n",
       "  </tbody>\n",
       "</table>\n",
       "<p>9219 rows × 2 columns</p>\n",
       "</div>"
      ],
      "text/plain": [
       "            Date       Close\n",
       "0     1986-03-13    0.097222\n",
       "1     1986-03-14    0.100694\n",
       "2     1986-03-17    0.102431\n",
       "3     1986-03-18    0.099826\n",
       "4     1986-03-19    0.098090\n",
       "...          ...         ...\n",
       "9214  2022-10-03  240.740005\n",
       "9215  2022-10-04  248.880005\n",
       "9216  2022-10-05  249.199997\n",
       "9217  2022-10-06  246.789993\n",
       "9218  2022-10-07  234.240005\n",
       "\n",
       "[9219 rows x 2 columns]"
      ]
     },
     "execution_count": 16,
     "metadata": {},
     "output_type": "execute_result"
    }
   ],
   "source": [
    "df = df[['Date', 'Close']]\n",
    "\n",
    "df\n"
   ]
  },
  {
   "cell_type": "code",
   "execution_count": 17,
   "metadata": {},
   "outputs": [
    {
     "data": {
      "text/plain": [
       "0       1986-03-13\n",
       "1       1986-03-14\n",
       "2       1986-03-17\n",
       "3       1986-03-18\n",
       "4       1986-03-19\n",
       "           ...    \n",
       "9214    2022-10-03\n",
       "9215    2022-10-04\n",
       "9216    2022-10-05\n",
       "9217    2022-10-06\n",
       "9218    2022-10-07\n",
       "Name: Date, Length: 9219, dtype: object"
      ]
     },
     "execution_count": 17,
     "metadata": {},
     "output_type": "execute_result"
    }
   ],
   "source": [
    "df['Date']\n"
   ]
  },
  {
   "cell_type": "code",
   "execution_count": 18,
   "metadata": {},
   "outputs": [
    {
     "data": {
      "text/plain": [
       "datetime.datetime(1986, 3, 19, 0, 0)"
      ]
     },
     "execution_count": 18,
     "metadata": {},
     "output_type": "execute_result"
    }
   ],
   "source": [
    "import datetime\n",
    "\n",
    "\n",
    "def str_to_datetime(s):\n",
    "  split = s.split('-')\n",
    "  year, month, day = int(split[0]), int(split[1]), int(split[2])\n",
    "  return datetime.datetime(year=year, month=month, day=day)\n",
    "\n",
    "\n",
    "datetime_object = str_to_datetime('1986-03-19')\n",
    "datetime_object\n"
   ]
  },
  {
   "cell_type": "code",
   "execution_count": 19,
   "metadata": {},
   "outputs": [
    {
     "data": {
      "text/html": [
       "<div>\n",
       "<style scoped>\n",
       "    .dataframe tbody tr th:only-of-type {\n",
       "        vertical-align: middle;\n",
       "    }\n",
       "\n",
       "    .dataframe tbody tr th {\n",
       "        vertical-align: top;\n",
       "    }\n",
       "\n",
       "    .dataframe thead th {\n",
       "        text-align: right;\n",
       "    }\n",
       "</style>\n",
       "<table border=\"1\" class=\"dataframe\">\n",
       "  <thead>\n",
       "    <tr style=\"text-align: right;\">\n",
       "      <th></th>\n",
       "      <th>Date</th>\n",
       "      <th>Close</th>\n",
       "    </tr>\n",
       "  </thead>\n",
       "  <tbody>\n",
       "    <tr>\n",
       "      <th>0</th>\n",
       "      <td>1986-03-13</td>\n",
       "      <td>0.097222</td>\n",
       "    </tr>\n",
       "    <tr>\n",
       "      <th>1</th>\n",
       "      <td>1986-03-14</td>\n",
       "      <td>0.100694</td>\n",
       "    </tr>\n",
       "    <tr>\n",
       "      <th>2</th>\n",
       "      <td>1986-03-17</td>\n",
       "      <td>0.102431</td>\n",
       "    </tr>\n",
       "    <tr>\n",
       "      <th>3</th>\n",
       "      <td>1986-03-18</td>\n",
       "      <td>0.099826</td>\n",
       "    </tr>\n",
       "    <tr>\n",
       "      <th>4</th>\n",
       "      <td>1986-03-19</td>\n",
       "      <td>0.098090</td>\n",
       "    </tr>\n",
       "    <tr>\n",
       "      <th>...</th>\n",
       "      <td>...</td>\n",
       "      <td>...</td>\n",
       "    </tr>\n",
       "    <tr>\n",
       "      <th>9214</th>\n",
       "      <td>2022-10-03</td>\n",
       "      <td>240.740005</td>\n",
       "    </tr>\n",
       "    <tr>\n",
       "      <th>9215</th>\n",
       "      <td>2022-10-04</td>\n",
       "      <td>248.880005</td>\n",
       "    </tr>\n",
       "    <tr>\n",
       "      <th>9216</th>\n",
       "      <td>2022-10-05</td>\n",
       "      <td>249.199997</td>\n",
       "    </tr>\n",
       "    <tr>\n",
       "      <th>9217</th>\n",
       "      <td>2022-10-06</td>\n",
       "      <td>246.789993</td>\n",
       "    </tr>\n",
       "    <tr>\n",
       "      <th>9218</th>\n",
       "      <td>2022-10-07</td>\n",
       "      <td>234.240005</td>\n",
       "    </tr>\n",
       "  </tbody>\n",
       "</table>\n",
       "<p>9219 rows × 2 columns</p>\n",
       "</div>"
      ],
      "text/plain": [
       "            Date       Close\n",
       "0     1986-03-13    0.097222\n",
       "1     1986-03-14    0.100694\n",
       "2     1986-03-17    0.102431\n",
       "3     1986-03-18    0.099826\n",
       "4     1986-03-19    0.098090\n",
       "...          ...         ...\n",
       "9214  2022-10-03  240.740005\n",
       "9215  2022-10-04  248.880005\n",
       "9216  2022-10-05  249.199997\n",
       "9217  2022-10-06  246.789993\n",
       "9218  2022-10-07  234.240005\n",
       "\n",
       "[9219 rows x 2 columns]"
      ]
     },
     "execution_count": 19,
     "metadata": {},
     "output_type": "execute_result"
    }
   ],
   "source": [
    "df"
   ]
  },
  {
   "cell_type": "code",
   "execution_count": 20,
   "metadata": {},
   "outputs": [
    {
     "name": "stderr",
     "output_type": "stream",
     "text": [
      "C:\\Users\\hafid\\AppData\\Local\\Temp/ipykernel_20848/2565755782.py:1: SettingWithCopyWarning: \n",
      "A value is trying to be set on a copy of a slice from a DataFrame.\n",
      "Try using .loc[row_indexer,col_indexer] = value instead\n",
      "\n",
      "See the caveats in the documentation: https://pandas.pydata.org/pandas-docs/stable/user_guide/indexing.html#returning-a-view-versus-a-copy\n",
      "  df['Date'] = df['Date'].apply(str_to_datetime)\n"
     ]
    },
    {
     "data": {
      "text/plain": [
       "0      1986-03-13\n",
       "1      1986-03-14\n",
       "2      1986-03-17\n",
       "3      1986-03-18\n",
       "4      1986-03-19\n",
       "          ...    \n",
       "9214   2022-10-03\n",
       "9215   2022-10-04\n",
       "9216   2022-10-05\n",
       "9217   2022-10-06\n",
       "9218   2022-10-07\n",
       "Name: Date, Length: 9219, dtype: datetime64[ns]"
      ]
     },
     "execution_count": 20,
     "metadata": {},
     "output_type": "execute_result"
    }
   ],
   "source": [
    "df['Date'] = df['Date'].apply(str_to_datetime)\n",
    "df['Date']"
   ]
  },
  {
   "cell_type": "code",
   "execution_count": 21,
   "metadata": {},
   "outputs": [
    {
     "data": {
      "text/html": [
       "<div>\n",
       "<style scoped>\n",
       "    .dataframe tbody tr th:only-of-type {\n",
       "        vertical-align: middle;\n",
       "    }\n",
       "\n",
       "    .dataframe tbody tr th {\n",
       "        vertical-align: top;\n",
       "    }\n",
       "\n",
       "    .dataframe thead th {\n",
       "        text-align: right;\n",
       "    }\n",
       "</style>\n",
       "<table border=\"1\" class=\"dataframe\">\n",
       "  <thead>\n",
       "    <tr style=\"text-align: right;\">\n",
       "      <th></th>\n",
       "      <th>Date</th>\n",
       "      <th>Close</th>\n",
       "    </tr>\n",
       "  </thead>\n",
       "  <tbody>\n",
       "    <tr>\n",
       "      <th>0</th>\n",
       "      <td>1986-03-13</td>\n",
       "      <td>0.097222</td>\n",
       "    </tr>\n",
       "    <tr>\n",
       "      <th>1</th>\n",
       "      <td>1986-03-14</td>\n",
       "      <td>0.100694</td>\n",
       "    </tr>\n",
       "    <tr>\n",
       "      <th>2</th>\n",
       "      <td>1986-03-17</td>\n",
       "      <td>0.102431</td>\n",
       "    </tr>\n",
       "  </tbody>\n",
       "</table>\n",
       "</div>"
      ],
      "text/plain": [
       "        Date     Close\n",
       "0 1986-03-13  0.097222\n",
       "1 1986-03-14  0.100694\n",
       "2 1986-03-17  0.102431"
      ]
     },
     "execution_count": 21,
     "metadata": {},
     "output_type": "execute_result"
    }
   ],
   "source": [
    "df = df.sort_values(by='Date')\n",
    "df.head(3)"
   ]
  },
  {
   "cell_type": "code",
   "execution_count": 22,
   "metadata": {},
   "outputs": [
    {
     "data": {
      "text/html": [
       "<div>\n",
       "<style scoped>\n",
       "    .dataframe tbody tr th:only-of-type {\n",
       "        vertical-align: middle;\n",
       "    }\n",
       "\n",
       "    .dataframe tbody tr th {\n",
       "        vertical-align: top;\n",
       "    }\n",
       "\n",
       "    .dataframe thead th {\n",
       "        text-align: right;\n",
       "    }\n",
       "</style>\n",
       "<table border=\"1\" class=\"dataframe\">\n",
       "  <thead>\n",
       "    <tr style=\"text-align: right;\">\n",
       "      <th></th>\n",
       "      <th>Close</th>\n",
       "    </tr>\n",
       "    <tr>\n",
       "      <th>Date</th>\n",
       "      <th></th>\n",
       "    </tr>\n",
       "  </thead>\n",
       "  <tbody>\n",
       "    <tr>\n",
       "      <th>1986-03-13</th>\n",
       "      <td>0.097222</td>\n",
       "    </tr>\n",
       "    <tr>\n",
       "      <th>1986-03-14</th>\n",
       "      <td>0.100694</td>\n",
       "    </tr>\n",
       "    <tr>\n",
       "      <th>1986-03-17</th>\n",
       "      <td>0.102431</td>\n",
       "    </tr>\n",
       "    <tr>\n",
       "      <th>1986-03-18</th>\n",
       "      <td>0.099826</td>\n",
       "    </tr>\n",
       "    <tr>\n",
       "      <th>1986-03-19</th>\n",
       "      <td>0.098090</td>\n",
       "    </tr>\n",
       "    <tr>\n",
       "      <th>...</th>\n",
       "      <td>...</td>\n",
       "    </tr>\n",
       "    <tr>\n",
       "      <th>2022-10-03</th>\n",
       "      <td>240.740005</td>\n",
       "    </tr>\n",
       "    <tr>\n",
       "      <th>2022-10-04</th>\n",
       "      <td>248.880005</td>\n",
       "    </tr>\n",
       "    <tr>\n",
       "      <th>2022-10-05</th>\n",
       "      <td>249.199997</td>\n",
       "    </tr>\n",
       "    <tr>\n",
       "      <th>2022-10-06</th>\n",
       "      <td>246.789993</td>\n",
       "    </tr>\n",
       "    <tr>\n",
       "      <th>2022-10-07</th>\n",
       "      <td>234.240005</td>\n",
       "    </tr>\n",
       "  </tbody>\n",
       "</table>\n",
       "<p>9219 rows × 1 columns</p>\n",
       "</div>"
      ],
      "text/plain": [
       "                 Close\n",
       "Date                  \n",
       "1986-03-13    0.097222\n",
       "1986-03-14    0.100694\n",
       "1986-03-17    0.102431\n",
       "1986-03-18    0.099826\n",
       "1986-03-19    0.098090\n",
       "...                ...\n",
       "2022-10-03  240.740005\n",
       "2022-10-04  248.880005\n",
       "2022-10-05  249.199997\n",
       "2022-10-06  246.789993\n",
       "2022-10-07  234.240005\n",
       "\n",
       "[9219 rows x 1 columns]"
      ]
     },
     "execution_count": 22,
     "metadata": {},
     "output_type": "execute_result"
    }
   ],
   "source": [
    "df.index = df.pop('Date')\n",
    "\n",
    "df\n"
   ]
  },
  {
   "cell_type": "code",
   "execution_count": 23,
   "metadata": {},
   "outputs": [
    {
     "data": {
      "text/plain": [
       "[<matplotlib.lines.Line2D at 0x19b64932140>]"
      ]
     },
     "execution_count": 23,
     "metadata": {},
     "output_type": "execute_result"
    },
    {
     "data": {
      "image/png": "[encoded data removed]",
      "text/plain": [
       "<Figure size 432x288 with 1 Axes>"
      ]
     },
     "metadata": {
      "needs_background": "light"
     },
     "output_type": "display_data"
    }
   ],
   "source": [
    "import matplotlib.pyplot as plt\n",
    "\n",
    "plt.plot(df.index, df['Close'])\n"
   ]
  },
  {
   "cell_type": "code",
   "execution_count": 24,
   "metadata": {},
   "outputs": [
    {
     "data": {
      "text/html": [
       "<div>\n",
       "<style scoped>\n",
       "    .dataframe tbody tr th:only-of-type {\n",
       "        vertical-align: middle;\n",
       "    }\n",
       "\n",
       "    .dataframe tbody tr th {\n",
       "        vertical-align: top;\n",
       "    }\n",
       "\n",
       "    .dataframe thead th {\n",
       "        text-align: right;\n",
       "    }\n",
       "</style>\n",
       "<table border=\"1\" class=\"dataframe\">\n",
       "  <thead>\n",
       "    <tr style=\"text-align: right;\">\n",
       "      <th></th>\n",
       "      <th>Target Date</th>\n",
       "      <th>Target-3</th>\n",
       "      <th>Target-2</th>\n",
       "      <th>Target-1</th>\n",
       "      <th>Target</th>\n",
       "    </tr>\n",
       "  </thead>\n",
       "  <tbody>\n",
       "    <tr>\n",
       "      <th>0</th>\n",
       "      <td>2021-03-25</td>\n",
       "      <td>235.990005</td>\n",
       "      <td>237.580002</td>\n",
       "      <td>235.460007</td>\n",
       "      <td>232.339996</td>\n",
       "    </tr>\n",
       "    <tr>\n",
       "      <th>1</th>\n",
       "      <td>2021-03-26</td>\n",
       "      <td>237.580002</td>\n",
       "      <td>235.460007</td>\n",
       "      <td>232.339996</td>\n",
       "      <td>236.479996</td>\n",
       "    </tr>\n",
       "    <tr>\n",
       "      <th>2</th>\n",
       "      <td>2021-03-29</td>\n",
       "      <td>235.460007</td>\n",
       "      <td>232.339996</td>\n",
       "      <td>236.479996</td>\n",
       "      <td>235.240005</td>\n",
       "    </tr>\n",
       "  </tbody>\n",
       "</table>\n",
       "</div>"
      ],
      "text/plain": [
       "  Target Date    Target-3    Target-2    Target-1      Target\n",
       "0  2021-03-25  235.990005  237.580002  235.460007  232.339996\n",
       "1  2021-03-26  237.580002  235.460007  232.339996  236.479996\n",
       "2  2021-03-29  235.460007  232.339996  236.479996  235.240005"
      ]
     },
     "execution_count": 24,
     "metadata": {},
     "output_type": "execute_result"
    }
   ],
   "source": [
    "import numpy as np\n",
    "\n",
    "def df_to_windowed_df(dataframe, first_date_str, last_date_str, n=3):\n",
    "  first_date = str_to_datetime(first_date_str)\n",
    "  last_date  = str_to_datetime(last_date_str)\n",
    "\n",
    "  target_date = first_date\n",
    "  \n",
    "  dates = []\n",
    "  X, Y = [], []\n",
    "\n",
    "  last_time = False\n",
    "  while True:\n",
    "    df_subset = dataframe.loc[:target_date].tail(n+1)\n",
    "    \n",
    "    if len(df_subset) != n+1:\n",
    "      print(f'Error: Window of size {n} is too large for date {target_date}')\n",
    "      return\n",
    "\n",
    "    values = df_subset['Close'].to_numpy()\n",
    "    x, y = values[:-1], values[-1]\n",
    "\n",
    "    dates.append(target_date)\n",
    "    X.append(x)\n",
    "    Y.append(y)\n",
    "\n",
    "    next_week = dataframe.loc[target_date:target_date+datetime.timedelta(days=7)]\n",
    "    next_datetime_str = str(next_week.head(2).tail(1).index.values[0])\n",
    "    next_date_str = next_datetime_str.split('T')[0]\n",
    "    year_month_day = next_date_str.split('-')\n",
    "    year, month, day = year_month_day\n",
    "    next_date = datetime.datetime(day=int(day), month=int(month), year=int(year))\n",
    "    \n",
    "    if last_time:\n",
    "      break\n",
    "    \n",
    "    target_date = next_date\n",
    "\n",
    "    if target_date == last_date:\n",
    "      last_time = True\n",
    "    \n",
    "  ret_df = pd.DataFrame({})\n",
    "  ret_df['Target Date'] = dates\n",
    "  \n",
    "  X = np.array(X)\n",
    "  for i in range(0, n):\n",
    "    X[:, i]\n",
    "    ret_df[f'Target-{n-i}'] = X[:, i]\n",
    "  \n",
    "  ret_df['Target'] = Y\n",
    "\n",
    "  return ret_df\n",
    "\n",
    "# Start day second time around: '2021-03-25'\n",
    "windowed_df = df_to_windowed_df(df, \n",
    "                                '2021-03-25', \n",
    "                                '2022-03-23', \n",
    "                                n=3)\n",
    "windowed_df.head(3)"
   ]
  },
  {
   "cell_type": "code",
   "execution_count": 26,
   "metadata": {},
   "outputs": [
    {
     "data": {
      "text/plain": [
       "((252,), (252, 3, 1), (252,))"
      ]
     },
     "execution_count": 26,
     "metadata": {},
     "output_type": "execute_result"
    }
   ],
   "source": [
    "def windowed_df_to_date_X_y(windowed_dataframe):\n",
    "  df_as_np = windowed_dataframe.to_numpy()\n",
    "\n",
    "  dates = df_as_np[:, 0]\n",
    "\n",
    "  middle_matrix = df_as_np[:, 1:-1]\n",
    "  X = middle_matrix.reshape((len(dates), middle_matrix.shape[1], 1))\n",
    "\n",
    "  Y = df_as_np[:, -1]\n",
    "\n",
    "  return dates, X.astype(np.float32), Y.astype(np.float32)\n",
    "\n",
    "\n",
    "dates, X, y = windowed_df_to_date_X_y(windowed_df)\n",
    "\n",
    "dates.shape, X.shape, y.shape\n"
   ]
  },
  {
   "cell_type": "code",
   "execution_count": 27,
   "metadata": {},
   "outputs": [
    {
     "data": {
      "text/plain": [
       "Timestamp('2021-03-25 00:00:00')"
      ]
     },
     "execution_count": 27,
     "metadata": {},
     "output_type": "execute_result"
    }
   ],
   "source": [
    "dates[0]"
   ]
  },
  {
   "cell_type": "code",
   "execution_count": 28,
   "metadata": {},
   "outputs": [
    {
     "data": {
      "text/plain": [
       "array([[235.99],\n",
       "       [237.58],\n",
       "       [235.46]], dtype=float32)"
      ]
     },
     "execution_count": 28,
     "metadata": {},
     "output_type": "execute_result"
    }
   ],
   "source": [
    "X[0]"
   ]
  },
  {
   "cell_type": "code",
   "execution_count": 29,
   "metadata": {},
   "outputs": [
    {
     "data": {
      "text/plain": [
       "<matplotlib.legend.Legend at 0x19b65989c90>"
      ]
     },
     "execution_count": 29,
     "metadata": {},
     "output_type": "execute_result"
    },
    {
     "data": {
      "image/png": "[encoded data removed]",
      "text/plain": [
       "<Figure size 432x288 with 1 Axes>"
      ]
     },
     "metadata": {
      "needs_background": "light"
     },
     "output_type": "display_data"
    }
   ],
   "source": [
    "q_80 = int(len(dates) * .8)\n",
    "q_90 = int(len(dates) * .9)\n",
    "\n",
    "dates_train, X_train, y_train = dates[:q_80], X[:q_80], y[:q_80]\n",
    "\n",
    "dates_val, X_val, y_val = dates[q_80:q_90], X[q_80:q_90], y[q_80:q_90]\n",
    "dates_test, X_test, y_test = dates[q_90:], X[q_90:], y[q_90:]\n",
    "\n",
    "plt.plot(dates_train, y_train)\n",
    "plt.plot(dates_val, y_val)\n",
    "plt.plot(dates_test, y_test)\n",
    "\n",
    "plt.legend(['Train', 'Validation', 'Test'])\n"
   ]
  },
  {
   "cell_type": "code",
   "execution_count": 30,
   "metadata": {},
   "outputs": [
    {
     "data": {
      "text/plain": [
       "((252,), (252, 3, 1), (252,))"
      ]
     },
     "execution_count": 30,
     "metadata": {},
     "output_type": "execute_result"
    }
   ],
   "source": [
    "def windowed_df_to_date_X_y(windowed_dataframe):\n",
    "  df_as_np = windowed_dataframe.to_numpy()\n",
    "\n",
    "  dates = df_as_np[:, 0]\n",
    "\n",
    "  middle_matrix = df_as_np[:, 1:-1]\n",
    "  X = middle_matrix.reshape((len(dates), middle_matrix.shape[1], 1))\n",
    "\n",
    "  Y = df_as_np[:, -1]\n",
    "\n",
    "  return dates, X.astype(np.float32), Y.astype(np.float32)\n",
    "\n",
    "\n",
    "dates, X, y = windowed_df_to_date_X_y(windowed_df)\n",
    "\n",
    "dates.shape, X.shape, y.shape\n"
   ]
  },
  {
   "cell_type": "code",
   "execution_count": 31,
   "metadata": {},
   "outputs": [
    {
     "data": {
      "text/plain": [
       "<matplotlib.legend.Legend at 0x19b659e7fa0>"
      ]
     },
     "execution_count": 31,
     "metadata": {},
     "output_type": "execute_result"
    },
    {
     "data": {
      "image/png": "[encoded data removed]",
      "text/plain": [
       "<Figure size 432x288 with 1 Axes>"
      ]
     },
     "metadata": {
      "needs_background": "light"
     },
     "output_type": "display_data"
    }
   ],
   "source": [
    "q_80 = int(len(dates) * .8)\n",
    "q_90 = int(len(dates) * .9)\n",
    "\n",
    "dates_train, X_train, y_train = dates[:q_80], X[:q_80], y[:q_80]\n",
    "\n",
    "dates_val, X_val, y_val = dates[q_80:q_90], X[q_80:q_90], y[q_80:q_90]\n",
    "dates_test, X_test, y_test = dates[q_90:], X[q_90:], y[q_90:]\n",
    "\n",
    "plt.plot(dates_train, y_train)\n",
    "plt.plot(dates_val, y_val)\n",
    "plt.plot(dates_test, y_test)\n",
    "\n",
    "plt.legend(['Train', 'Validation', 'Test'])\n"
   ]
  },
  {
   "cell_type": "code",
   "execution_count": 38,
   "metadata": {},
   "outputs": [
    {
     "name": "stdout",
     "output_type": "stream",
     "text": [
      "Epoch 1/100\n",
      "7/7 [==============================] - 4s 112ms/step - loss: 84518.6953 - mean_absolute_error: 288.9780 - val_loss: 92177.3125 - val_mean_absolute_error: 303.5199\n",
      "Epoch 2/100\n",
      "7/7 [==============================] - 0s 10ms/step - loss: 84221.5391 - mean_absolute_error: 288.4647 - val_loss: 91845.7578 - val_mean_absolute_error: 302.9732\n",
      "Epoch 3/100\n",
      "7/7 [==============================] - 0s 10ms/step - loss: 83898.8438 - mean_absolute_error: 287.9033 - val_loss: 91448.0078 - val_mean_absolute_error: 302.3161\n",
      "Epoch 4/100\n",
      "7/7 [==============================] - 0s 10ms/step - loss: 83488.6172 - mean_absolute_error: 287.1894 - val_loss: 90975.7734 - val_mean_absolute_error: 301.5341\n",
      "Epoch 5/100\n",
      "7/7 [==============================] - 0s 11ms/step - loss: 83010.2734 - mean_absolute_error: 286.3578 - val_loss: 90435.8203 - val_mean_absolute_error: 300.6374\n",
      "Epoch 6/100\n",
      "7/7 [==============================] - 0s 9ms/step - loss: 82462.8203 - mean_absolute_error: 285.4012 - val_loss: 89774.1016 - val_mean_absolute_error: 299.5348\n",
      "Epoch 7/100\n",
      "7/7 [==============================] - 0s 12ms/step - loss: 81696.2656 - mean_absolute_error: 284.0512 - val_loss: 88633.9766 - val_mean_absolute_error: 297.6255\n",
      "Epoch 8/100\n",
      "7/7 [==============================] - 0s 11ms/step - loss: 80421.4922 - mean_absolute_error: 281.8130 - val_loss: 87104.2500 - val_mean_absolute_error: 295.0445\n",
      "Epoch 9/100\n",
      "7/7 [==============================] - 0s 9ms/step - loss: 78960.7578 - mean_absolute_error: 279.1874 - val_loss: 85450.3516 - val_mean_absolute_error: 292.2282\n",
      "Epoch 10/100\n",
      "7/7 [==============================] - 0s 11ms/step - loss: 77243.7344 - mean_absolute_error: 276.0964 - val_loss: 83444.7891 - val_mean_absolute_error: 288.7764\n",
      "Epoch 11/100\n",
      "7/7 [==============================] - 0s 10ms/step - loss: 75251.8828 - mean_absolute_error: 272.4703 - val_loss: 81152.3750 - val_mean_absolute_error: 284.7795\n",
      "Epoch 12/100\n",
      "7/7 [==============================] - 0s 10ms/step - loss: 72923.9062 - mean_absolute_error: 268.1545 - val_loss: 78330.1797 - val_mean_absolute_error: 279.7806\n",
      "Epoch 13/100\n",
      "7/7 [==============================] - 0s 10ms/step - loss: 70073.0156 - mean_absolute_error: 262.7940 - val_loss: 75089.4766 - val_mean_absolute_error: 273.9277\n",
      "Epoch 14/100\n",
      "7/7 [==============================] - 0s 10ms/step - loss: 66663.0859 - mean_absolute_error: 256.2076 - val_loss: 70859.3438 - val_mean_absolute_error: 266.0946\n",
      "Epoch 15/100\n",
      "7/7 [==============================] - 0s 8ms/step - loss: 62496.2383 - mean_absolute_error: 247.9608 - val_loss: 66156.4688 - val_mean_absolute_error: 257.1058\n",
      "Epoch 16/100\n",
      "7/7 [==============================] - 0s 13ms/step - loss: 57918.6055 - mean_absolute_error: 238.4925 - val_loss: 61059.1641 - val_mean_absolute_error: 246.9940\n",
      "Epoch 17/100\n",
      "7/7 [==============================] - 0s 9ms/step - loss: 52926.5273 - mean_absolute_error: 227.8287 - val_loss: 55517.8594 - val_mean_absolute_error: 235.5099\n",
      "Epoch 18/100\n",
      "7/7 [==============================] - 0s 8ms/step - loss: 47751.3516 - mean_absolute_error: 216.1328 - val_loss: 49922.2891 - val_mean_absolute_error: 223.3144\n",
      "Epoch 19/100\n",
      "7/7 [==============================] - 0s 10ms/step - loss: 42419.3945 - mean_absolute_error: 203.5071 - val_loss: 44117.7695 - val_mean_absolute_error: 209.9160\n",
      "Epoch 20/100\n",
      "7/7 [==============================] - 0s 12ms/step - loss: 36833.3438 - mean_absolute_error: 189.2073 - val_loss: 37640.5273 - val_mean_absolute_error: 193.8752\n",
      "Epoch 21/100\n",
      "7/7 [==============================] - 0s 11ms/step - loss: 30872.9902 - mean_absolute_error: 172.7492 - val_loss: 31404.2324 - val_mean_absolute_error: 177.0627\n",
      "Epoch 22/100\n",
      "7/7 [==============================] - 0s 11ms/step - loss: 25081.6875 - mean_absolute_error: 155.1827 - val_loss: 25176.5273 - val_mean_absolute_error: 158.5042\n",
      "Epoch 23/100\n",
      "7/7 [==============================] - 0s 8ms/step - loss: 19734.2441 - mean_absolute_error: 136.6292 - val_loss: 19618.0352 - val_mean_absolute_error: 139.8751\n",
      "Epoch 24/100\n",
      "7/7 [==============================] - 0s 8ms/step - loss: 14891.1631 - mean_absolute_error: 117.6041 - val_loss: 14402.5166 - val_mean_absolute_error: 119.7893\n",
      "Epoch 25/100\n",
      "7/7 [==============================] - 0s 9ms/step - loss: 10546.2012 - mean_absolute_error: 97.5160 - val_loss: 10144.7568 - val_mean_absolute_error: 100.4573\n",
      "Epoch 26/100\n",
      "7/7 [==============================] - 0s 9ms/step - loss: 7098.7773 - mean_absolute_error: 77.7232 - val_loss: 6389.7861 - val_mean_absolute_error: 79.6019\n",
      "Epoch 27/100\n",
      "7/7 [==============================] - 0s 9ms/step - loss: 4327.7129 - mean_absolute_error: 57.3570 - val_loss: 3699.2815 - val_mean_absolute_error: 60.3833\n",
      "Epoch 28/100\n",
      "7/7 [==============================] - 0s 8ms/step - loss: 2581.4663 - mean_absolute_error: 41.1183 - val_loss: 2096.6323 - val_mean_absolute_error: 45.2061\n",
      "Epoch 29/100\n",
      "7/7 [==============================] - 0s 9ms/step - loss: 1674.5803 - mean_absolute_error: 33.3900 - val_loss: 1064.6285 - val_mean_absolute_error: 31.8063\n",
      "Epoch 30/100\n",
      "7/7 [==============================] - 0s 8ms/step - loss: 1201.0497 - mean_absolute_error: 29.2596 - val_loss: 575.6442 - val_mean_absolute_error: 22.8622\n",
      "Epoch 31/100\n",
      "7/7 [==============================] - 0s 11ms/step - loss: 1046.8928 - mean_absolute_error: 27.2829 - val_loss: 343.8132 - val_mean_absolute_error: 17.0542\n",
      "Epoch 32/100\n",
      "7/7 [==============================] - 0s 10ms/step - loss: 1010.6236 - mean_absolute_error: 26.8188 - val_loss: 251.5296 - val_mean_absolute_error: 14.2218\n",
      "Epoch 33/100\n",
      "7/7 [==============================] - 0s 8ms/step - loss: 1013.0814 - mean_absolute_error: 26.8756 - val_loss: 209.4755 - val_mean_absolute_error: 12.7674\n",
      "Epoch 34/100\n",
      "7/7 [==============================] - 0s 9ms/step - loss: 1015.6233 - mean_absolute_error: 26.9408 - val_loss: 206.9260 - val_mean_absolute_error: 12.6732\n",
      "Epoch 35/100\n",
      "7/7 [==============================] - 0s 8ms/step - loss: 1015.8442 - mean_absolute_error: 26.9420 - val_loss: 210.4035 - val_mean_absolute_error: 12.8014\n",
      "Epoch 36/100\n",
      "7/7 [==============================] - 0s 10ms/step - loss: 1014.3865 - mean_absolute_error: 26.9352 - val_loss: 221.6199 - val_mean_absolute_error: 13.2056\n",
      "Epoch 37/100\n",
      "7/7 [==============================] - 0s 12ms/step - loss: 1012.2830 - mean_absolute_error: 26.9019 - val_loss: 244.5915 - val_mean_absolute_error: 13.9933\n",
      "Epoch 38/100\n",
      "7/7 [==============================] - 0s 12ms/step - loss: 1010.8988 - mean_absolute_error: 26.8821 - val_loss: 268.5553 - val_mean_absolute_error: 14.7662\n",
      "Epoch 39/100\n",
      "7/7 [==============================] - 0s 8ms/step - loss: 1011.0972 - mean_absolute_error: 26.8738 - val_loss: 284.0498 - val_mean_absolute_error: 15.2432\n",
      "Epoch 40/100\n",
      "7/7 [==============================] - 0s 10ms/step - loss: 1009.6531 - mean_absolute_error: 26.8531 - val_loss: 276.6837 - val_mean_absolute_error: 15.0185\n",
      "Epoch 41/100\n",
      "7/7 [==============================] - 0s 9ms/step - loss: 1009.6202 - mean_absolute_error: 26.8528 - val_loss: 265.9845 - val_mean_absolute_error: 14.6854\n",
      "Epoch 42/100\n",
      "7/7 [==============================] - 0s 11ms/step - loss: 1010.8552 - mean_absolute_error: 26.8757 - val_loss: 253.9179 - val_mean_absolute_error: 14.2995\n",
      "Epoch 43/100\n",
      "7/7 [==============================] - 0s 9ms/step - loss: 1010.6486 - mean_absolute_error: 26.8739 - val_loss: 263.3332 - val_mean_absolute_error: 14.6016\n",
      "Epoch 44/100\n",
      "7/7 [==============================] - 0s 9ms/step - loss: 1010.3054 - mean_absolute_error: 26.8582 - val_loss: 275.6425 - val_mean_absolute_error: 14.9864\n",
      "Epoch 45/100\n",
      "7/7 [==============================] - 0s 10ms/step - loss: 1010.2215 - mean_absolute_error: 26.8648 - val_loss: 274.1375 - val_mean_absolute_error: 14.9400\n",
      "Epoch 46/100\n",
      "7/7 [==============================] - 0s 8ms/step - loss: 1010.5275 - mean_absolute_error: 26.8700 - val_loss: 292.2578 - val_mean_absolute_error: 15.4894\n",
      "Epoch 47/100\n",
      "7/7 [==============================] - 0s 8ms/step - loss: 1010.2086 - mean_absolute_error: 26.8651 - val_loss: 291.5947 - val_mean_absolute_error: 15.4697\n",
      "Epoch 48/100\n",
      "7/7 [==============================] - 0s 9ms/step - loss: 1010.1870 - mean_absolute_error: 26.8648 - val_loss: 294.0401 - val_mean_absolute_error: 15.5424\n",
      "Epoch 49/100\n",
      "7/7 [==============================] - 0s 8ms/step - loss: 1007.2505 - mean_absolute_error: 26.8259 - val_loss: 308.3003 - val_mean_absolute_error: 15.9967\n",
      "Epoch 50/100\n",
      "7/7 [==============================] - 0s 8ms/step - loss: 971.9602 - mean_absolute_error: 26.3501 - val_loss: 314.4203 - val_mean_absolute_error: 16.2069\n",
      "Epoch 51/100\n",
      "7/7 [==============================] - 0s 9ms/step - loss: 989.2737 - mean_absolute_error: 26.5841 - val_loss: 246.3910 - val_mean_absolute_error: 14.0571\n",
      "Epoch 52/100\n",
      "7/7 [==============================] - 0s 8ms/step - loss: 1002.8293 - mean_absolute_error: 26.7850 - val_loss: 250.4908 - val_mean_absolute_error: 14.1936\n",
      "Epoch 53/100\n",
      "7/7 [==============================] - 0s 9ms/step - loss: 991.5642 - mean_absolute_error: 26.6233 - val_loss: 276.6301 - val_mean_absolute_error: 15.0427\n",
      "Epoch 54/100\n",
      "7/7 [==============================] - 0s 9ms/step - loss: 959.8839 - mean_absolute_error: 26.1896 - val_loss: 304.2276 - val_mean_absolute_error: 15.9160\n",
      "Epoch 55/100\n",
      "7/7 [==============================] - 0s 13ms/step - loss: 950.7084 - mean_absolute_error: 26.0501 - val_loss: 324.8209 - val_mean_absolute_error: 16.5460\n",
      "Epoch 56/100\n",
      "7/7 [==============================] - 0s 10ms/step - loss: 921.6539 - mean_absolute_error: 25.6724 - val_loss: 361.7378 - val_mean_absolute_error: 17.6921\n",
      "Epoch 57/100\n",
      "7/7 [==============================] - 0s 8ms/step - loss: 890.3897 - mean_absolute_error: 25.2976 - val_loss: 372.9456 - val_mean_absolute_error: 18.0308\n",
      "Epoch 58/100\n",
      "7/7 [==============================] - 0s 8ms/step - loss: 862.4954 - mean_absolute_error: 24.8090 - val_loss: 412.7099 - val_mean_absolute_error: 19.1302\n",
      "Epoch 59/100\n",
      "7/7 [==============================] - 0s 8ms/step - loss: 824.2383 - mean_absolute_error: 24.2456 - val_loss: 238.7846 - val_mean_absolute_error: 13.9325\n",
      "Epoch 60/100\n",
      "7/7 [==============================] - 0s 9ms/step - loss: 798.4193 - mean_absolute_error: 23.8195 - val_loss: 308.7353 - val_mean_absolute_error: 16.2413\n",
      "Epoch 61/100\n",
      "7/7 [==============================] - 0s 8ms/step - loss: 750.0079 - mean_absolute_error: 23.0893 - val_loss: 308.0975 - val_mean_absolute_error: 16.2561\n",
      "Epoch 62/100\n",
      "7/7 [==============================] - 0s 12ms/step - loss: 689.8727 - mean_absolute_error: 22.1091 - val_loss: 235.0342 - val_mean_absolute_error: 13.8878\n",
      "Epoch 63/100\n",
      "7/7 [==============================] - 0s 8ms/step - loss: 653.4293 - mean_absolute_error: 21.3576 - val_loss: 193.2539 - val_mean_absolute_error: 12.4493\n",
      "Epoch 64/100\n",
      "7/7 [==============================] - 0s 10ms/step - loss: 580.1187 - mean_absolute_error: 20.1996 - val_loss: 294.7578 - val_mean_absolute_error: 15.9963\n",
      "Epoch 65/100\n",
      "7/7 [==============================] - 0s 9ms/step - loss: 510.1054 - mean_absolute_error: 18.7583 - val_loss: 203.3023 - val_mean_absolute_error: 12.8910\n",
      "Epoch 66/100\n",
      "7/7 [==============================] - 0s 8ms/step - loss: 442.8179 - mean_absolute_error: 17.2955 - val_loss: 121.3523 - val_mean_absolute_error: 9.4770\n",
      "Epoch 67/100\n",
      "7/7 [==============================] - 0s 8ms/step - loss: 377.8896 - mean_absolute_error: 15.7641 - val_loss: 121.8561 - val_mean_absolute_error: 9.5637\n",
      "Epoch 68/100\n",
      "7/7 [==============================] - 0s 9ms/step - loss: 321.5079 - mean_absolute_error: 14.6493 - val_loss: 125.4765 - val_mean_absolute_error: 9.7805\n",
      "Epoch 69/100\n",
      "7/7 [==============================] - 0s 13ms/step - loss: 265.8910 - mean_absolute_error: 12.9792 - val_loss: 91.5257 - val_mean_absolute_error: 8.0798\n",
      "Epoch 70/100\n",
      "7/7 [==============================] - 0s 9ms/step - loss: 213.8563 - mean_absolute_error: 11.4513 - val_loss: 42.2313 - val_mean_absolute_error: 5.3321\n",
      "Epoch 71/100\n",
      "7/7 [==============================] - 0s 8ms/step - loss: 183.7208 - mean_absolute_error: 10.8322 - val_loss: 122.9675 - val_mean_absolute_error: 9.6755\n",
      "Epoch 72/100\n",
      "7/7 [==============================] - 0s 8ms/step - loss: 157.6225 - mean_absolute_error: 9.4834 - val_loss: 46.6835 - val_mean_absolute_error: 5.6133\n",
      "Epoch 73/100\n",
      "7/7 [==============================] - 0s 8ms/step - loss: 130.9171 - mean_absolute_error: 9.1913 - val_loss: 37.2696 - val_mean_absolute_error: 5.2214\n",
      "Epoch 74/100\n",
      "7/7 [==============================] - 0s 9ms/step - loss: 112.5533 - mean_absolute_error: 8.1292 - val_loss: 41.5588 - val_mean_absolute_error: 5.3276\n",
      "Epoch 75/100\n",
      "7/7 [==============================] - 0s 8ms/step - loss: 102.8894 - mean_absolute_error: 8.1602 - val_loss: 35.5303 - val_mean_absolute_error: 4.8859\n",
      "Epoch 76/100\n",
      "7/7 [==============================] - 0s 9ms/step - loss: 78.5144 - mean_absolute_error: 6.6342 - val_loss: 45.8099 - val_mean_absolute_error: 5.4368\n",
      "Epoch 77/100\n",
      "7/7 [==============================] - 0s 9ms/step - loss: 68.2689 - mean_absolute_error: 6.3088 - val_loss: 32.0529 - val_mean_absolute_error: 4.8429\n",
      "Epoch 78/100\n",
      "7/7 [==============================] - 0s 8ms/step - loss: 58.1089 - mean_absolute_error: 5.6444 - val_loss: 33.2488 - val_mean_absolute_error: 4.8603\n",
      "Epoch 79/100\n",
      "7/7 [==============================] - 0s 9ms/step - loss: 51.6026 - mean_absolute_error: 5.4539 - val_loss: 34.5803 - val_mean_absolute_error: 4.8759\n",
      "Epoch 80/100\n",
      "7/7 [==============================] - 0s 8ms/step - loss: 45.9120 - mean_absolute_error: 5.1851 - val_loss: 30.2612 - val_mean_absolute_error: 4.8303\n",
      "Epoch 81/100\n",
      "7/7 [==============================] - 0s 9ms/step - loss: 46.7344 - mean_absolute_error: 5.2967 - val_loss: 30.5080 - val_mean_absolute_error: 4.8081\n",
      "Epoch 82/100\n",
      "7/7 [==============================] - 0s 8ms/step - loss: 44.6056 - mean_absolute_error: 5.3324 - val_loss: 41.8063 - val_mean_absolute_error: 5.0993\n",
      "Epoch 83/100\n",
      "7/7 [==============================] - 0s 9ms/step - loss: 48.4624 - mean_absolute_error: 5.6123 - val_loss: 77.0194 - val_mean_absolute_error: 7.0919\n",
      "Epoch 84/100\n",
      "7/7 [==============================] - 0s 14ms/step - loss: 54.6145 - mean_absolute_error: 6.1372 - val_loss: 112.6972 - val_mean_absolute_error: 9.0937\n",
      "Epoch 85/100\n",
      "7/7 [==============================] - 0s 11ms/step - loss: 49.4060 - mean_absolute_error: 5.7132 - val_loss: 30.9919 - val_mean_absolute_error: 4.8088\n",
      "Epoch 86/100\n",
      "7/7 [==============================] - 0s 8ms/step - loss: 39.9390 - mean_absolute_error: 5.0485 - val_loss: 31.1927 - val_mean_absolute_error: 4.8124\n",
      "Epoch 87/100\n",
      "7/7 [==============================] - 0s 9ms/step - loss: 33.7434 - mean_absolute_error: 4.5385 - val_loss: 32.2230 - val_mean_absolute_error: 4.8341\n",
      "Epoch 88/100\n",
      "7/7 [==============================] - 0s 8ms/step - loss: 32.3984 - mean_absolute_error: 4.3734 - val_loss: 48.0211 - val_mean_absolute_error: 5.4556\n",
      "Epoch 89/100\n",
      "7/7 [==============================] - 0s 8ms/step - loss: 30.7028 - mean_absolute_error: 4.4632 - val_loss: 65.2006 - val_mean_absolute_error: 6.3563\n",
      "Epoch 90/100\n",
      "7/7 [==============================] - 0s 9ms/step - loss: 31.5098 - mean_absolute_error: 4.4737 - val_loss: 37.4458 - val_mean_absolute_error: 4.9150\n",
      "Epoch 91/100\n",
      "7/7 [==============================] - 0s 9ms/step - loss: 30.5384 - mean_absolute_error: 4.4563 - val_loss: 33.1016 - val_mean_absolute_error: 4.9176\n",
      "Epoch 92/100\n",
      "7/7 [==============================] - 0s 10ms/step - loss: 34.2286 - mean_absolute_error: 4.6341 - val_loss: 31.4345 - val_mean_absolute_error: 4.7881\n",
      "Epoch 93/100\n",
      "7/7 [==============================] - 0s 9ms/step - loss: 27.8715 - mean_absolute_error: 4.1880 - val_loss: 37.8159 - val_mean_absolute_error: 4.9237\n",
      "Epoch 94/100\n",
      "7/7 [==============================] - 0s 9ms/step - loss: 25.7848 - mean_absolute_error: 4.0515 - val_loss: 36.6958 - val_mean_absolute_error: 4.8859\n",
      "Epoch 95/100\n",
      "7/7 [==============================] - 0s 9ms/step - loss: 24.7249 - mean_absolute_error: 3.9239 - val_loss: 31.8051 - val_mean_absolute_error: 4.7749\n",
      "Epoch 96/100\n",
      "7/7 [==============================] - 0s 8ms/step - loss: 28.5446 - mean_absolute_error: 4.2846 - val_loss: 33.4762 - val_mean_absolute_error: 4.8309\n",
      "Epoch 97/100\n",
      "7/7 [==============================] - 0s 24ms/step - loss: 24.3338 - mean_absolute_error: 3.9559 - val_loss: 35.5664 - val_mean_absolute_error: 4.8563\n",
      "Epoch 98/100\n",
      "7/7 [==============================] - 0s 11ms/step - loss: 26.8894 - mean_absolute_error: 4.0819 - val_loss: 55.7268 - val_mean_absolute_error: 5.8874\n",
      "Epoch 99/100\n",
      "7/7 [==============================] - 0s 8ms/step - loss: 26.0943 - mean_absolute_error: 4.0145 - val_loss: 70.8052 - val_mean_absolute_error: 6.6990\n",
      "Epoch 100/100\n",
      "7/7 [==============================] - 0s 9ms/step - loss: 34.6984 - mean_absolute_error: 4.8952 - val_loss: 130.5034 - val_mean_absolute_error: 9.9747\n"
     ]
    },
    {
     "data": {
      "text/plain": [
       "<keras.callbacks.History at 0x19b7912caf0>"
      ]
     },
     "execution_count": 38,
     "metadata": {},
     "output_type": "execute_result"
    }
   ],
   "source": [
    "from tensorflow.keras.models import Sequential\n",
    "from tensorflow.keras.optimizers import Adam\n",
    "from tensorflow.keras import layers\n",
    "\n",
    "model = Sequential([layers.Input((3, 1)),\n",
    "                    layers.LSTM(64),\n",
    "                    layers.Dense(32, activation='relu'),\n",
    "                    layers.Dense(32, activation='relu'),\n",
    "                    layers.Dense(1)])\n",
    "\n",
    "model.compile(loss='mse',\n",
    "              optimizer=Adam(learning_rate=0.001),\n",
    "              metrics=['mean_absolute_error'])\n",
    "\n",
    "model.fit(X_train, y_train, validation_data=(X_val, y_val), epochs=100)\n"
   ]
  },
  {
   "cell_type": "code",
   "execution_count": 41,
   "metadata": {},
   "outputs": [
    {
     "data": {
      "text/plain": [
       "<bound method Model.evaluate of <keras.engine.sequential.Sequential object at 0x0000019B790C5000>>"
      ]
     },
     "execution_count": 41,
     "metadata": {},
     "output_type": "execute_result"
    }
   ],
   "source": [
    "model.evaluate"
   ]
  },
  {
   "cell_type": "code",
   "execution_count": 33,
   "metadata": {},
   "outputs": [
    {
     "name": "stdout",
     "output_type": "stream",
     "text": [
      "7/7 [==============================] - 0s 2ms/step\n"
     ]
    },
    {
     "data": {
      "text/plain": [
       "<matplotlib.legend.Legend at 0x19b78b3fd30>"
      ]
     },
     "execution_count": 33,
     "metadata": {},
     "output_type": "execute_result"
    },
    {
     "data": {
      "image/png": "[encoded data removed]",
      "text/plain": [
       "<Figure size 432x288 with 1 Axes>"
      ]
     },
     "metadata": {
      "needs_background": "light"
     },
     "output_type": "display_data"
    }
   ],
   "source": [
    "train_predictions = model.predict(X_train).flatten()\n",
    "\n",
    "plt.plot(dates_train, train_predictions)\n",
    "plt.plot(dates_train, y_train)\n",
    "plt.legend(['Training Predictions', 'Training Observations'])"
   ]
  },
  {
   "cell_type": "code",
   "execution_count": 35,
   "metadata": {},
   "outputs": [
    {
     "data": {
      "application/vnd.plotly.v1+json": {
       "config": {
        "plotlyServerURL": "https://plot.ly"
       },
       "data": [
        {
         "name": "Predictions",
         "type": "scatter",
         "x": [
          "2021-03-25T00:00:00",
          "2021-03-26T00:00:00",
          "2021-03-29T00:00:00",
          "2021-03-30T00:00:00",
          "2021-03-31T00:00:00",
          "2021-04-01T00:00:00",
          "2021-04-05T00:00:00",
          "2021-04-06T00:00:00",
          "2021-04-07T00:00:00",
          "2021-04-08T00:00:00",
          "2021-04-09T00:00:00",
          "2021-04-12T00:00:00",
          "2021-04-13T00:00:00",
          "2021-04-14T00:00:00",
          "2021-04-15T00:00:00",
          "2021-04-16T00:00:00",
          "2021-04-19T00:00:00",
          "2021-04-20T00:00:00",
          "2021-04-21T00:00:00",
          "2021-04-22T00:00:00",
          "2021-04-23T00:00:00",
          "2021-04-26T00:00:00",
          "2021-04-27T00:00:00",
          "2021-04-28T00:00:00",
          "2021-04-29T00:00:00",
          "2021-04-30T00:00:00",
          "2021-05-03T00:00:00",
          "2021-05-04T00:00:00",
          "2021-05-05T00:00:00",
          "2021-05-06T00:00:00",
          "2021-05-07T00:00:00",
          "2021-05-10T00:00:00",
          "2021-05-11T00:00:00",
          "2021-05-12T00:00:00",
          "2021-05-13T00:00:00",
          "2021-05-14T00:00:00",
          "2021-05-17T00:00:00",
          "2021-05-18T00:00:00",
          "2021-05-19T00:00:00",
          "2021-05-20T00:00:00",
          "2021-05-21T00:00:00",
          "2021-05-24T00:00:00",
          "2021-05-25T00:00:00",
          "2021-05-26T00:00:00",
          "2021-05-27T00:00:00",
          "2021-05-28T00:00:00",
          "2021-06-01T00:00:00",
          "2021-06-02T00:00:00",
          "2021-06-03T00:00:00",
          "2021-06-04T00:00:00",
          "2021-06-07T00:00:00",
          "2021-06-08T00:00:00",
          "2021-06-09T00:00:00",
          "2021-06-10T00:00:00",
          "2021-06-11T00:00:00",
          "2021-06-14T00:00:00",
          "2021-06-15T00:00:00",
          "2021-06-16T00:00:00",
          "2021-06-17T00:00:00",
          "2021-06-18T00:00:00",
          "2021-06-21T00:00:00",
          "2021-06-22T00:00:00",
          "2021-06-23T00:00:00",
          "2021-06-24T00:00:00",
          "2021-06-25T00:00:00",
          "2021-06-28T00:00:00",
          "2021-06-29T00:00:00",
          "2021-06-30T00:00:00",
          "2021-07-01T00:00:00",
          "2021-07-02T00:00:00",
          "2021-07-06T00:00:00",
          "2021-07-07T00:00:00",
          "2021-07-08T00:00:00",
          "2021-07-09T00:00:00",
          "2021-07-12T00:00:00",
          "2021-07-13T00:00:00",
          "2021-07-14T00:00:00",
          "2021-07-15T00:00:00",
          "2021-07-16T00:00:00",
          "2021-07-19T00:00:00",
          "2021-07-20T00:00:00",
          "2021-07-21T00:00:00",
          "2021-07-22T00:00:00",
          "2021-07-23T00:00:00",
          "2021-07-26T00:00:00",
          "2021-07-27T00:00:00",
          "2021-07-28T00:00:00",
          "2021-07-29T00:00:00",
          "2021-07-30T00:00:00",
          "2021-08-02T00:00:00",
          "2021-08-03T00:00:00",
          "2021-08-04T00:00:00",
          "2021-08-05T00:00:00",
          "2021-08-06T00:00:00",
          "2021-08-09T00:00:00",
          "2021-08-10T00:00:00",
          "2021-08-11T00:00:00",
          "2021-08-12T00:00:00",
          "2021-08-13T00:00:00",
          "2021-08-16T00:00:00",
          "2021-08-17T00:00:00",
          "2021-08-18T00:00:00",
          "2021-08-19T00:00:00",
          "2021-08-20T00:00:00",
          "2021-08-23T00:00:00",
          "2021-08-24T00:00:00",
          "2021-08-25T00:00:00",
          "2021-08-26T00:00:00",
          "2021-08-27T00:00:00",
          "2021-08-30T00:00:00",
          "2021-08-31T00:00:00",
          "2021-09-01T00:00:00",
          "2021-09-02T00:00:00",
          "2021-09-03T00:00:00",
          "2021-09-07T00:00:00",
          "2021-09-08T00:00:00",
          "2021-09-09T00:00:00",
          "2021-09-10T00:00:00",
          "2021-09-13T00:00:00",
          "2021-09-14T00:00:00",
          "2021-09-15T00:00:00",
          "2021-09-16T00:00:00",
          "2021-09-17T00:00:00",
          "2021-09-20T00:00:00",
          "2021-09-21T00:00:00",
          "2021-09-22T00:00:00",
          "2021-09-23T00:00:00",
          "2021-09-24T00:00:00",
          "2021-09-27T00:00:00",
          "2021-09-28T00:00:00",
          "2021-09-29T00:00:00",
          "2021-09-30T00:00:00",
          "2021-10-01T00:00:00",
          "2021-10-04T00:00:00",
          "2021-10-05T00:00:00",
          "2021-10-06T00:00:00",
          "2021-10-07T00:00:00",
          "2021-10-08T00:00:00",
          "2021-10-11T00:00:00",
          "2021-10-12T00:00:00",
          "2021-10-13T00:00:00",
          "2021-10-14T00:00:00",
          "2021-10-15T00:00:00",
          "2021-10-18T00:00:00",
          "2021-10-19T00:00:00",
          "2021-10-20T00:00:00",
          "2021-10-21T00:00:00",
          "2021-10-22T00:00:00",
          "2021-10-25T00:00:00",
          "2021-10-26T00:00:00",
          "2021-10-27T00:00:00",
          "2021-10-28T00:00:00",
          "2021-10-29T00:00:00",
          "2021-11-01T00:00:00",
          "2021-11-02T00:00:00",
          "2021-11-03T00:00:00",
          "2021-11-04T00:00:00",
          "2021-11-05T00:00:00",
          "2021-11-08T00:00:00",
          "2021-11-09T00:00:00",
          "2021-11-10T00:00:00",
          "2021-11-11T00:00:00",
          "2021-11-12T00:00:00",
          "2021-11-15T00:00:00",
          "2021-11-16T00:00:00",
          "2021-11-17T00:00:00",
          "2021-11-18T00:00:00",
          "2021-11-19T00:00:00",
          "2021-11-22T00:00:00",
          "2021-11-23T00:00:00",
          "2021-11-24T00:00:00",
          "2021-11-26T00:00:00",
          "2021-11-29T00:00:00",
          "2021-11-30T00:00:00",
          "2021-12-01T00:00:00",
          "2021-12-02T00:00:00",
          "2021-12-03T00:00:00",
          "2021-12-06T00:00:00",
          "2021-12-07T00:00:00",
          "2021-12-08T00:00:00",
          "2021-12-09T00:00:00",
          "2021-12-10T00:00:00",
          "2021-12-13T00:00:00",
          "2021-12-14T00:00:00",
          "2021-12-15T00:00:00",
          "2021-12-16T00:00:00",
          "2021-12-17T00:00:00",
          "2021-12-20T00:00:00",
          "2021-12-21T00:00:00",
          "2021-12-22T00:00:00",
          "2021-12-23T00:00:00",
          "2021-12-27T00:00:00",
          "2021-12-28T00:00:00",
          "2021-12-29T00:00:00",
          "2021-12-30T00:00:00",
          "2021-12-31T00:00:00",
          "2022-01-03T00:00:00",
          "2022-01-04T00:00:00",
          "2022-01-05T00:00:00",
          "2022-01-06T00:00:00",
          "2022-01-07T00:00:00"
         ],
         "y": [
          235.5619354248047,
          233.0298309326172,
          234.70729064941406,
          235.03956604003906,
          232.6450958251953,
          234.1194305419922,
          239.37843322753906,
          245.85772705078125,
          247.26951599121094,
          248.37501525878906,
          251.28916931152344,
          254.20545959472656,
          255.16635131835938,
          257.0152282714844,
          255.87489318847656,
          257.64874267578125,
          259.798583984375,
          258.8863525390625,
          257.885498046875,
          259.3104248046875,
          257.71893310546875,
          259.3633117675781,
          260.95709228515625,
          261.4484558105469,
          256.4278564453125,
          252.5209197998047,
          251.5138397216797,
          251.15573120117188,
          248.28143310546875,
          246.0873565673828,
          247.7987518310547,
          250.67115783691406,
          248.0253448486328,
          245.74339294433594,
          240.59930419921875,
          241.02342224121094,
          245.5115203857422,
          245.1952362060547,
          242.96145629882812,
          242.29550170898438,
          244.4967803955078,
          244.66647338867188,
          248.07737731933594,
          250.48365783691406,
          250.7257843017578,
          249.18313598632812,
          248.7275848388672,
          247.2725067138672,
          246.4868621826172,
          245.35494995117188,
          248.26759338378906,
          251.9247589111328,
          252.14930725097656,
          252.48826599121094,
          255.3216094970703,
          257.01202392578125,
          258.6807556152344,
          258.3063049316406,
          257.1319885253906,
          259.228271484375,
          259.39154052734375,
          261.17547607421875,
          264.28277587890625,
          265.1705322265625,
          266.12554931640625,
          265.447509765625,
          267.48175048828125,
          270.66046142578125,
          271.31878662109375,
          271.66705322265625,
          276.16033935546875,
          278.3689880371094,
          280.0314025878906,
          279.1029052734375,
          278.5805969238281,
          278.30706787109375,
          280.6416320800781,
          283.02685546875,
          282.5975341796875,
          281.881591796875,
          279.1512145996094,
          279.40460205078125,
          281.6500549316406,
          285.7017517089844,
          289.84185791015625,
          290.7395935058594,
          288.8467712402344,
          287.7194519042969,
          287.77093505859375,
          286.7795104980469,
          286.145751953125,
          287.6717834472656,
          288.08489990234375,
          289.93310546875,
          290.9666442871094,
          290.2099914550781,
          288.5180969238281,
          288.1750793457031,
          290.280517578125,
          293.34613037109375,
          295.60723876953125,
          295.2439880371094,
          293.15985107421875,
          296.3119201660156,
          303.22100830078125,
          305.9561462402344,
          304.8519592285156,
          303.8152770996094,
          301.7561340332031,
          301.17779541015625,
          303.80291748046875,
          304.014404296875,
          303.45233154296875,
          302.99627685546875,
          302.76483154296875,
          302.1496887207031,
          301.8487243652344,
          299.957275390625,
          297.95208740234375,
          298.2313232421875,
          300.46063232421875,
          304.57147216796875,
          306.4753723144531,
          303.3151550292969,
          297.9602355957031,
          296.3323974609375,
          298.9199523925781,
          300.8466796875,
          301.07403564453125,
          297.6566162109375,
          288.68194580078125,
          285.1490173339844,
          283.7833557128906,
          287.95697021484375,
          286.4306640625,
          288.2088623046875,
          293.1054382324219,
          295.8531188964844,
          296.5010070800781,
          296.1083068847656,
          294.99951171875,
          296.77850341796875,
          302.0783996582031,
          305.16204833984375,
          307.55841064453125,
          309.0972900390625,
          308.9176025390625,
          310.65216064453125,
          310.71923828125,
          309.651611328125,
          310.4970397949219,
          318.3106689453125,
          322.2838134765625,
          326.0665283203125,
          326.546630859375,
          327.8110046386719,
          328.89508056640625,
          330.08978271484375,
          330.3570556640625,
          330.6805114746094,
          330.4102478027344,
          328.0392761230469,
          327.7960205078125,
          329.9180908203125,
          330.40374755859375,
          331.6920166015625,
          332.0559997558594,
          332.77838134765625,
          333.701416015625,
          332.8055419921875,
          331.5859375,
          331.3289489746094,
          327.89208984375,
          329.39166259765625,
          328.04522705078125,
          326.7078857421875,
          326.31866455078125,
          323.11865234375,
          323.2355041503906,
          327.9226989746094,
          329.616943359375,
          328.85906982421875,
          332.345703125,
          332.5596923828125,
          327.56500244140625,
          328.29296875,
          325.0707092285156,
          322.51422119140625,
          320.2525634765625,
          323.01800537109375,
          327.3817138671875,
          329.1949462890625,
          332.5478210449219,
          333.20391845703125,
          333.3078918457031,
          332.47198486328125,
          330.958251953125,
          329.8076171875,
          327.0198059082031,
          319.6478576660156,
          315.1339111328125
         ]
        },
        {
         "name": "Target Data",
         "type": "scatter",
         "x": [
          "2021-03-25T00:00:00",
          "2021-03-26T00:00:00",
          "2021-03-29T00:00:00",
          "2021-03-30T00:00:00",
          "2021-03-31T00:00:00",
          "2021-04-01T00:00:00",
          "2021-04-05T00:00:00",
          "2021-04-06T00:00:00",
          "2021-04-07T00:00:00",
          "2021-04-08T00:00:00",
          "2021-04-09T00:00:00",
          "2021-04-12T00:00:00",
          "2021-04-13T00:00:00",
          "2021-04-14T00:00:00",
          "2021-04-15T00:00:00",
          "2021-04-16T00:00:00",
          "2021-04-19T00:00:00",
          "2021-04-20T00:00:00",
          "2021-04-21T00:00:00",
          "2021-04-22T00:00:00",
          "2021-04-23T00:00:00",
          "2021-04-26T00:00:00",
          "2021-04-27T00:00:00",
          "2021-04-28T00:00:00",
          "2021-04-29T00:00:00",
          "2021-04-30T00:00:00",
          "2021-05-03T00:00:00",
          "2021-05-04T00:00:00",
          "2021-05-05T00:00:00",
          "2021-05-06T00:00:00",
          "2021-05-07T00:00:00",
          "2021-05-10T00:00:00",
          "2021-05-11T00:00:00",
          "2021-05-12T00:00:00",
          "2021-05-13T00:00:00",
          "2021-05-14T00:00:00",
          "2021-05-17T00:00:00",
          "2021-05-18T00:00:00",
          "2021-05-19T00:00:00",
          "2021-05-20T00:00:00",
          "2021-05-21T00:00:00",
          "2021-05-24T00:00:00",
          "2021-05-25T00:00:00",
          "2021-05-26T00:00:00",
          "2021-05-27T00:00:00",
          "2021-05-28T00:00:00",
          "2021-06-01T00:00:00",
          "2021-06-02T00:00:00",
          "2021-06-03T00:00:00",
          "2021-06-04T00:00:00",
          "2021-06-07T00:00:00",
          "2021-06-08T00:00:00",
          "2021-06-09T00:00:00",
          "2021-06-10T00:00:00",
          "2021-06-11T00:00:00",
          "2021-06-14T00:00:00",
          "2021-06-15T00:00:00",
          "2021-06-16T00:00:00",
          "2021-06-17T00:00:00",
          "2021-06-18T00:00:00",
          "2021-06-21T00:00:00",
          "2021-06-22T00:00:00",
          "2021-06-23T00:00:00",
          "2021-06-24T00:00:00",
          "2021-06-25T00:00:00",
          "2021-06-28T00:00:00",
          "2021-06-29T00:00:00",
          "2021-06-30T00:00:00",
          "2021-07-01T00:00:00",
          "2021-07-02T00:00:00",
          "2021-07-06T00:00:00",
          "2021-07-07T00:00:00",
          "2021-07-08T00:00:00",
          "2021-07-09T00:00:00",
          "2021-07-12T00:00:00",
          "2021-07-13T00:00:00",
          "2021-07-14T00:00:00",
          "2021-07-15T00:00:00",
          "2021-07-16T00:00:00",
          "2021-07-19T00:00:00",
          "2021-07-20T00:00:00",
          "2021-07-21T00:00:00",
          "2021-07-22T00:00:00",
          "2021-07-23T00:00:00",
          "2021-07-26T00:00:00",
          "2021-07-27T00:00:00",
          "2021-07-28T00:00:00",
          "2021-07-29T00:00:00",
          "2021-07-30T00:00:00",
          "2021-08-02T00:00:00",
          "2021-08-03T00:00:00",
          "2021-08-04T00:00:00",
          "2021-08-05T00:00:00",
          "2021-08-06T00:00:00",
          "2021-08-09T00:00:00",
          "2021-08-10T00:00:00",
          "2021-08-11T00:00:00",
          "2021-08-12T00:00:00",
          "2021-08-13T00:00:00",
          "2021-08-16T00:00:00",
          "2021-08-17T00:00:00",
          "2021-08-18T00:00:00",
          "2021-08-19T00:00:00",
          "2021-08-20T00:00:00",
          "2021-08-23T00:00:00",
          "2021-08-24T00:00:00",
          "2021-08-25T00:00:00",
          "2021-08-26T00:00:00",
          "2021-08-27T00:00:00",
          "2021-08-30T00:00:00",
          "2021-08-31T00:00:00",
          "2021-09-01T00:00:00",
          "2021-09-02T00:00:00",
          "2021-09-03T00:00:00",
          "2021-09-07T00:00:00",
          "2021-09-08T00:00:00",
          "2021-09-09T00:00:00",
          "2021-09-10T00:00:00",
          "2021-09-13T00:00:00",
          "2021-09-14T00:00:00",
          "2021-09-15T00:00:00",
          "2021-09-16T00:00:00",
          "2021-09-17T00:00:00",
          "2021-09-20T00:00:00",
          "2021-09-21T00:00:00",
          "2021-09-22T00:00:00",
          "2021-09-23T00:00:00",
          "2021-09-24T00:00:00",
          "2021-09-27T00:00:00",
          "2021-09-28T00:00:00",
          "2021-09-29T00:00:00",
          "2021-09-30T00:00:00",
          "2021-10-01T00:00:00",
          "2021-10-04T00:00:00",
          "2021-10-05T00:00:00",
          "2021-10-06T00:00:00",
          "2021-10-07T00:00:00",
          "2021-10-08T00:00:00",
          "2021-10-11T00:00:00",
          "2021-10-12T00:00:00",
          "2021-10-13T00:00:00",
          "2021-10-14T00:00:00",
          "2021-10-15T00:00:00",
          "2021-10-18T00:00:00",
          "2021-10-19T00:00:00",
          "2021-10-20T00:00:00",
          "2021-10-21T00:00:00",
          "2021-10-22T00:00:00",
          "2021-10-25T00:00:00",
          "2021-10-26T00:00:00",
          "2021-10-27T00:00:00",
          "2021-10-28T00:00:00",
          "2021-10-29T00:00:00",
          "2021-11-01T00:00:00",
          "2021-11-02T00:00:00",
          "2021-11-03T00:00:00",
          "2021-11-04T00:00:00",
          "2021-11-05T00:00:00",
          "2021-11-08T00:00:00",
          "2021-11-09T00:00:00",
          "2021-11-10T00:00:00",
          "2021-11-11T00:00:00",
          "2021-11-12T00:00:00",
          "2021-11-15T00:00:00",
          "2021-11-16T00:00:00",
          "2021-11-17T00:00:00",
          "2021-11-18T00:00:00",
          "2021-11-19T00:00:00",
          "2021-11-22T00:00:00",
          "2021-11-23T00:00:00",
          "2021-11-24T00:00:00",
          "2021-11-26T00:00:00",
          "2021-11-29T00:00:00",
          "2021-11-30T00:00:00",
          "2021-12-01T00:00:00",
          "2021-12-02T00:00:00",
          "2021-12-03T00:00:00",
          "2021-12-06T00:00:00",
          "2021-12-07T00:00:00",
          "2021-12-08T00:00:00",
          "2021-12-09T00:00:00",
          "2021-12-10T00:00:00",
          "2021-12-13T00:00:00",
          "2021-12-14T00:00:00",
          "2021-12-15T00:00:00",
          "2021-12-16T00:00:00",
          "2021-12-17T00:00:00",
          "2021-12-20T00:00:00",
          "2021-12-21T00:00:00",
          "2021-12-22T00:00:00",
          "2021-12-23T00:00:00",
          "2021-12-27T00:00:00",
          "2021-12-28T00:00:00",
          "2021-12-29T00:00:00",
          "2021-12-30T00:00:00",
          "2021-12-31T00:00:00",
          "2022-01-03T00:00:00",
          "2022-01-04T00:00:00",
          "2022-01-05T00:00:00",
          "2022-01-06T00:00:00",
          "2022-01-07T00:00:00"
         ],
         "y": [
          232.33999633789062,
          236.47999572753906,
          235.24000549316406,
          231.85000610351562,
          235.77000427246094,
          242.35000610351562,
          249.07000732421875,
          247.86000061035156,
          249.89999389648438,
          253.25,
          255.85000610351562,
          255.91000366210938,
          258.489990234375,
          255.58999633789062,
          259.5,
          260.739990234375,
          258.739990234375,
          258.260009765625,
          260.5799865722656,
          257.1700134277344,
          261.1499938964844,
          261.54998779296875,
          261.9700012207031,
          254.55999755859375,
          252.50999450683594,
          252.17999267578125,
          251.86000061035156,
          247.7899932861328,
          246.47000122070312,
          249.72999572753906,
          252.4600067138672,
          247.17999267578125,
          246.22999572753906,
          239,
          243.02999877929688,
          248.14999389648438,
          245.17999267578125,
          243.0800018310547,
          243.1199951171875,
          246.47999572753906,
          245.1699981689453,
          250.77999877929688,
          251.72000122070312,
          251.49000549316406,
          249.30999755859375,
          249.67999267578125,
          247.39999389648438,
          247.3000030517578,
          245.7100067138672,
          250.7899932861328,
          253.80999755859375,
          252.57000732421875,
          253.58999633789062,
          257.239990234375,
          257.8900146484375,
          259.8900146484375,
          258.3599853515625,
          257.3800048828125,
          260.8999938964844,
          259.42999267578125,
          262.6300048828125,
          265.510009765625,
          265.2699890136719,
          266.69000244140625,
          265.0199890136719,
          268.7200012207031,
          271.3999938964844,
          270.8999938964844,
          271.6000061035156,
          277.6499938964844,
          277.6600036621094,
          279.92999267578125,
          277.4200134277344,
          277.94000244140625,
          277.32000732421875,
          280.9800109863281,
          282.510009765625,
          281.0299987792969,
          280.75,
          277.010009765625,
          279.32000732421875,
          281.3999938964844,
          286.1400146484375,
          289.6700134277344,
          289.04998779296875,
          286.5400085449219,
          286.2200012207031,
          286.5,
          284.9100036621094,
          284.82000732421875,
          287.1199951171875,
          286.510009765625,
          289.5199890136719,
          289.4599914550781,
          288.3299865722656,
          286.44000244140625,
          286.95001220703125,
          289.80999755859375,
          292.8500061035156,
          294.6000061035156,
          293.0799865722656,
          290.7300109863281,
          296.7699890136719,
          304.3599853515625,
          304.6499938964844,
          302.6199951171875,
          302.010009765625,
          299.0899963378906,
          299.7200012207031,
          303.5899963378906,
          301.8800048828125,
          301.8299865722656,
          301.1499938964844,
          301.1400146484375,
          300.17999267578125,
          300.2099914550781,
          297.25,
          295.7099914550781,
          296.989990234375,
          299.7900085449219,
          304.82000732421875,
          305.2200012207031,
          299.8699951171875,
          294.29998779296875,
          294.79998779296875,
          298.5799865722656,
          299.55999755859375,
          299.3500061035156,
          294.1700134277344,
          283.5199890136719,
          284,
          281.9200134277344,
          289.1000061035156,
          283.1099853515625,
          288.760009765625,
          293.1099853515625,
          294.8500061035156,
          294.8500061035156,
          294.2300109863281,
          292.8800048828125,
          296.30999755859375,
          302.75,
          304.2099914550781,
          307.2900085449219,
          308.2300109863281,
          307.4100036621094,
          310.760009765625,
          309.1600036621094,
          308.1300048828125,
          310.1099853515625,
          323.1700134277344,
          324.3500061035156,
          331.6199951171875,
          329.3699951171875,
          333.1300048828125,
          334,
          336.44000244140625,
          336.05999755859375,
          336.989990234375,
          335.95001220703125,
          330.79998779296875,
          332.42999267578125,
          336.7200012207031,
          336.07000732421875,
          339.510009765625,
          339.1199951171875,
          341.2699890136719,
          343.1099853515625,
          339.8299865722656,
          337.67999267578125,
          337.9100036621094,
          329.67999267578125,
          336.6300048828125,
          330.5899963378906,
          330.0799865722656,
          329.489990234375,
          323.010009765625,
          326.19000244140625,
          334.9200134277344,
          334.9700012207031,
          333.1000061035156,
          342.5400085449219,
          339.3999938964844,
          328.3399963378906,
          334.6499938964844,
          324.8999938964844,
          323.79998779296875,
          319.9100036621094,
          327.2900085449219,
          333.20001220703125,
          334.69000244140625,
          342.45001220703125,
          341.25,
          341.95001220703125,
          339.32000732421875,
          336.32000732421875,
          334.75,
          329.010009765625,
          316.3800048828125,
          313.8800048828125,
          314.0400085449219
         ]
        }
       ],
       "layout": {
        "template": {
         "data": {
          "bar": [
           {
            "error_x": {
             "color": "#2a3f5f"
            },
            "error_y": {
             "color": "#2a3f5f"
            },
            "marker": {
             "line": {
              "color": "#E5ECF6",
              "width": 0.5
             },
             "pattern": {
              "fillmode": "overlay",
              "size": 10,
              "solidity": 0.2
             }
            },
            "type": "bar"
           }
          ],
          "barpolar": [
           {
            "marker": {
             "line": {
              "color": "#E5ECF6",
              "width": 0.5
             },
             "pattern": {
              "fillmode": "overlay",
              "size": 10,
              "solidity": 0.2
             }
            },
            "type": "barpolar"
           }
          ],
          "carpet": [
           {
            "aaxis": {
             "endlinecolor": "#2a3f5f",
             "gridcolor": "white",
             "linecolor": "white",
             "minorgridcolor": "white",
             "startlinecolor": "#2a3f5f"
            },
            "baxis": {
             "endlinecolor": "#2a3f5f",
             "gridcolor": "white",
             "linecolor": "white",
             "minorgridcolor": "white",
             "startlinecolor": "#2a3f5f"
            },
            "type": "carpet"
           }
          ],
          "choropleth": [
           {
            "colorbar": {
             "outlinewidth": 0,
             "ticks": ""
            },
            "type": "choropleth"
           }
          ],
          "contour": [
           {
            "colorbar": {
             "outlinewidth": 0,
             "ticks": ""
            },
            "colorscale": [
             [
              0,
              "#0d0887"
             ],
             [
              0.1111111111111111,
              "#46039f"
             ],
             [
              0.2222222222222222,
              "#7201a8"
             ],
             [
              0.3333333333333333,
              "#9c179e"
             ],
             [
              0.4444444444444444,
              "#bd3786"
             ],
             [
              0.5555555555555556,
              "#d8576b"
             ],
             [
              0.6666666666666666,
              "#ed7953"
             ],
             [
              0.7777777777777778,
              "#fb9f3a"
             ],
             [
              0.8888888888888888,
              "#fdca26"
             ],
             [
              1,
              "#f0f921"
             ]
            ],
            "type": "contour"
           }
          ],
          "contourcarpet": [
           {
            "colorbar": {
             "outlinewidth": 0,
             "ticks": ""
            },
            "type": "contourcarpet"
           }
          ],
          "heatmap": [
           {
            "colorbar": {
             "outlinewidth": 0,
             "ticks": ""
            },
            "colorscale": [
             [
              0,
              "#0d0887"
             ],
             [
              0.1111111111111111,
              "#46039f"
             ],
             [
              0.2222222222222222,
              "#7201a8"
             ],
             [
              0.3333333333333333,
              "#9c179e"
             ],
             [
              0.4444444444444444,
              "#bd3786"
             ],
             [
              0.5555555555555556,
              "#d8576b"
             ],
             [
              0.6666666666666666,
              "#ed7953"
             ],
             [
              0.7777777777777778,
              "#fb9f3a"
             ],
             [
              0.8888888888888888,
              "#fdca26"
             ],
             [
              1,
              "#f0f921"
             ]
            ],
            "type": "heatmap"
           }
          ],
          "heatmapgl": [
           {
            "colorbar": {
             "outlinewidth": 0,
             "ticks": ""
            },
            "colorscale": [
             [
              0,
              "#0d0887"
             ],
             [
              0.1111111111111111,
              "#46039f"
             ],
             [
              0.2222222222222222,
              "#7201a8"
             ],
             [
              0.3333333333333333,
              "#9c179e"
             ],
             [
              0.4444444444444444,
              "#bd3786"
             ],
             [
              0.5555555555555556,
              "#d8576b"
             ],
             [
              0.6666666666666666,
              "#ed7953"
             ],
             [
              0.7777777777777778,
              "#fb9f3a"
             ],
             [
              0.8888888888888888,
              "#fdca26"
             ],
             [
              1,
              "#f0f921"
             ]
            ],
            "type": "heatmapgl"
           }
          ],
          "histogram": [
           {
            "marker": {
             "pattern": {
              "fillmode": "overlay",
              "size": 10,
              "solidity": 0.2
             }
            },
            "type": "histogram"
           }
          ],
          "histogram2d": [
           {
            "colorbar": {
             "outlinewidth": 0,
             "ticks": ""
            },
            "colorscale": [
             [
              0,
              "#0d0887"
             ],
             [
              0.1111111111111111,
              "#46039f"
             ],
             [
              0.2222222222222222,
              "#7201a8"
             ],
             [
              0.3333333333333333,
              "#9c179e"
             ],
             [
              0.4444444444444444,
              "#bd3786"
             ],
             [
              0.5555555555555556,
              "#d8576b"
             ],
             [
              0.6666666666666666,
              "#ed7953"
             ],
             [
              0.7777777777777778,
              "#fb9f3a"
             ],
             [
              0.8888888888888888,
              "#fdca26"
             ],
             [
              1,
              "#f0f921"
             ]
            ],
            "type": "histogram2d"
           }
          ],
          "histogram2dcontour": [
           {
            "colorbar": {
             "outlinewidth": 0,
             "ticks": ""
            },
            "colorscale": [
             [
              0,
              "#0d0887"
             ],
             [
              0.1111111111111111,
              "#46039f"
             ],
             [
              0.2222222222222222,
              "#7201a8"
             ],
             [
              0.3333333333333333,
              "#9c179e"
             ],
             [
              0.4444444444444444,
              "#bd3786"
             ],
             [
              0.5555555555555556,
              "#d8576b"
             ],
             [
              0.6666666666666666,
              "#ed7953"
             ],
             [
              0.7777777777777778,
              "#fb9f3a"
             ],
             [
              0.8888888888888888,
              "#fdca26"
             ],
             [
              1,
              "#f0f921"
             ]
            ],
            "type": "histogram2dcontour"
           }
          ],
          "mesh3d": [
           {
            "colorbar": {
             "outlinewidth": 0,
             "ticks": ""
            },
            "type": "mesh3d"
           }
          ],
          "parcoords": [
           {
            "line": {
             "colorbar": {
              "outlinewidth": 0,
              "ticks": ""
             }
            },
            "type": "parcoords"
           }
          ],
          "pie": [
           {
            "automargin": true,
            "type": "pie"
           }
          ],
          "scatter": [
           {
            "fillpattern": {
             "fillmode": "overlay",
             "size": 10,
             "solidity": 0.2
            },
            "type": "scatter"
           }
          ],
          "scatter3d": [
           {
            "line": {
             "colorbar": {
              "outlinewidth": 0,
              "ticks": ""
             }
            },
            "marker": {
             "colorbar": {
              "outlinewidth": 0,
              "ticks": ""
             }
            },
            "type": "scatter3d"
           }
          ],
          "scattercarpet": [
           {
            "marker": {
             "colorbar": {
              "outlinewidth": 0,
              "ticks": ""
             }
            },
            "type": "scattercarpet"
           }
          ],
          "scattergeo": [
           {
            "marker": {
             "colorbar": {
              "outlinewidth": 0,
              "ticks": ""
             }
            },
            "type": "scattergeo"
           }
          ],
          "scattergl": [
           {
            "marker": {
             "colorbar": {
              "outlinewidth": 0,
              "ticks": ""
             }
            },
            "type": "scattergl"
           }
          ],
          "scattermapbox": [
           {
            "marker": {
             "colorbar": {
              "outlinewidth": 0,
              "ticks": ""
             }
            },
            "type": "scattermapbox"
           }
          ],
          "scatterpolar": [
           {
            "marker": {
             "colorbar": {
              "outlinewidth": 0,
              "ticks": ""
             }
            },
            "type": "scatterpolar"
           }
          ],
          "scatterpolargl": [
           {
            "marker": {
             "colorbar": {
              "outlinewidth": 0,
              "ticks": ""
             }
            },
            "type": "scatterpolargl"
           }
          ],
          "scatterternary": [
           {
            "marker": {
             "colorbar": {
              "outlinewidth": 0,
              "ticks": ""
             }
            },
            "type": "scatterternary"
           }
          ],
          "surface": [
           {
            "colorbar": {
             "outlinewidth": 0,
             "ticks": ""
            },
            "colorscale": [
             [
              0,
              "#0d0887"
             ],
             [
              0.1111111111111111,
              "#46039f"
             ],
             [
              0.2222222222222222,
              "#7201a8"
             ],
             [
              0.3333333333333333,
              "#9c179e"
             ],
             [
              0.4444444444444444,
              "#bd3786"
             ],
             [
              0.5555555555555556,
              "#d8576b"
             ],
             [
              0.6666666666666666,
              "#ed7953"
             ],
             [
              0.7777777777777778,
              "#fb9f3a"
             ],
             [
              0.8888888888888888,
              "#fdca26"
             ],
             [
              1,
              "#f0f921"
             ]
            ],
            "type": "surface"
           }
          ],
          "table": [
           {
            "cells": {
             "fill": {
              "color": "#EBF0F8"
             },
             "line": {
              "color": "white"
             }
            },
            "header": {
             "fill": {
              "color": "#C8D4E3"
             },
             "line": {
              "color": "white"
             }
            },
            "type": "table"
           }
          ]
         },
         "layout": {
          "annotationdefaults": {
           "arrowcolor": "#2a3f5f",
           "arrowhead": 0,
           "arrowwidth": 1
          },
          "autotypenumbers": "strict",
          "coloraxis": {
           "colorbar": {
            "outlinewidth": 0,
            "ticks": ""
           }
          },
          "colorscale": {
           "diverging": [
            [
             0,
             "#8e0152"
            ],
            [
             0.1,
             "#c51b7d"
            ],
            [
             0.2,
             "#de77ae"
            ],
            [
             0.3,
             "#f1b6da"
            ],
            [
             0.4,
             "#fde0ef"
            ],
            [
             0.5,
             "#f7f7f7"
            ],
            [
             0.6,
             "#e6f5d0"
            ],
            [
             0.7,
             "#b8e186"
            ],
            [
             0.8,
             "#7fbc41"
            ],
            [
             0.9,
             "#4d9221"
            ],
            [
             1,
             "#276419"
            ]
           ],
           "sequential": [
            [
             0,
             "#0d0887"
            ],
            [
             0.1111111111111111,
             "#46039f"
            ],
            [
             0.2222222222222222,
             "#7201a8"
            ],
            [
             0.3333333333333333,
             "#9c179e"
            ],
            [
             0.4444444444444444,
             "#bd3786"
            ],
            [
             0.5555555555555556,
             "#d8576b"
            ],
            [
             0.6666666666666666,
             "#ed7953"
            ],
            [
             0.7777777777777778,
             "#fb9f3a"
            ],
            [
             0.8888888888888888,
             "#fdca26"
            ],
            [
             1,
             "#f0f921"
            ]
           ],
           "sequentialminus": [
            [
             0,
             "#0d0887"
            ],
            [
             0.1111111111111111,
             "#46039f"
            ],
            [
             0.2222222222222222,
             "#7201a8"
            ],
            [
             0.3333333333333333,
             "#9c179e"
            ],
            [
             0.4444444444444444,
             "#bd3786"
            ],
            [
             0.5555555555555556,
             "#d8576b"
            ],
            [
             0.6666666666666666,
             "#ed7953"
            ],
            [
             0.7777777777777778,
             "#fb9f3a"
            ],
            [
             0.8888888888888888,
             "#fdca26"
            ],
            [
             1,
             "#f0f921"
            ]
           ]
          },
          "colorway": [
           "#636efa",
           "#EF553B",
           "#00cc96",
           "#ab63fa",
           "#FFA15A",
           "#19d3f3",
           "#FF6692",
           "#B6E880",
           "#FF97FF",
           "#FECB52"
          ],
          "font": {
           "color": "#2a3f5f"
          },
          "geo": {
           "bgcolor": "white",
           "lakecolor": "white",
           "landcolor": "#E5ECF6",
           "showlakes": true,
           "showland": true,
           "subunitcolor": "white"
          },
          "hoverlabel": {
           "align": "left"
          },
          "hovermode": "closest",
          "mapbox": {
           "style": "light"
          },
          "paper_bgcolor": "white",
          "plot_bgcolor": "#E5ECF6",
          "polar": {
           "angularaxis": {
            "gridcolor": "white",
            "linecolor": "white",
            "ticks": ""
           },
           "bgcolor": "#E5ECF6",
           "radialaxis": {
            "gridcolor": "white",
            "linecolor": "white",
            "ticks": ""
           }
          },
          "scene": {
           "xaxis": {
            "backgroundcolor": "#E5ECF6",
            "gridcolor": "white",
            "gridwidth": 2,
            "linecolor": "white",
            "showbackground": true,
            "ticks": "",
            "zerolinecolor": "white"
           },
           "yaxis": {
            "backgroundcolor": "#E5ECF6",
            "gridcolor": "white",
            "gridwidth": 2,
            "linecolor": "white",
            "showbackground": true,
            "ticks": "",
            "zerolinecolor": "white"
           },
           "zaxis": {
            "backgroundcolor": "#E5ECF6",
            "gridcolor": "white",
            "gridwidth": 2,
            "linecolor": "white",
            "showbackground": true,
            "ticks": "",
            "zerolinecolor": "white"
           }
          },
          "shapedefaults": {
           "line": {
            "color": "#2a3f5f"
           }
          },
          "ternary": {
           "aaxis": {
            "gridcolor": "white",
            "linecolor": "white",
            "ticks": ""
           },
           "baxis": {
            "gridcolor": "white",
            "linecolor": "white",
            "ticks": ""
           },
           "bgcolor": "#E5ECF6",
           "caxis": {
            "gridcolor": "white",
            "linecolor": "white",
            "ticks": ""
           }
          },
          "title": {
           "x": 0.05
          },
          "xaxis": {
           "automargin": true,
           "gridcolor": "white",
           "linecolor": "white",
           "ticks": "",
           "title": {
            "standoff": 15
           },
           "zerolinecolor": "white",
           "zerolinewidth": 2
          },
          "yaxis": {
           "automargin": true,
           "gridcolor": "white",
           "linecolor": "white",
           "ticks": "",
           "title": {
            "standoff": 15
           },
           "zerolinecolor": "white",
           "zerolinewidth": 2
          }
         }
        }
       }
      }
     },
     "metadata": {},
     "output_type": "display_data"
    }
   ],
   "source": [
    "import plotly.graph_objects as go\n",
    "\n",
    "fig = go.Figure()\n",
    "\n",
    "fig.add_trace(\n",
    "    go.Scatter(\n",
    "        x=dates_train,\n",
    "        y=train_predictions,\n",
    "        name='Predictions'\n",
    "    ))\n",
    "\n",
    "fig.add_trace(\n",
    "    go.Scatter(\n",
    "        x=dates_train,\n",
    "        y=y_train,\n",
    "        name='Target Data'\n",
    "    ))\n",
    "\n",
    "fig.add_t\n",
    "\n",
    "fig.show()\n"
   ]
  },
  {
   "cell_type": "code",
   "execution_count": null,
   "metadata": {},
   "outputs": [],
   "source": []
  }
 ],
 "metadata": {
  "kernelspec": {
   "display_name": "Python 3.10.1 64-bit",
   "language": "python",
   "name": "python3"
  },
  "language_info": {
   "codemirror_mode": {
    "name": "ipython",
    "version": 3
   },
   "file_extension": ".py",
   "mimetype": "text/x-python",
   "name": "python",
   "nbconvert_exporter": "python",
   "pygments_lexer": "ipython3",
   "version": "3.10.1"
  },
  "orig_nbformat": 4,
  "vscode": {
   "interpreter": {
    "hash": "9b00adcca2d127d9453d757094884878814abfad2252649bfcca8391f83476c8"
   }
  }
 },
 "nbformat": 4,
 "nbformat_minor": 2
}
