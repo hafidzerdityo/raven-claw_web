{
 "cells": [
  {
   "cell_type": "code",
   "execution_count": 29,
   "metadata": {},
   "outputs": [],
   "source": [
    "import pandas as pd"
   ]
  },
  {
   "cell_type": "code",
   "execution_count": 30,
   "metadata": {},
   "outputs": [
    {
     "data": {
      "text/html": [
       "<div>\n",
       "<style scoped>\n",
       "    .dataframe tbody tr th:only-of-type {\n",
       "        vertical-align: middle;\n",
       "    }\n",
       "\n",
       "    .dataframe tbody tr th {\n",
       "        vertical-align: top;\n",
       "    }\n",
       "\n",
       "    .dataframe thead th {\n",
       "        text-align: right;\n",
       "    }\n",
       "</style>\n",
       "<table border=\"1\" class=\"dataframe\">\n",
       "  <thead>\n",
       "    <tr style=\"text-align: right;\">\n",
       "      <th></th>\n",
       "      <th>Date</th>\n",
       "      <th>Open</th>\n",
       "      <th>High</th>\n",
       "      <th>Low</th>\n",
       "      <th>Close</th>\n",
       "      <th>Adj Close</th>\n",
       "      <th>Volume</th>\n",
       "    </tr>\n",
       "  </thead>\n",
       "  <tbody>\n",
       "    <tr>\n",
       "      <th>0</th>\n",
       "      <td>1986-03-13</td>\n",
       "      <td>0.088542</td>\n",
       "      <td>0.101563</td>\n",
       "      <td>0.088542</td>\n",
       "      <td>0.097222</td>\n",
       "      <td>0.060980</td>\n",
       "      <td>1031788800</td>\n",
       "    </tr>\n",
       "    <tr>\n",
       "      <th>1</th>\n",
       "      <td>1986-03-14</td>\n",
       "      <td>0.097222</td>\n",
       "      <td>0.102431</td>\n",
       "      <td>0.097222</td>\n",
       "      <td>0.100694</td>\n",
       "      <td>0.063158</td>\n",
       "      <td>308160000</td>\n",
       "    </tr>\n",
       "    <tr>\n",
       "      <th>2</th>\n",
       "      <td>1986-03-17</td>\n",
       "      <td>0.100694</td>\n",
       "      <td>0.103299</td>\n",
       "      <td>0.100694</td>\n",
       "      <td>0.102431</td>\n",
       "      <td>0.064247</td>\n",
       "      <td>133171200</td>\n",
       "    </tr>\n",
       "    <tr>\n",
       "      <th>3</th>\n",
       "      <td>1986-03-18</td>\n",
       "      <td>0.102431</td>\n",
       "      <td>0.103299</td>\n",
       "      <td>0.098958</td>\n",
       "      <td>0.099826</td>\n",
       "      <td>0.062613</td>\n",
       "      <td>67766400</td>\n",
       "    </tr>\n",
       "    <tr>\n",
       "      <th>4</th>\n",
       "      <td>1986-03-19</td>\n",
       "      <td>0.099826</td>\n",
       "      <td>0.100694</td>\n",
       "      <td>0.097222</td>\n",
       "      <td>0.098090</td>\n",
       "      <td>0.061524</td>\n",
       "      <td>47894400</td>\n",
       "    </tr>\n",
       "    <tr>\n",
       "      <th>...</th>\n",
       "      <td>...</td>\n",
       "      <td>...</td>\n",
       "      <td>...</td>\n",
       "      <td>...</td>\n",
       "      <td>...</td>\n",
       "      <td>...</td>\n",
       "      <td>...</td>\n",
       "    </tr>\n",
       "    <tr>\n",
       "      <th>9214</th>\n",
       "      <td>2022-10-03</td>\n",
       "      <td>235.410004</td>\n",
       "      <td>241.610001</td>\n",
       "      <td>234.660004</td>\n",
       "      <td>240.740005</td>\n",
       "      <td>240.740005</td>\n",
       "      <td>28880400</td>\n",
       "    </tr>\n",
       "    <tr>\n",
       "      <th>9215</th>\n",
       "      <td>2022-10-04</td>\n",
       "      <td>245.089996</td>\n",
       "      <td>250.360001</td>\n",
       "      <td>244.979996</td>\n",
       "      <td>248.880005</td>\n",
       "      <td>248.880005</td>\n",
       "      <td>34888400</td>\n",
       "    </tr>\n",
       "    <tr>\n",
       "      <th>9216</th>\n",
       "      <td>2022-10-05</td>\n",
       "      <td>245.990005</td>\n",
       "      <td>250.580002</td>\n",
       "      <td>244.100006</td>\n",
       "      <td>249.199997</td>\n",
       "      <td>249.199997</td>\n",
       "      <td>20347100</td>\n",
       "    </tr>\n",
       "    <tr>\n",
       "      <th>9217</th>\n",
       "      <td>2022-10-06</td>\n",
       "      <td>247.929993</td>\n",
       "      <td>250.339996</td>\n",
       "      <td>246.080002</td>\n",
       "      <td>246.789993</td>\n",
       "      <td>246.789993</td>\n",
       "      <td>20239900</td>\n",
       "    </tr>\n",
       "    <tr>\n",
       "      <th>9218</th>\n",
       "      <td>2022-10-07</td>\n",
       "      <td>240.899994</td>\n",
       "      <td>241.320007</td>\n",
       "      <td>233.169998</td>\n",
       "      <td>234.240005</td>\n",
       "      <td>234.240005</td>\n",
       "      <td>37732400</td>\n",
       "    </tr>\n",
       "  </tbody>\n",
       "</table>\n",
       "<p>9219 rows × 7 columns</p>\n",
       "</div>"
      ],
      "text/plain": [
       "            Date        Open        High         Low       Close   Adj Close  \\\n",
       "0     1986-03-13    0.088542    0.101563    0.088542    0.097222    0.060980   \n",
       "1     1986-03-14    0.097222    0.102431    0.097222    0.100694    0.063158   \n",
       "2     1986-03-17    0.100694    0.103299    0.100694    0.102431    0.064247   \n",
       "3     1986-03-18    0.102431    0.103299    0.098958    0.099826    0.062613   \n",
       "4     1986-03-19    0.099826    0.100694    0.097222    0.098090    0.061524   \n",
       "...          ...         ...         ...         ...         ...         ...   \n",
       "9214  2022-10-03  235.410004  241.610001  234.660004  240.740005  240.740005   \n",
       "9215  2022-10-04  245.089996  250.360001  244.979996  248.880005  248.880005   \n",
       "9216  2022-10-05  245.990005  250.580002  244.100006  249.199997  249.199997   \n",
       "9217  2022-10-06  247.929993  250.339996  246.080002  246.789993  246.789993   \n",
       "9218  2022-10-07  240.899994  241.320007  233.169998  234.240005  234.240005   \n",
       "\n",
       "          Volume  \n",
       "0     1031788800  \n",
       "1      308160000  \n",
       "2      133171200  \n",
       "3       67766400  \n",
       "4       47894400  \n",
       "...          ...  \n",
       "9214    28880400  \n",
       "9215    34888400  \n",
       "9216    20347100  \n",
       "9217    20239900  \n",
       "9218    37732400  \n",
       "\n",
       "[9219 rows x 7 columns]"
      ]
     },
     "execution_count": 30,
     "metadata": {},
     "output_type": "execute_result"
    }
   ],
   "source": [
    "df = pd.read_csv('MSFT.csv')\n",
    "df\n"
   ]
  },
  {
   "cell_type": "code",
   "execution_count": 31,
   "metadata": {},
   "outputs": [
    {
     "data": {
      "text/html": [
       "<div>\n",
       "<style scoped>\n",
       "    .dataframe tbody tr th:only-of-type {\n",
       "        vertical-align: middle;\n",
       "    }\n",
       "\n",
       "    .dataframe tbody tr th {\n",
       "        vertical-align: top;\n",
       "    }\n",
       "\n",
       "    .dataframe thead th {\n",
       "        text-align: right;\n",
       "    }\n",
       "</style>\n",
       "<table border=\"1\" class=\"dataframe\">\n",
       "  <thead>\n",
       "    <tr style=\"text-align: right;\">\n",
       "      <th></th>\n",
       "      <th>Date</th>\n",
       "      <th>Close</th>\n",
       "    </tr>\n",
       "  </thead>\n",
       "  <tbody>\n",
       "    <tr>\n",
       "      <th>0</th>\n",
       "      <td>1986-03-13</td>\n",
       "      <td>0.097222</td>\n",
       "    </tr>\n",
       "    <tr>\n",
       "      <th>1</th>\n",
       "      <td>1986-03-14</td>\n",
       "      <td>0.100694</td>\n",
       "    </tr>\n",
       "    <tr>\n",
       "      <th>2</th>\n",
       "      <td>1986-03-17</td>\n",
       "      <td>0.102431</td>\n",
       "    </tr>\n",
       "    <tr>\n",
       "      <th>3</th>\n",
       "      <td>1986-03-18</td>\n",
       "      <td>0.099826</td>\n",
       "    </tr>\n",
       "    <tr>\n",
       "      <th>4</th>\n",
       "      <td>1986-03-19</td>\n",
       "      <td>0.098090</td>\n",
       "    </tr>\n",
       "    <tr>\n",
       "      <th>...</th>\n",
       "      <td>...</td>\n",
       "      <td>...</td>\n",
       "    </tr>\n",
       "    <tr>\n",
       "      <th>9214</th>\n",
       "      <td>2022-10-03</td>\n",
       "      <td>240.740005</td>\n",
       "    </tr>\n",
       "    <tr>\n",
       "      <th>9215</th>\n",
       "      <td>2022-10-04</td>\n",
       "      <td>248.880005</td>\n",
       "    </tr>\n",
       "    <tr>\n",
       "      <th>9216</th>\n",
       "      <td>2022-10-05</td>\n",
       "      <td>249.199997</td>\n",
       "    </tr>\n",
       "    <tr>\n",
       "      <th>9217</th>\n",
       "      <td>2022-10-06</td>\n",
       "      <td>246.789993</td>\n",
       "    </tr>\n",
       "    <tr>\n",
       "      <th>9218</th>\n",
       "      <td>2022-10-07</td>\n",
       "      <td>234.240005</td>\n",
       "    </tr>\n",
       "  </tbody>\n",
       "</table>\n",
       "<p>9219 rows × 2 columns</p>\n",
       "</div>"
      ],
      "text/plain": [
       "            Date       Close\n",
       "0     1986-03-13    0.097222\n",
       "1     1986-03-14    0.100694\n",
       "2     1986-03-17    0.102431\n",
       "3     1986-03-18    0.099826\n",
       "4     1986-03-19    0.098090\n",
       "...          ...         ...\n",
       "9214  2022-10-03  240.740005\n",
       "9215  2022-10-04  248.880005\n",
       "9216  2022-10-05  249.199997\n",
       "9217  2022-10-06  246.789993\n",
       "9218  2022-10-07  234.240005\n",
       "\n",
       "[9219 rows x 2 columns]"
      ]
     },
     "execution_count": 31,
     "metadata": {},
     "output_type": "execute_result"
    }
   ],
   "source": [
    "df = df[['Date', 'Close']]\n",
    "\n",
    "df\n"
   ]
  },
  {
   "cell_type": "code",
   "execution_count": 32,
   "metadata": {},
   "outputs": [
    {
     "data": {
      "text/plain": [
       "0       1986-03-13\n",
       "1       1986-03-14\n",
       "2       1986-03-17\n",
       "3       1986-03-18\n",
       "4       1986-03-19\n",
       "           ...    \n",
       "9214    2022-10-03\n",
       "9215    2022-10-04\n",
       "9216    2022-10-05\n",
       "9217    2022-10-06\n",
       "9218    2022-10-07\n",
       "Name: Date, Length: 9219, dtype: object"
      ]
     },
     "execution_count": 32,
     "metadata": {},
     "output_type": "execute_result"
    }
   ],
   "source": [
    "df['Date']\n"
   ]
  },
  {
   "cell_type": "code",
   "execution_count": 33,
   "metadata": {},
   "outputs": [
    {
     "data": {
      "text/plain": [
       "datetime.datetime(1986, 3, 19, 0, 0)"
      ]
     },
     "execution_count": 33,
     "metadata": {},
     "output_type": "execute_result"
    }
   ],
   "source": [
    "import datetime\n",
    "\n",
    "\n",
    "def str_to_datetime(s):\n",
    "  split = s.split('-')\n",
    "  year, month, day = int(split[0]), int(split[1]), int(split[2])\n",
    "  return datetime.datetime(year=year, month=month, day=day)\n",
    "\n",
    "\n",
    "datetime_object = str_to_datetime('1986-03-19')\n",
    "datetime_object\n"
   ]
  },
  {
   "cell_type": "code",
   "execution_count": 34,
   "metadata": {},
   "outputs": [
    {
     "name": "stderr",
     "output_type": "stream",
     "text": [
      "C:\\Users\\hafid\\AppData\\Local\\Temp/ipykernel_18284/1038773143.py:1: SettingWithCopyWarning:\n",
      "\n",
      "\n",
      "A value is trying to be set on a copy of a slice from a DataFrame.\n",
      "Try using .loc[row_indexer,col_indexer] = value instead\n",
      "\n",
      "See the caveats in the documentation: https://pandas.pydata.org/pandas-docs/stable/user_guide/indexing.html#returning-a-view-versus-a-copy\n",
      "\n"
     ]
    },
    {
     "data": {
      "text/plain": [
       "0      1986-03-13\n",
       "1      1986-03-14\n",
       "2      1986-03-17\n",
       "3      1986-03-18\n",
       "4      1986-03-19\n",
       "          ...    \n",
       "9214   2022-10-03\n",
       "9215   2022-10-04\n",
       "9216   2022-10-05\n",
       "9217   2022-10-06\n",
       "9218   2022-10-07\n",
       "Name: Date, Length: 9219, dtype: datetime64[ns]"
      ]
     },
     "execution_count": 34,
     "metadata": {},
     "output_type": "execute_result"
    }
   ],
   "source": [
    "df['Date'] = df['Date'].apply(str_to_datetime)\n",
    "df['Date']\n"
   ]
  },
  {
   "cell_type": "code",
   "execution_count": 35,
   "metadata": {},
   "outputs": [
    {
     "data": {
      "text/html": [
       "<div>\n",
       "<style scoped>\n",
       "    .dataframe tbody tr th:only-of-type {\n",
       "        vertical-align: middle;\n",
       "    }\n",
       "\n",
       "    .dataframe tbody tr th {\n",
       "        vertical-align: top;\n",
       "    }\n",
       "\n",
       "    .dataframe thead th {\n",
       "        text-align: right;\n",
       "    }\n",
       "</style>\n",
       "<table border=\"1\" class=\"dataframe\">\n",
       "  <thead>\n",
       "    <tr style=\"text-align: right;\">\n",
       "      <th></th>\n",
       "      <th>Close</th>\n",
       "    </tr>\n",
       "    <tr>\n",
       "      <th>Date</th>\n",
       "      <th></th>\n",
       "    </tr>\n",
       "  </thead>\n",
       "  <tbody>\n",
       "    <tr>\n",
       "      <th>1986-03-13</th>\n",
       "      <td>0.097222</td>\n",
       "    </tr>\n",
       "    <tr>\n",
       "      <th>1986-03-14</th>\n",
       "      <td>0.100694</td>\n",
       "    </tr>\n",
       "    <tr>\n",
       "      <th>1986-03-17</th>\n",
       "      <td>0.102431</td>\n",
       "    </tr>\n",
       "    <tr>\n",
       "      <th>1986-03-18</th>\n",
       "      <td>0.099826</td>\n",
       "    </tr>\n",
       "    <tr>\n",
       "      <th>1986-03-19</th>\n",
       "      <td>0.098090</td>\n",
       "    </tr>\n",
       "    <tr>\n",
       "      <th>...</th>\n",
       "      <td>...</td>\n",
       "    </tr>\n",
       "    <tr>\n",
       "      <th>2022-10-03</th>\n",
       "      <td>240.740005</td>\n",
       "    </tr>\n",
       "    <tr>\n",
       "      <th>2022-10-04</th>\n",
       "      <td>248.880005</td>\n",
       "    </tr>\n",
       "    <tr>\n",
       "      <th>2022-10-05</th>\n",
       "      <td>249.199997</td>\n",
       "    </tr>\n",
       "    <tr>\n",
       "      <th>2022-10-06</th>\n",
       "      <td>246.789993</td>\n",
       "    </tr>\n",
       "    <tr>\n",
       "      <th>2022-10-07</th>\n",
       "      <td>234.240005</td>\n",
       "    </tr>\n",
       "  </tbody>\n",
       "</table>\n",
       "<p>9219 rows × 1 columns</p>\n",
       "</div>"
      ],
      "text/plain": [
       "                 Close\n",
       "Date                  \n",
       "1986-03-13    0.097222\n",
       "1986-03-14    0.100694\n",
       "1986-03-17    0.102431\n",
       "1986-03-18    0.099826\n",
       "1986-03-19    0.098090\n",
       "...                ...\n",
       "2022-10-03  240.740005\n",
       "2022-10-04  248.880005\n",
       "2022-10-05  249.199997\n",
       "2022-10-06  246.789993\n",
       "2022-10-07  234.240005\n",
       "\n",
       "[9219 rows x 1 columns]"
      ]
     },
     "execution_count": 35,
     "metadata": {},
     "output_type": "execute_result"
    }
   ],
   "source": [
    "df.index = df.pop('Date')\n",
    "df\n"
   ]
  },
  {
   "cell_type": "code",
   "execution_count": 36,
   "metadata": {},
   "outputs": [
    {
     "data": {
      "text/plain": [
       "[<matplotlib.lines.Line2D at 0x2a31899a830>]"
      ]
     },
     "execution_count": 36,
     "metadata": {},
     "output_type": "execute_result"
    },
    {
     "data": {
      "image/png": "[encoded data removed]",
      "text/plain": [
       "<Figure size 432x288 with 1 Axes>"
      ]
     },
     "metadata": {
      "needs_background": "light"
     },
     "output_type": "display_data"
    }
   ],
   "source": [
    "import matplotlib.pyplot as plt\n",
    "\n",
    "plt.plot(df.index, df['Close'])\n"
   ]
  },
  {
   "cell_type": "code",
   "execution_count": 37,
   "metadata": {},
   "outputs": [
    {
     "data": {
      "text/html": [
       "<div>\n",
       "<style scoped>\n",
       "    .dataframe tbody tr th:only-of-type {\n",
       "        vertical-align: middle;\n",
       "    }\n",
       "\n",
       "    .dataframe tbody tr th {\n",
       "        vertical-align: top;\n",
       "    }\n",
       "\n",
       "    .dataframe thead th {\n",
       "        text-align: right;\n",
       "    }\n",
       "</style>\n",
       "<table border=\"1\" class=\"dataframe\">\n",
       "  <thead>\n",
       "    <tr style=\"text-align: right;\">\n",
       "      <th></th>\n",
       "      <th>Target Date</th>\n",
       "      <th>Target-3</th>\n",
       "      <th>Target-2</th>\n",
       "      <th>Target-1</th>\n",
       "      <th>Target</th>\n",
       "    </tr>\n",
       "  </thead>\n",
       "  <tbody>\n",
       "    <tr>\n",
       "      <th>0</th>\n",
       "      <td>2021-03-25</td>\n",
       "      <td>235.990005</td>\n",
       "      <td>237.580002</td>\n",
       "      <td>235.460007</td>\n",
       "      <td>232.339996</td>\n",
       "    </tr>\n",
       "    <tr>\n",
       "      <th>1</th>\n",
       "      <td>2021-03-26</td>\n",
       "      <td>237.580002</td>\n",
       "      <td>235.460007</td>\n",
       "      <td>232.339996</td>\n",
       "      <td>236.479996</td>\n",
       "    </tr>\n",
       "    <tr>\n",
       "      <th>2</th>\n",
       "      <td>2021-03-29</td>\n",
       "      <td>235.460007</td>\n",
       "      <td>232.339996</td>\n",
       "      <td>236.479996</td>\n",
       "      <td>235.240005</td>\n",
       "    </tr>\n",
       "    <tr>\n",
       "      <th>3</th>\n",
       "      <td>2021-03-30</td>\n",
       "      <td>232.339996</td>\n",
       "      <td>236.479996</td>\n",
       "      <td>235.240005</td>\n",
       "      <td>231.850006</td>\n",
       "    </tr>\n",
       "    <tr>\n",
       "      <th>4</th>\n",
       "      <td>2021-03-31</td>\n",
       "      <td>236.479996</td>\n",
       "      <td>235.240005</td>\n",
       "      <td>231.850006</td>\n",
       "      <td>235.770004</td>\n",
       "    </tr>\n",
       "    <tr>\n",
       "      <th>...</th>\n",
       "      <td>...</td>\n",
       "      <td>...</td>\n",
       "      <td>...</td>\n",
       "      <td>...</td>\n",
       "      <td>...</td>\n",
       "    </tr>\n",
       "    <tr>\n",
       "      <th>247</th>\n",
       "      <td>2022-03-17</td>\n",
       "      <td>276.440002</td>\n",
       "      <td>287.149994</td>\n",
       "      <td>294.390015</td>\n",
       "      <td>295.220001</td>\n",
       "    </tr>\n",
       "    <tr>\n",
       "      <th>248</th>\n",
       "      <td>2022-03-18</td>\n",
       "      <td>287.149994</td>\n",
       "      <td>294.390015</td>\n",
       "      <td>295.220001</td>\n",
       "      <td>300.429993</td>\n",
       "    </tr>\n",
       "    <tr>\n",
       "      <th>249</th>\n",
       "      <td>2022-03-21</td>\n",
       "      <td>294.390015</td>\n",
       "      <td>295.220001</td>\n",
       "      <td>300.429993</td>\n",
       "      <td>299.160004</td>\n",
       "    </tr>\n",
       "    <tr>\n",
       "      <th>250</th>\n",
       "      <td>2022-03-22</td>\n",
       "      <td>295.220001</td>\n",
       "      <td>300.429993</td>\n",
       "      <td>299.160004</td>\n",
       "      <td>304.059998</td>\n",
       "    </tr>\n",
       "    <tr>\n",
       "      <th>251</th>\n",
       "      <td>2022-03-23</td>\n",
       "      <td>300.429993</td>\n",
       "      <td>299.160004</td>\n",
       "      <td>304.059998</td>\n",
       "      <td>299.489990</td>\n",
       "    </tr>\n",
       "  </tbody>\n",
       "</table>\n",
       "<p>252 rows × 5 columns</p>\n",
       "</div>"
      ],
      "text/plain": [
       "    Target Date    Target-3    Target-2    Target-1      Target\n",
       "0    2021-03-25  235.990005  237.580002  235.460007  232.339996\n",
       "1    2021-03-26  237.580002  235.460007  232.339996  236.479996\n",
       "2    2021-03-29  235.460007  232.339996  236.479996  235.240005\n",
       "3    2021-03-30  232.339996  236.479996  235.240005  231.850006\n",
       "4    2021-03-31  236.479996  235.240005  231.850006  235.770004\n",
       "..          ...         ...         ...         ...         ...\n",
       "247  2022-03-17  276.440002  287.149994  294.390015  295.220001\n",
       "248  2022-03-18  287.149994  294.390015  295.220001  300.429993\n",
       "249  2022-03-21  294.390015  295.220001  300.429993  299.160004\n",
       "250  2022-03-22  295.220001  300.429993  299.160004  304.059998\n",
       "251  2022-03-23  300.429993  299.160004  304.059998  299.489990\n",
       "\n",
       "[252 rows x 5 columns]"
      ]
     },
     "execution_count": 37,
     "metadata": {},
     "output_type": "execute_result"
    }
   ],
   "source": [
    "import numpy as np\n",
    "\n",
    "\n",
    "def df_to_windowed_df(dataframe, first_date_str, last_date_str, n=3):\n",
    "  first_date = str_to_datetime(first_date_str)\n",
    "  last_date = str_to_datetime(last_date_str)\n",
    "\n",
    "  target_date = first_date\n",
    "\n",
    "  dates = []\n",
    "  X, Y = [], []\n",
    "\n",
    "  last_time = False\n",
    "  while True:\n",
    "    df_subset = dataframe.loc[:target_date].tail(n+1)\n",
    "\n",
    "    if len(df_subset) != n+1:\n",
    "      print(f'Error: Window of size {n} is too large for date {target_date}')\n",
    "      return\n",
    "\n",
    "    values = df_subset['Close'].to_numpy()\n",
    "    x, y = values[:-1], values[-1]\n",
    "\n",
    "    dates.append(target_date)\n",
    "    X.append(x)\n",
    "    Y.append(y)\n",
    "\n",
    "    next_week = dataframe.loc[target_date:target_date +\n",
    "                              datetime.timedelta(days=7)]\n",
    "    next_datetime_str = str(next_week.head(2).tail(1).index.values[0])\n",
    "    next_date_str = next_datetime_str.split('T')[0]\n",
    "    year_month_day = next_date_str.split('-')\n",
    "    year, month, day = year_month_day\n",
    "    next_date = datetime.datetime(\n",
    "        day=int(day), month=int(month), year=int(year))\n",
    "\n",
    "    if last_time:\n",
    "      break\n",
    "\n",
    "    target_date = next_date\n",
    "\n",
    "    if target_date == last_date:\n",
    "      last_time = True\n",
    "\n",
    "  ret_df = pd.DataFrame({})\n",
    "  ret_df['Target Date'] = dates\n",
    "\n",
    "  X = np.array(X)\n",
    "  for i in range(0, n):\n",
    "    X[:, i]\n",
    "    ret_df[f'Target-{n-i}'] = X[:, i]\n",
    "\n",
    "  ret_df['Target'] = Y\n",
    "\n",
    "  return ret_df\n",
    "\n",
    "\n",
    "# Start day second time around: '2021-03-25'\n",
    "windowed_df = df_to_windowed_df(df,\n",
    "                                '2021-03-25',\n",
    "                                '2022-03-23',\n",
    "                                n=3)\n",
    "windowed_df\n"
   ]
  },
  {
   "cell_type": "code",
   "execution_count": 38,
   "metadata": {},
   "outputs": [
    {
     "data": {
      "text/plain": [
       "((252,), (252, 3, 1), (252,))"
      ]
     },
     "execution_count": 38,
     "metadata": {},
     "output_type": "execute_result"
    }
   ],
   "source": [
    "def windowed_df_to_date_X_y(windowed_dataframe):\n",
    "  df_as_np = windowed_dataframe.to_numpy()\n",
    "\n",
    "  dates = df_as_np[:, 0]\n",
    "\n",
    "  middle_matrix = df_as_np[:, 1:-1]\n",
    "  X = middle_matrix.reshape((len(dates), middle_matrix.shape[1], 1))\n",
    "\n",
    "  Y = df_as_np[:, -1]\n",
    "\n",
    "  return dates, X.astype(np.float32), Y.astype(np.float32)\n",
    "\n",
    "\n",
    "dates, X, y = windowed_df_to_date_X_y(windowed_df)\n",
    "\n",
    "dates.shape, X.shape, y.shape\n"
   ]
  },
  {
   "cell_type": "code",
   "execution_count": 39,
   "metadata": {},
   "outputs": [
    {
     "data": {
      "text/plain": [
       "Timestamp('2021-03-25 00:00:00')"
      ]
     },
     "execution_count": 39,
     "metadata": {},
     "output_type": "execute_result"
    }
   ],
   "source": [
    "dates[0]"
   ]
  },
  {
   "cell_type": "code",
   "execution_count": 40,
   "metadata": {},
   "outputs": [
    {
     "data": {
      "text/plain": [
       "array([[235.99],\n",
       "       [237.58],\n",
       "       [235.46]], dtype=float32)"
      ]
     },
     "execution_count": 40,
     "metadata": {},
     "output_type": "execute_result"
    }
   ],
   "source": [
    "X[0]"
   ]
  },
  {
   "cell_type": "code",
   "execution_count": 41,
   "metadata": {},
   "outputs": [
    {
     "data": {
      "text/plain": [
       "<matplotlib.legend.Legend at 0x2a302e70af0>"
      ]
     },
     "execution_count": 41,
     "metadata": {},
     "output_type": "execute_result"
    },
    {
     "data": {
      "image/png": "[encoded data removed]",
      "text/plain": [
       "<Figure size 432x288 with 1 Axes>"
      ]
     },
     "metadata": {
      "needs_background": "light"
     },
     "output_type": "display_data"
    }
   ],
   "source": [
    "q_80 = int(len(dates) * .8)\n",
    "q_90 = int(len(dates) * .9)\n",
    "\n",
    "dates_train, X_train, y_train = dates[:q_80], X[:q_80], y[:q_80]\n",
    "\n",
    "dates_val, X_val, y_val = dates[q_80:q_90], X[q_80:q_90], y[q_80:q_90]\n",
    "dates_test, X_test, y_test = dates[q_90:], X[q_90:], y[q_90:]\n",
    "\n",
    "plt.plot(dates_train, y_train)\n",
    "plt.plot(dates_val, y_val)\n",
    "plt.plot(dates_test, y_test)\n",
    "\n",
    "plt.legend(['Train', 'Validation', 'Test'])\n"
   ]
  },
  {
   "cell_type": "code",
   "execution_count": 42,
   "metadata": {},
   "outputs": [
    {
     "name": "stderr",
     "output_type": "stream",
     "text": [
      "c:\\Users\\hafid\\AppData\\Local\\Programs\\Python\\Python310\\lib\\site-packages\\seaborn\\_decorators.py:36: FutureWarning:\n",
      "\n",
      "Pass the following variable as a keyword arg: x. From version 0.12, the only valid positional argument will be `data`, and passing other arguments without an explicit keyword will result in an error or misinterpretation.\n",
      "\n"
     ]
    },
    {
     "data": {
      "text/plain": [
       "<AxesSubplot:>"
      ]
     },
     "execution_count": 42,
     "metadata": {},
     "output_type": "execute_result"
    },
    {
     "data": {
      "image/png": "[encoded data removed]",
      "text/plain": [
       "<Figure size 432x288 with 1 Axes>"
      ]
     },
     "metadata": {
      "needs_background": "light"
     },
     "output_type": "display_data"
    }
   ],
   "source": [
    "import seaborn as sns\n",
    "\n",
    "\n",
    "sns.boxplot(y1)"
   ]
  },
  {
   "cell_type": "code",
   "execution_count": 43,
   "metadata": {},
   "outputs": [],
   "source": [
    "import pandas as pd\n",
    "po = pd.DataFrame(y1)\n",
    "gas = po.describe().reset_index()"
   ]
  },
  {
   "cell_type": "code",
   "execution_count": 44,
   "metadata": {},
   "outputs": [
    {
     "ename": "PermissionError",
     "evalue": "[Errno 13] Permission denied: 'haha.xlsx'",
     "output_type": "error",
     "traceback": [
      "\u001b[1;31m---------------------------------------------------------------------------\u001b[0m",
      "\u001b[1;31mPermissionError\u001b[0m                           Traceback (most recent call last)",
      "\u001b[1;32m~\\AppData\\Local\\Temp/ipykernel_18284/1529199937.py\u001b[0m in \u001b[0;36m<module>\u001b[1;34m\u001b[0m\n\u001b[1;32m----> 1\u001b[1;33m \u001b[0mgas\u001b[0m\u001b[1;33m.\u001b[0m\u001b[0mto_excel\u001b[0m\u001b[1;33m(\u001b[0m\u001b[1;34m'haha.xlsx'\u001b[0m\u001b[1;33m)\u001b[0m\u001b[1;33m\u001b[0m\u001b[1;33m\u001b[0m\u001b[0m\n\u001b[0m",
      "\u001b[1;32mc:\\Users\\hafid\\AppData\\Local\\Programs\\Python\\Python310\\lib\\site-packages\\pandas\\core\\generic.py\u001b[0m in \u001b[0;36mto_excel\u001b[1;34m(self, excel_writer, sheet_name, na_rep, float_format, columns, header, index, index_label, startrow, startcol, engine, merge_cells, encoding, inf_rep, verbose, freeze_panes, storage_options)\u001b[0m\n\u001b[0;32m   2282\u001b[0m             \u001b[0minf_rep\u001b[0m\u001b[1;33m=\u001b[0m\u001b[0minf_rep\u001b[0m\u001b[1;33m,\u001b[0m\u001b[1;33m\u001b[0m\u001b[1;33m\u001b[0m\u001b[0m\n\u001b[0;32m   2283\u001b[0m         )\n\u001b[1;32m-> 2284\u001b[1;33m         formatter.write(\n\u001b[0m\u001b[0;32m   2285\u001b[0m             \u001b[0mexcel_writer\u001b[0m\u001b[1;33m,\u001b[0m\u001b[1;33m\u001b[0m\u001b[1;33m\u001b[0m\u001b[0m\n\u001b[0;32m   2286\u001b[0m             \u001b[0msheet_name\u001b[0m\u001b[1;33m=\u001b[0m\u001b[0msheet_name\u001b[0m\u001b[1;33m,\u001b[0m\u001b[1;33m\u001b[0m\u001b[1;33m\u001b[0m\u001b[0m\n",
      "\u001b[1;32mc:\\Users\\hafid\\AppData\\Local\\Programs\\Python\\Python310\\lib\\site-packages\\pandas\\io\\formats\\excel.py\u001b[0m in \u001b[0;36mwrite\u001b[1;34m(self, writer, sheet_name, startrow, startcol, freeze_panes, engine, storage_options)\u001b[0m\n\u001b[0;32m    832\u001b[0m             \u001b[1;31m# error: Cannot instantiate abstract class 'ExcelWriter' with abstract\u001b[0m\u001b[1;33m\u001b[0m\u001b[1;33m\u001b[0m\u001b[0m\n\u001b[0;32m    833\u001b[0m             \u001b[1;31m# attributes 'engine', 'save', 'supported_extensions' and 'write_cells'\u001b[0m\u001b[1;33m\u001b[0m\u001b[1;33m\u001b[0m\u001b[0m\n\u001b[1;32m--> 834\u001b[1;33m             writer = ExcelWriter(  # type: ignore[abstract]\n\u001b[0m\u001b[0;32m    835\u001b[0m                 \u001b[0mwriter\u001b[0m\u001b[1;33m,\u001b[0m \u001b[0mengine\u001b[0m\u001b[1;33m=\u001b[0m\u001b[0mengine\u001b[0m\u001b[1;33m,\u001b[0m \u001b[0mstorage_options\u001b[0m\u001b[1;33m=\u001b[0m\u001b[0mstorage_options\u001b[0m\u001b[1;33m\u001b[0m\u001b[1;33m\u001b[0m\u001b[0m\n\u001b[0;32m    836\u001b[0m             )\n",
      "\u001b[1;32mc:\\Users\\hafid\\AppData\\Local\\Programs\\Python\\Python310\\lib\\site-packages\\pandas\\io\\excel\\_openpyxl.py\u001b[0m in \u001b[0;36m__init__\u001b[1;34m(self, path, engine, date_format, datetime_format, mode, storage_options, if_sheet_exists, engine_kwargs, **kwargs)\u001b[0m\n\u001b[0;32m     50\u001b[0m         \u001b[0mengine_kwargs\u001b[0m \u001b[1;33m=\u001b[0m \u001b[0mcombine_kwargs\u001b[0m\u001b[1;33m(\u001b[0m\u001b[0mengine_kwargs\u001b[0m\u001b[1;33m,\u001b[0m \u001b[0mkwargs\u001b[0m\u001b[1;33m)\u001b[0m\u001b[1;33m\u001b[0m\u001b[1;33m\u001b[0m\u001b[0m\n\u001b[0;32m     51\u001b[0m \u001b[1;33m\u001b[0m\u001b[0m\n\u001b[1;32m---> 52\u001b[1;33m         super().__init__(\n\u001b[0m\u001b[0;32m     53\u001b[0m             \u001b[0mpath\u001b[0m\u001b[1;33m,\u001b[0m\u001b[1;33m\u001b[0m\u001b[1;33m\u001b[0m\u001b[0m\n\u001b[0;32m     54\u001b[0m             \u001b[0mmode\u001b[0m\u001b[1;33m=\u001b[0m\u001b[0mmode\u001b[0m\u001b[1;33m,\u001b[0m\u001b[1;33m\u001b[0m\u001b[1;33m\u001b[0m\u001b[0m\n",
      "\u001b[1;32mc:\\Users\\hafid\\AppData\\Local\\Programs\\Python\\Python310\\lib\\site-packages\\pandas\\io\\excel\\_base.py\u001b[0m in \u001b[0;36m__init__\u001b[1;34m(self, path, engine, date_format, datetime_format, mode, storage_options, if_sheet_exists, engine_kwargs, **kwargs)\u001b[0m\n\u001b[0;32m    923\u001b[0m         \u001b[0mself\u001b[0m\u001b[1;33m.\u001b[0m\u001b[0mhandles\u001b[0m \u001b[1;33m=\u001b[0m \u001b[0mIOHandles\u001b[0m\u001b[1;33m(\u001b[0m\u001b[0mcast\u001b[0m\u001b[1;33m(\u001b[0m\u001b[0mBuffer\u001b[0m\u001b[1;33m,\u001b[0m \u001b[0mpath\u001b[0m\u001b[1;33m)\u001b[0m\u001b[1;33m,\u001b[0m \u001b[0mcompression\u001b[0m\u001b[1;33m=\u001b[0m\u001b[1;33m{\u001b[0m\u001b[1;34m\"copression\"\u001b[0m\u001b[1;33m:\u001b[0m \u001b[1;32mNone\u001b[0m\u001b[1;33m}\u001b[0m\u001b[1;33m)\u001b[0m\u001b[1;33m\u001b[0m\u001b[1;33m\u001b[0m\u001b[0m\n\u001b[0;32m    924\u001b[0m         \u001b[1;32mif\u001b[0m \u001b[1;32mnot\u001b[0m \u001b[0misinstance\u001b[0m\u001b[1;33m(\u001b[0m\u001b[0mpath\u001b[0m\u001b[1;33m,\u001b[0m \u001b[0mExcelWriter\u001b[0m\u001b[1;33m)\u001b[0m\u001b[1;33m:\u001b[0m\u001b[1;33m\u001b[0m\u001b[1;33m\u001b[0m\u001b[0m\n\u001b[1;32m--> 925\u001b[1;33m             self.handles = get_handle(\n\u001b[0m\u001b[0;32m    926\u001b[0m                 \u001b[0mpath\u001b[0m\u001b[1;33m,\u001b[0m \u001b[0mmode\u001b[0m\u001b[1;33m,\u001b[0m \u001b[0mstorage_options\u001b[0m\u001b[1;33m=\u001b[0m\u001b[0mstorage_options\u001b[0m\u001b[1;33m,\u001b[0m \u001b[0mis_text\u001b[0m\u001b[1;33m=\u001b[0m\u001b[1;32mFalse\u001b[0m\u001b[1;33m\u001b[0m\u001b[1;33m\u001b[0m\u001b[0m\n\u001b[0;32m    927\u001b[0m             )\n",
      "\u001b[1;32mc:\\Users\\hafid\\AppData\\Local\\Programs\\Python\\Python310\\lib\\site-packages\\pandas\\io\\common.py\u001b[0m in \u001b[0;36mget_handle\u001b[1;34m(path_or_buf, mode, encoding, compression, memory_map, is_text, errors, storage_options)\u001b[0m\n\u001b[0;32m    709\u001b[0m         \u001b[1;32melse\u001b[0m\u001b[1;33m:\u001b[0m\u001b[1;33m\u001b[0m\u001b[1;33m\u001b[0m\u001b[0m\n\u001b[0;32m    710\u001b[0m             \u001b[1;31m# Binary mode\u001b[0m\u001b[1;33m\u001b[0m\u001b[1;33m\u001b[0m\u001b[0m\n\u001b[1;32m--> 711\u001b[1;33m             \u001b[0mhandle\u001b[0m \u001b[1;33m=\u001b[0m \u001b[0mopen\u001b[0m\u001b[1;33m(\u001b[0m\u001b[0mhandle\u001b[0m\u001b[1;33m,\u001b[0m \u001b[0mioargs\u001b[0m\u001b[1;33m.\u001b[0m\u001b[0mmode\u001b[0m\u001b[1;33m)\u001b[0m\u001b[1;33m\u001b[0m\u001b[1;33m\u001b[0m\u001b[0m\n\u001b[0m\u001b[0;32m    712\u001b[0m         \u001b[0mhandles\u001b[0m\u001b[1;33m.\u001b[0m\u001b[0mappend\u001b[0m\u001b[1;33m(\u001b[0m\u001b[0mhandle\u001b[0m\u001b[1;33m)\u001b[0m\u001b[1;33m\u001b[0m\u001b[1;33m\u001b[0m\u001b[0m\n\u001b[0;32m    713\u001b[0m \u001b[1;33m\u001b[0m\u001b[0m\n",
      "\u001b[1;31mPermissionError\u001b[0m: [Errno 13] Permission denied: 'haha.xlsx'"
     ]
    }
   ],
   "source": [
    "gas.to_excel('haha.xlsx')"
   ]
  },
  {
   "cell_type": "code",
   "execution_count": null,
   "metadata": {},
   "outputs": [
    {
     "data": {
      "application/vnd.plotly.v1+json": {
       "config": {
        "plotlyServerURL": "https://plot.ly"
       },
       "data": [
        {
         "name": "Current Data",
         "type": "scatter",
         "x": [
          "2021-03-25T00:00:00",
          "2021-03-26T00:00:00",
          "2021-03-29T00:00:00",
          "2021-03-30T00:00:00",
          "2021-03-31T00:00:00",
          "2021-04-01T00:00:00",
          "2021-04-05T00:00:00",
          "2021-04-06T00:00:00",
          "2021-04-07T00:00:00",
          "2021-04-08T00:00:00",
          "2021-04-09T00:00:00",
          "2021-04-12T00:00:00",
          "2021-04-13T00:00:00",
          "2021-04-14T00:00:00",
          "2021-04-15T00:00:00",
          "2021-04-16T00:00:00",
          "2021-04-19T00:00:00",
          "2021-04-20T00:00:00",
          "2021-04-21T00:00:00",
          "2021-04-22T00:00:00",
          "2021-04-23T00:00:00",
          "2021-04-26T00:00:00",
          "2021-04-27T00:00:00",
          "2021-04-28T00:00:00",
          "2021-04-29T00:00:00",
          "2021-04-30T00:00:00",
          "2021-05-03T00:00:00",
          "2021-05-04T00:00:00",
          "2021-05-05T00:00:00",
          "2021-05-06T00:00:00",
          "2021-05-07T00:00:00",
          "2021-05-10T00:00:00",
          "2021-05-11T00:00:00",
          "2021-05-12T00:00:00",
          "2021-05-13T00:00:00",
          "2021-05-14T00:00:00",
          "2021-05-17T00:00:00",
          "2021-05-18T00:00:00",
          "2021-05-19T00:00:00",
          "2021-05-20T00:00:00",
          "2021-05-21T00:00:00",
          "2021-05-24T00:00:00",
          "2021-05-25T00:00:00",
          "2021-05-26T00:00:00",
          "2021-05-27T00:00:00",
          "2021-05-28T00:00:00",
          "2021-06-01T00:00:00",
          "2021-06-02T00:00:00",
          "2021-06-03T00:00:00",
          "2021-06-04T00:00:00",
          "2021-06-07T00:00:00",
          "2021-06-08T00:00:00",
          "2021-06-09T00:00:00",
          "2021-06-10T00:00:00",
          "2021-06-11T00:00:00",
          "2021-06-14T00:00:00",
          "2021-06-15T00:00:00",
          "2021-06-16T00:00:00",
          "2021-06-17T00:00:00",
          "2021-06-18T00:00:00",
          "2021-06-21T00:00:00",
          "2021-06-22T00:00:00",
          "2021-06-23T00:00:00",
          "2021-06-24T00:00:00",
          "2021-06-25T00:00:00",
          "2021-06-28T00:00:00",
          "2021-06-29T00:00:00",
          "2021-06-30T00:00:00",
          "2021-07-01T00:00:00",
          "2021-07-02T00:00:00",
          "2021-07-06T00:00:00",
          "2021-07-07T00:00:00",
          "2021-07-08T00:00:00",
          "2021-07-09T00:00:00",
          "2021-07-12T00:00:00",
          "2021-07-13T00:00:00",
          "2021-07-14T00:00:00",
          "2021-07-15T00:00:00",
          "2021-07-16T00:00:00",
          "2021-07-19T00:00:00",
          "2021-07-20T00:00:00",
          "2021-07-21T00:00:00",
          "2021-07-22T00:00:00",
          "2021-07-23T00:00:00",
          "2021-07-26T00:00:00",
          "2021-07-27T00:00:00",
          "2021-07-28T00:00:00",
          "2021-07-29T00:00:00",
          "2021-07-30T00:00:00",
          "2021-08-02T00:00:00",
          "2021-08-03T00:00:00",
          "2021-08-04T00:00:00",
          "2021-08-05T00:00:00",
          "2021-08-06T00:00:00",
          "2021-08-09T00:00:00",
          "2021-08-10T00:00:00",
          "2021-08-11T00:00:00",
          "2021-08-12T00:00:00",
          "2021-08-13T00:00:00",
          "2021-08-16T00:00:00",
          "2021-08-17T00:00:00",
          "2021-08-18T00:00:00",
          "2021-08-19T00:00:00",
          "2021-08-20T00:00:00",
          "2021-08-23T00:00:00",
          "2021-08-24T00:00:00",
          "2021-08-25T00:00:00",
          "2021-08-26T00:00:00",
          "2021-08-27T00:00:00",
          "2021-08-30T00:00:00",
          "2021-08-31T00:00:00",
          "2021-09-01T00:00:00",
          "2021-09-02T00:00:00",
          "2021-09-03T00:00:00",
          "2021-09-07T00:00:00",
          "2021-09-08T00:00:00",
          "2021-09-09T00:00:00",
          "2021-09-10T00:00:00",
          "2021-09-13T00:00:00",
          "2021-09-14T00:00:00",
          "2021-09-15T00:00:00",
          "2021-09-16T00:00:00",
          "2021-09-17T00:00:00",
          "2021-09-20T00:00:00",
          "2021-09-21T00:00:00",
          "2021-09-22T00:00:00",
          "2021-09-23T00:00:00",
          "2021-09-24T00:00:00",
          "2021-09-27T00:00:00",
          "2021-09-28T00:00:00",
          "2021-09-29T00:00:00",
          "2021-09-30T00:00:00",
          "2021-10-01T00:00:00",
          "2021-10-04T00:00:00",
          "2021-10-05T00:00:00",
          "2021-10-06T00:00:00",
          "2021-10-07T00:00:00",
          "2021-10-08T00:00:00",
          "2021-10-11T00:00:00",
          "2021-10-12T00:00:00",
          "2021-10-13T00:00:00",
          "2021-10-14T00:00:00",
          "2021-10-15T00:00:00",
          "2021-10-18T00:00:00",
          "2021-10-19T00:00:00",
          "2021-10-20T00:00:00",
          "2021-10-21T00:00:00",
          "2021-10-22T00:00:00",
          "2021-10-25T00:00:00",
          "2021-10-26T00:00:00",
          "2021-10-27T00:00:00",
          "2021-10-28T00:00:00",
          "2021-10-29T00:00:00",
          "2021-11-01T00:00:00",
          "2021-11-02T00:00:00",
          "2021-11-03T00:00:00",
          "2021-11-04T00:00:00",
          "2021-11-05T00:00:00",
          "2021-11-08T00:00:00",
          "2021-11-09T00:00:00",
          "2021-11-10T00:00:00",
          "2021-11-11T00:00:00",
          "2021-11-12T00:00:00",
          "2021-11-15T00:00:00",
          "2021-11-16T00:00:00",
          "2021-11-17T00:00:00",
          "2021-11-18T00:00:00",
          "2021-11-19T00:00:00",
          "2021-11-22T00:00:00",
          "2021-11-23T00:00:00",
          "2021-11-24T00:00:00",
          "2021-11-26T00:00:00",
          "2021-11-29T00:00:00",
          "2021-11-30T00:00:00",
          "2021-12-01T00:00:00",
          "2021-12-02T00:00:00",
          "2021-12-03T00:00:00",
          "2021-12-06T00:00:00",
          "2021-12-07T00:00:00",
          "2021-12-08T00:00:00",
          "2021-12-09T00:00:00",
          "2021-12-10T00:00:00",
          "2021-12-13T00:00:00",
          "2021-12-14T00:00:00",
          "2021-12-15T00:00:00",
          "2021-12-16T00:00:00",
          "2021-12-17T00:00:00",
          "2021-12-20T00:00:00",
          "2021-12-21T00:00:00",
          "2021-12-22T00:00:00",
          "2021-12-23T00:00:00",
          "2021-12-27T00:00:00",
          "2021-12-28T00:00:00",
          "2021-12-29T00:00:00",
          "2021-12-30T00:00:00",
          "2021-12-31T00:00:00",
          "2022-01-03T00:00:00",
          "2022-01-04T00:00:00",
          "2022-01-05T00:00:00",
          "2022-01-06T00:00:00",
          "2022-01-07T00:00:00"
         ],
         "y": [
          232.33999633789062,
          236.47999572753906,
          235.24000549316406,
          231.85000610351562,
          235.77000427246094,
          242.35000610351562,
          249.07000732421875,
          247.86000061035156,
          249.89999389648438,
          253.25,
          255.85000610351562,
          255.91000366210938,
          258.489990234375,
          255.58999633789062,
          259.5,
          260.739990234375,
          258.739990234375,
          258.260009765625,
          260.5799865722656,
          257.1700134277344,
          261.1499938964844,
          261.54998779296875,
          261.9700012207031,
          254.55999755859375,
          252.50999450683594,
          252.17999267578125,
          251.86000061035156,
          247.7899932861328,
          246.47000122070312,
          249.72999572753906,
          252.4600067138672,
          247.17999267578125,
          246.22999572753906,
          239,
          243.02999877929688,
          248.14999389648438,
          245.17999267578125,
          243.0800018310547,
          243.1199951171875,
          246.47999572753906,
          245.1699981689453,
          250.77999877929688,
          251.72000122070312,
          251.49000549316406,
          249.30999755859375,
          249.67999267578125,
          247.39999389648438,
          247.3000030517578,
          245.7100067138672,
          250.7899932861328,
          253.80999755859375,
          252.57000732421875,
          253.58999633789062,
          257.239990234375,
          257.8900146484375,
          259.8900146484375,
          258.3599853515625,
          257.3800048828125,
          260.8999938964844,
          259.42999267578125,
          262.6300048828125,
          265.510009765625,
          265.2699890136719,
          266.69000244140625,
          265.0199890136719,
          268.7200012207031,
          271.3999938964844,
          270.8999938964844,
          271.6000061035156,
          277.6499938964844,
          277.6600036621094,
          279.92999267578125,
          277.4200134277344,
          277.94000244140625,
          277.32000732421875,
          280.9800109863281,
          282.510009765625,
          281.0299987792969,
          280.75,
          277.010009765625,
          279.32000732421875,
          281.3999938964844,
          286.1400146484375,
          289.6700134277344,
          289.04998779296875,
          286.5400085449219,
          286.2200012207031,
          286.5,
          284.9100036621094,
          284.82000732421875,
          287.1199951171875,
          286.510009765625,
          289.5199890136719,
          289.4599914550781,
          288.3299865722656,
          286.44000244140625,
          286.95001220703125,
          289.80999755859375,
          292.8500061035156,
          294.6000061035156,
          293.0799865722656,
          290.7300109863281,
          296.7699890136719,
          304.3599853515625,
          304.6499938964844,
          302.6199951171875,
          302.010009765625,
          299.0899963378906,
          299.7200012207031,
          303.5899963378906,
          301.8800048828125,
          301.8299865722656,
          301.1499938964844,
          301.1400146484375,
          300.17999267578125,
          300.2099914550781,
          297.25,
          295.7099914550781,
          296.989990234375,
          299.7900085449219,
          304.82000732421875,
          305.2200012207031,
          299.8699951171875,
          294.29998779296875,
          294.79998779296875,
          298.5799865722656,
          299.55999755859375,
          299.3500061035156,
          294.1700134277344,
          283.5199890136719,
          284,
          281.9200134277344,
          289.1000061035156,
          283.1099853515625,
          288.760009765625,
          293.1099853515625,
          294.8500061035156,
          294.8500061035156,
          294.2300109863281,
          292.8800048828125,
          296.30999755859375,
          302.75,
          304.2099914550781,
          307.2900085449219,
          308.2300109863281,
          307.4100036621094,
          310.760009765625,
          309.1600036621094,
          308.1300048828125,
          310.1099853515625,
          323.1700134277344,
          324.3500061035156,
          331.6199951171875,
          329.3699951171875,
          333.1300048828125,
          334,
          336.44000244140625,
          336.05999755859375,
          336.989990234375,
          335.95001220703125,
          330.79998779296875,
          332.42999267578125,
          336.7200012207031,
          336.07000732421875,
          339.510009765625,
          339.1199951171875,
          341.2699890136719,
          343.1099853515625,
          339.8299865722656,
          337.67999267578125,
          337.9100036621094,
          329.67999267578125,
          336.6300048828125,
          330.5899963378906,
          330.0799865722656,
          329.489990234375,
          323.010009765625,
          326.19000244140625,
          334.9200134277344,
          334.9700012207031,
          333.1000061035156,
          342.5400085449219,
          339.3999938964844,
          328.3399963378906,
          334.6499938964844,
          324.8999938964844,
          323.79998779296875,
          319.9100036621094,
          327.2900085449219,
          333.20001220703125,
          334.69000244140625,
          342.45001220703125,
          341.25,
          341.95001220703125,
          339.32000732421875,
          336.32000732421875,
          334.75,
          329.010009765625,
          316.3800048828125,
          313.8800048828125,
          314.0400085449219
         ]
        },
        {
         "name": "Forecast Data",
         "type": "scatter",
         "x": [
          "2022-01-10T00:00:00",
          "2022-01-11T00:00:00",
          "2022-01-12T00:00:00",
          "2022-01-13T00:00:00",
          "2022-01-14T00:00:00",
          "2022-01-18T00:00:00",
          "2022-01-19T00:00:00",
          "2022-01-20T00:00:00",
          "2022-01-21T00:00:00",
          "2022-01-24T00:00:00",
          "2022-01-25T00:00:00",
          "2022-01-26T00:00:00",
          "2022-01-27T00:00:00",
          "2022-01-28T00:00:00",
          "2022-01-31T00:00:00",
          "2022-02-01T00:00:00",
          "2022-02-02T00:00:00",
          "2022-02-03T00:00:00",
          "2022-02-04T00:00:00",
          "2022-02-07T00:00:00",
          "2022-02-08T00:00:00",
          "2022-02-09T00:00:00",
          "2022-02-10T00:00:00",
          "2022-02-11T00:00:00",
          "2022-02-14T00:00:00"
         ],
         "y": [
          314.2699890136719,
          314.9800109863281,
          318.2699890136719,
          304.79998779296875,
          310.20001220703125,
          302.6499938964844,
          303.3299865722656,
          301.6000061035156,
          296.0299987792969,
          296.3699951171875,
          288.489990234375,
          296.7099914550781,
          299.8399963378906,
          308.260009765625,
          310.9800109863281,
          308.760009765625,
          313.4599914550781,
          301.25,
          305.94000244140625,
          300.95001220703125,
          304.55999755859375,
          311.2099914550781,
          302.3800048828125,
          295.0400085449219,
          295
         ]
        }
       ],
       "layout": {
        "template": {
         "data": {
          "bar": [
           {
            "error_x": {
             "color": "#2a3f5f"
            },
            "error_y": {
             "color": "#2a3f5f"
            },
            "marker": {
             "line": {
              "color": "#E5ECF6",
              "width": 0.5
             },
             "pattern": {
              "fillmode": "overlay",
              "size": 10,
              "solidity": 0.2
             }
            },
            "type": "bar"
           }
          ],
          "barpolar": [
           {
            "marker": {
             "line": {
              "color": "#E5ECF6",
              "width": 0.5
             },
             "pattern": {
              "fillmode": "overlay",
              "size": 10,
              "solidity": 0.2
             }
            },
            "type": "barpolar"
           }
          ],
          "carpet": [
           {
            "aaxis": {
             "endlinecolor": "#2a3f5f",
             "gridcolor": "white",
             "linecolor": "white",
             "minorgridcolor": "white",
             "startlinecolor": "#2a3f5f"
            },
            "baxis": {
             "endlinecolor": "#2a3f5f",
             "gridcolor": "white",
             "linecolor": "white",
             "minorgridcolor": "white",
             "startlinecolor": "#2a3f5f"
            },
            "type": "carpet"
           }
          ],
          "choropleth": [
           {
            "colorbar": {
             "outlinewidth": 0,
             "ticks": ""
            },
            "type": "choropleth"
           }
          ],
          "contour": [
           {
            "colorbar": {
             "outlinewidth": 0,
             "ticks": ""
            },
            "colorscale": [
             [
              0,
              "#0d0887"
             ],
             [
              0.1111111111111111,
              "#46039f"
             ],
             [
              0.2222222222222222,
              "#7201a8"
             ],
             [
              0.3333333333333333,
              "#9c179e"
             ],
             [
              0.4444444444444444,
              "#bd3786"
             ],
             [
              0.5555555555555556,
              "#d8576b"
             ],
             [
              0.6666666666666666,
              "#ed7953"
             ],
             [
              0.7777777777777778,
              "#fb9f3a"
             ],
             [
              0.8888888888888888,
              "#fdca26"
             ],
             [
              1,
              "#f0f921"
             ]
            ],
            "type": "contour"
           }
          ],
          "contourcarpet": [
           {
            "colorbar": {
             "outlinewidth": 0,
             "ticks": ""
            },
            "type": "contourcarpet"
           }
          ],
          "heatmap": [
           {
            "colorbar": {
             "outlinewidth": 0,
             "ticks": ""
            },
            "colorscale": [
             [
              0,
              "#0d0887"
             ],
             [
              0.1111111111111111,
              "#46039f"
             ],
             [
              0.2222222222222222,
              "#7201a8"
             ],
             [
              0.3333333333333333,
              "#9c179e"
             ],
             [
              0.4444444444444444,
              "#bd3786"
             ],
             [
              0.5555555555555556,
              "#d8576b"
             ],
             [
              0.6666666666666666,
              "#ed7953"
             ],
             [
              0.7777777777777778,
              "#fb9f3a"
             ],
             [
              0.8888888888888888,
              "#fdca26"
             ],
             [
              1,
              "#f0f921"
             ]
            ],
            "type": "heatmap"
           }
          ],
          "heatmapgl": [
           {
            "colorbar": {
             "outlinewidth": 0,
             "ticks": ""
            },
            "colorscale": [
             [
              0,
              "#0d0887"
             ],
             [
              0.1111111111111111,
              "#46039f"
             ],
             [
              0.2222222222222222,
              "#7201a8"
             ],
             [
              0.3333333333333333,
              "#9c179e"
             ],
             [
              0.4444444444444444,
              "#bd3786"
             ],
             [
              0.5555555555555556,
              "#d8576b"
             ],
             [
              0.6666666666666666,
              "#ed7953"
             ],
             [
              0.7777777777777778,
              "#fb9f3a"
             ],
             [
              0.8888888888888888,
              "#fdca26"
             ],
             [
              1,
              "#f0f921"
             ]
            ],
            "type": "heatmapgl"
           }
          ],
          "histogram": [
           {
            "marker": {
             "pattern": {
              "fillmode": "overlay",
              "size": 10,
              "solidity": 0.2
             }
            },
            "type": "histogram"
           }
          ],
          "histogram2d": [
           {
            "colorbar": {
             "outlinewidth": 0,
             "ticks": ""
            },
            "colorscale": [
             [
              0,
              "#0d0887"
             ],
             [
              0.1111111111111111,
              "#46039f"
             ],
             [
              0.2222222222222222,
              "#7201a8"
             ],
             [
              0.3333333333333333,
              "#9c179e"
             ],
             [
              0.4444444444444444,
              "#bd3786"
             ],
             [
              0.5555555555555556,
              "#d8576b"
             ],
             [
              0.6666666666666666,
              "#ed7953"
             ],
             [
              0.7777777777777778,
              "#fb9f3a"
             ],
             [
              0.8888888888888888,
              "#fdca26"
             ],
             [
              1,
              "#f0f921"
             ]
            ],
            "type": "histogram2d"
           }
          ],
          "histogram2dcontour": [
           {
            "colorbar": {
             "outlinewidth": 0,
             "ticks": ""
            },
            "colorscale": [
             [
              0,
              "#0d0887"
             ],
             [
              0.1111111111111111,
              "#46039f"
             ],
             [
              0.2222222222222222,
              "#7201a8"
             ],
             [
              0.3333333333333333,
              "#9c179e"
             ],
             [
              0.4444444444444444,
              "#bd3786"
             ],
             [
              0.5555555555555556,
              "#d8576b"
             ],
             [
              0.6666666666666666,
              "#ed7953"
             ],
             [
              0.7777777777777778,
              "#fb9f3a"
             ],
             [
              0.8888888888888888,
              "#fdca26"
             ],
             [
              1,
              "#f0f921"
             ]
            ],
            "type": "histogram2dcontour"
           }
          ],
          "mesh3d": [
           {
            "colorbar": {
             "outlinewidth": 0,
             "ticks": ""
            },
            "type": "mesh3d"
           }
          ],
          "parcoords": [
           {
            "line": {
             "colorbar": {
              "outlinewidth": 0,
              "ticks": ""
             }
            },
            "type": "parcoords"
           }
          ],
          "pie": [
           {
            "automargin": true,
            "type": "pie"
           }
          ],
          "scatter": [
           {
            "fillpattern": {
             "fillmode": "overlay",
             "size": 10,
             "solidity": 0.2
            },
            "type": "scatter"
           }
          ],
          "scatter3d": [
           {
            "line": {
             "colorbar": {
              "outlinewidth": 0,
              "ticks": ""
             }
            },
            "marker": {
             "colorbar": {
              "outlinewidth": 0,
              "ticks": ""
             }
            },
            "type": "scatter3d"
           }
          ],
          "scattercarpet": [
           {
            "marker": {
             "colorbar": {
              "outlinewidth": 0,
              "ticks": ""
             }
            },
            "type": "scattercarpet"
           }
          ],
          "scattergeo": [
           {
            "marker": {
             "colorbar": {
              "outlinewidth": 0,
              "ticks": ""
             }
            },
            "type": "scattergeo"
           }
          ],
          "scattergl": [
           {
            "marker": {
             "colorbar": {
              "outlinewidth": 0,
              "ticks": ""
             }
            },
            "type": "scattergl"
           }
          ],
          "scattermapbox": [
           {
            "marker": {
             "colorbar": {
              "outlinewidth": 0,
              "ticks": ""
             }
            },
            "type": "scattermapbox"
           }
          ],
          "scatterpolar": [
           {
            "marker": {
             "colorbar": {
              "outlinewidth": 0,
              "ticks": ""
             }
            },
            "type": "scatterpolar"
           }
          ],
          "scatterpolargl": [
           {
            "marker": {
             "colorbar": {
              "outlinewidth": 0,
              "ticks": ""
             }
            },
            "type": "scatterpolargl"
           }
          ],
          "scatterternary": [
           {
            "marker": {
             "colorbar": {
              "outlinewidth": 0,
              "ticks": ""
             }
            },
            "type": "scatterternary"
           }
          ],
          "surface": [
           {
            "colorbar": {
             "outlinewidth": 0,
             "ticks": ""
            },
            "colorscale": [
             [
              0,
              "#0d0887"
             ],
             [
              0.1111111111111111,
              "#46039f"
             ],
             [
              0.2222222222222222,
              "#7201a8"
             ],
             [
              0.3333333333333333,
              "#9c179e"
             ],
             [
              0.4444444444444444,
              "#bd3786"
             ],
             [
              0.5555555555555556,
              "#d8576b"
             ],
             [
              0.6666666666666666,
              "#ed7953"
             ],
             [
              0.7777777777777778,
              "#fb9f3a"
             ],
             [
              0.8888888888888888,
              "#fdca26"
             ],
             [
              1,
              "#f0f921"
             ]
            ],
            "type": "surface"
           }
          ],
          "table": [
           {
            "cells": {
             "fill": {
              "color": "#EBF0F8"
             },
             "line": {
              "color": "white"
             }
            },
            "header": {
             "fill": {
              "color": "#C8D4E3"
             },
             "line": {
              "color": "white"
             }
            },
            "type": "table"
           }
          ]
         },
         "layout": {
          "annotationdefaults": {
           "arrowcolor": "#2a3f5f",
           "arrowhead": 0,
           "arrowwidth": 1
          },
          "autotypenumbers": "strict",
          "coloraxis": {
           "colorbar": {
            "outlinewidth": 0,
            "ticks": ""
           }
          },
          "colorscale": {
           "diverging": [
            [
             0,
             "#8e0152"
            ],
            [
             0.1,
             "#c51b7d"
            ],
            [
             0.2,
             "#de77ae"
            ],
            [
             0.3,
             "#f1b6da"
            ],
            [
             0.4,
             "#fde0ef"
            ],
            [
             0.5,
             "#f7f7f7"
            ],
            [
             0.6,
             "#e6f5d0"
            ],
            [
             0.7,
             "#b8e186"
            ],
            [
             0.8,
             "#7fbc41"
            ],
            [
             0.9,
             "#4d9221"
            ],
            [
             1,
             "#276419"
            ]
           ],
           "sequential": [
            [
             0,
             "#0d0887"
            ],
            [
             0.1111111111111111,
             "#46039f"
            ],
            [
             0.2222222222222222,
             "#7201a8"
            ],
            [
             0.3333333333333333,
             "#9c179e"
            ],
            [
             0.4444444444444444,
             "#bd3786"
            ],
            [
             0.5555555555555556,
             "#d8576b"
            ],
            [
             0.6666666666666666,
             "#ed7953"
            ],
            [
             0.7777777777777778,
             "#fb9f3a"
            ],
            [
             0.8888888888888888,
             "#fdca26"
            ],
            [
             1,
             "#f0f921"
            ]
           ],
           "sequentialminus": [
            [
             0,
             "#0d0887"
            ],
            [
             0.1111111111111111,
             "#46039f"
            ],
            [
             0.2222222222222222,
             "#7201a8"
            ],
            [
             0.3333333333333333,
             "#9c179e"
            ],
            [
             0.4444444444444444,
             "#bd3786"
            ],
            [
             0.5555555555555556,
             "#d8576b"
            ],
            [
             0.6666666666666666,
             "#ed7953"
            ],
            [
             0.7777777777777778,
             "#fb9f3a"
            ],
            [
             0.8888888888888888,
             "#fdca26"
            ],
            [
             1,
             "#f0f921"
            ]
           ]
          },
          "colorway": [
           "#636efa",
           "#EF553B",
           "#00cc96",
           "#ab63fa",
           "#FFA15A",
           "#19d3f3",
           "#FF6692",
           "#B6E880",
           "#FF97FF",
           "#FECB52"
          ],
          "font": {
           "color": "#2a3f5f"
          },
          "geo": {
           "bgcolor": "white",
           "lakecolor": "white",
           "landcolor": "#E5ECF6",
           "showlakes": true,
           "showland": true,
           "subunitcolor": "white"
          },
          "hoverlabel": {
           "align": "left"
          },
          "hovermode": "closest",
          "mapbox": {
           "style": "light"
          },
          "paper_bgcolor": "white",
          "plot_bgcolor": "#E5ECF6",
          "polar": {
           "angularaxis": {
            "gridcolor": "white",
            "linecolor": "white",
            "ticks": ""
           },
           "bgcolor": "#E5ECF6",
           "radialaxis": {
            "gridcolor": "white",
            "linecolor": "white",
            "ticks": ""
           }
          },
          "scene": {
           "xaxis": {
            "backgroundcolor": "#E5ECF6",
            "gridcolor": "white",
            "gridwidth": 2,
            "linecolor": "white",
            "showbackground": true,
            "ticks": "",
            "zerolinecolor": "white"
           },
           "yaxis": {
            "backgroundcolor": "#E5ECF6",
            "gridcolor": "white",
            "gridwidth": 2,
            "linecolor": "white",
            "showbackground": true,
            "ticks": "",
            "zerolinecolor": "white"
           },
           "zaxis": {
            "backgroundcolor": "#E5ECF6",
            "gridcolor": "white",
            "gridwidth": 2,
            "linecolor": "white",
            "showbackground": true,
            "ticks": "",
            "zerolinecolor": "white"
           }
          },
          "shapedefaults": {
           "line": {
            "color": "#2a3f5f"
           }
          },
          "ternary": {
           "aaxis": {
            "gridcolor": "white",
            "linecolor": "white",
            "ticks": ""
           },
           "baxis": {
            "gridcolor": "white",
            "linecolor": "white",
            "ticks": ""
           },
           "bgcolor": "#E5ECF6",
           "caxis": {
            "gridcolor": "white",
            "linecolor": "white",
            "ticks": ""
           }
          },
          "title": {
           "x": 0.05
          },
          "xaxis": {
           "automargin": true,
           "gridcolor": "white",
           "linecolor": "white",
           "ticks": "",
           "title": {
            "standoff": 15
           },
           "zerolinecolor": "white",
           "zerolinewidth": 2
          },
          "yaxis": {
           "automargin": true,
           "gridcolor": "white",
           "linecolor": "white",
           "ticks": "",
           "title": {
            "standoff": 15
           },
           "zerolinecolor": "white",
           "zerolinewidth": 2
          }
         }
        },
        "title": {
         "text": "Forecasting ITSG"
        },
        "xaxis": {
         "title": {
          "text": "Date"
         }
        },
        "yaxis": {
         "title": {
          "text": "Pendaan(Rp)"
         }
        }
       }
      }
     },
     "metadata": {},
     "output_type": "display_data"
    }
   ],
   "source": [
    "import plotly.graph_objects as go\n",
    "\n",
    "x1 = dates_train\n",
    "y1 = y_train\n",
    "x2 = dates_val\n",
    "y2 = y_val\n",
    "x3 = dates_test\n",
    "y3 = y_test\n",
    "\n",
    "f1 = go.Figure(\n",
    "    data=[\n",
    "        go.Scatter(x=x1, y=y1, name=\"Current Data\"),\n",
    "        go.Scatter(x=x2, y=y2, name=\"Forecast Data\"),\n",
    "        # go.Scatter(x=x3, y=y3, name=\"third\"),\n",
    "    ],\n",
    "    layout={\"xaxis\": {\"title\": \"Date\"}, \"yaxis\": {\n",
    "        \"title\": \"Pendaan(Rp)\"}, \"title\": \"Forecasting ITSG\"}\n",
    ")\n",
    "f1\n"
   ]
  },
  {
   "cell_type": "code",
   "execution_count": null,
   "metadata": {},
   "outputs": [
    {
     "name": "stdout",
     "output_type": "stream",
     "text": [
      "Epoch 1/100\n",
      "7/7 [==============================] - 3s 106ms/step - loss: 84959.2812 - mean_absolute_error: 289.7384 - val_loss: 92618.3203 - val_mean_absolute_error: 304.2455\n",
      "Epoch 2/100\n",
      "7/7 [==============================] - 0s 8ms/step - loss: 84641.1875 - mean_absolute_error: 289.1889 - val_loss: 92284.3828 - val_mean_absolute_error: 303.6963\n",
      "Epoch 3/100\n",
      "7/7 [==============================] - 0s 9ms/step - loss: 84336.8125 - mean_absolute_error: 288.6630 - val_loss: 91993.0234 - val_mean_absolute_error: 303.2162\n",
      "Epoch 4/100\n",
      "7/7 [==============================] - 0s 9ms/step - loss: 84050.2578 - mean_absolute_error: 288.1659 - val_loss: 91643.6875 - val_mean_absolute_error: 302.6396\n",
      "Epoch 5/100\n",
      "7/7 [==============================] - 0s 14ms/step - loss: 83684.0234 - mean_absolute_error: 287.5311 - val_loss: 91211.6562 - val_mean_absolute_error: 301.9250\n",
      "Epoch 6/100\n",
      "7/7 [==============================] - 0s 17ms/step - loss: 83260.9141 - mean_absolute_error: 286.7927 - val_loss: 90739.1406 - val_mean_absolute_error: 301.1415\n",
      "Epoch 7/100\n",
      "7/7 [==============================] - 0s 14ms/step - loss: 82763.0312 - mean_absolute_error: 285.9235 - val_loss: 90099.3672 - val_mean_absolute_error: 300.0773\n",
      "Epoch 8/100\n",
      "7/7 [==============================] - 0s 15ms/step - loss: 82054.4453 - mean_absolute_error: 284.6798 - val_loss: 89142.9062 - val_mean_absolute_error: 298.4793\n",
      "Epoch 9/100\n",
      "7/7 [==============================] - 0s 15ms/step - loss: 81013.9531 - mean_absolute_error: 282.8542 - val_loss: 87943.6875 - val_mean_absolute_error: 296.4637\n",
      "Epoch 10/100\n",
      "7/7 [==============================] - 0s 10ms/step - loss: 79860.4609 - mean_absolute_error: 280.8009 - val_loss: 86590.5469 - val_mean_absolute_error: 294.1727\n",
      "Epoch 11/100\n",
      "7/7 [==============================] - 0s 10ms/step - loss: 78457.6328 - mean_absolute_error: 278.2876 - val_loss: 84921.1406 - val_mean_absolute_error: 291.3214\n",
      "Epoch 12/100\n",
      "7/7 [==============================] - 0s 8ms/step - loss: 76718.3594 - mean_absolute_error: 275.1567 - val_loss: 82762.3984 - val_mean_absolute_error: 287.5923\n",
      "Epoch 13/100\n",
      "7/7 [==============================] - 0s 10ms/step - loss: 74448.3125 - mean_absolute_error: 271.0015 - val_loss: 80122.8281 - val_mean_absolute_error: 282.9662\n",
      "Epoch 14/100\n",
      "7/7 [==============================] - 0s 12ms/step - loss: 71878.2188 - mean_absolute_error: 266.2086 - val_loss: 77174.6172 - val_mean_absolute_error: 277.7079\n",
      "Epoch 15/100\n",
      "7/7 [==============================] - 0s 9ms/step - loss: 68972.6406 - mean_absolute_error: 260.6827 - val_loss: 73875.7734 - val_mean_absolute_error: 271.7035\n",
      "Epoch 16/100\n",
      "7/7 [==============================] - 0s 8ms/step - loss: 65676.7656 - mean_absolute_error: 254.2747 - val_loss: 70149.6094 - val_mean_absolute_error: 264.7577\n",
      "Epoch 17/100\n",
      "7/7 [==============================] - 0s 9ms/step - loss: 62034.0039 - mean_absolute_error: 247.0582 - val_loss: 66101.2812 - val_mean_absolute_error: 256.9986\n",
      "Epoch 18/100\n",
      "7/7 [==============================] - 0s 9ms/step - loss: 58030.3203 - mean_absolute_error: 238.7826 - val_loss: 61462.7266 - val_mean_absolute_error: 247.8098\n",
      "Epoch 19/100\n",
      "7/7 [==============================] - 0s 9ms/step - loss: 53392.0039 - mean_absolute_error: 228.8741 - val_loss: 55742.7695 - val_mean_absolute_error: 235.9864\n",
      "Epoch 20/100\n",
      "7/7 [==============================] - 0s 9ms/step - loss: 47774.3789 - mean_absolute_error: 216.1551 - val_loss: 49840.6719 - val_mean_absolute_error: 223.1314\n",
      "Epoch 21/100\n",
      "7/7 [==============================] - 0s 9ms/step - loss: 42246.2344 - mean_absolute_error: 203.0491 - val_loss: 43858.8086 - val_mean_absolute_error: 209.2984\n",
      "Epoch 22/100\n",
      "7/7 [==============================] - 0s 9ms/step - loss: 36664.6602 - mean_absolute_error: 188.8624 - val_loss: 37593.3906 - val_mean_absolute_error: 193.7528\n",
      "Epoch 23/100\n",
      "7/7 [==============================] - 0s 9ms/step - loss: 30638.7559 - mean_absolute_error: 172.0378 - val_loss: 30929.4629 - val_mean_absolute_error: 175.7170\n",
      "Epoch 24/100\n",
      "7/7 [==============================] - 0s 8ms/step - loss: 24893.3262 - mean_absolute_error: 154.4499 - val_loss: 25227.9395 - val_mean_absolute_error: 158.6662\n",
      "Epoch 25/100\n",
      "7/7 [==============================] - 0s 8ms/step - loss: 19864.3965 - mean_absolute_error: 137.1472 - val_loss: 19929.3828 - val_mean_absolute_error: 140.9837\n",
      "Epoch 26/100\n",
      "7/7 [==============================] - 0s 8ms/step - loss: 15266.5820 - mean_absolute_error: 119.3669 - val_loss: 15200.9199 - val_mean_absolute_error: 123.0770\n",
      "Epoch 27/100\n",
      "7/7 [==============================] - 0s 8ms/step - loss: 11313.4668 - mean_absolute_error: 101.4597 - val_loss: 11134.1396 - val_mean_absolute_error: 105.2672\n",
      "Epoch 28/100\n",
      "7/7 [==============================] - 0s 9ms/step - loss: 8054.7686 - mean_absolute_error: 83.8279 - val_loss: 7803.0996 - val_mean_absolute_error: 88.0348\n",
      "Epoch 29/100\n",
      "7/7 [==============================] - 0s 9ms/step - loss: 5505.2207 - mean_absolute_error: 66.9337 - val_loss: 5215.7876 - val_mean_absolute_error: 71.8528\n",
      "Epoch 30/100\n",
      "7/7 [==============================] - 0s 9ms/step - loss: 3647.3940 - mean_absolute_error: 51.5218 - val_loss: 3329.2769 - val_mean_absolute_error: 57.2391\n",
      "Epoch 31/100\n",
      "7/7 [==============================] - 0s 8ms/step - loss: 2423.3540 - mean_absolute_error: 39.6700 - val_loss: 2031.5214 - val_mean_absolute_error: 44.4784\n",
      "Epoch 32/100\n",
      "7/7 [==============================] - 0s 8ms/step - loss: 1634.0006 - mean_absolute_error: 33.0092 - val_loss: 1151.5264 - val_mean_absolute_error: 33.1445\n",
      "Epoch 33/100\n",
      "7/7 [==============================] - 0s 9ms/step - loss: 1238.4550 - mean_absolute_error: 29.5302 - val_loss: 695.9058 - val_mean_absolute_error: 25.3563\n",
      "Epoch 34/100\n",
      "7/7 [==============================] - 0s 8ms/step - loss: 1080.2257 - mean_absolute_error: 27.7688 - val_loss: 445.3821 - val_mean_absolute_error: 19.8095\n",
      "Epoch 35/100\n",
      "7/7 [==============================] - 0s 9ms/step - loss: 1021.8154 - mean_absolute_error: 27.0149 - val_loss: 321.4781 - val_mean_absolute_error: 16.3864\n",
      "Epoch 36/100\n",
      "7/7 [==============================] - 0s 8ms/step - loss: 1012.5319 - mean_absolute_error: 26.9012 - val_loss: 255.0441 - val_mean_absolute_error: 14.3360\n",
      "Epoch 37/100\n",
      "7/7 [==============================] - 0s 8ms/step - loss: 1011.1846 - mean_absolute_error: 26.8820 - val_loss: 224.8406 - val_mean_absolute_error: 13.3191\n",
      "Epoch 38/100\n",
      "7/7 [==============================] - 0s 8ms/step - loss: 1014.0185 - mean_absolute_error: 26.9239 - val_loss: 215.3533 - val_mean_absolute_error: 12.9815\n",
      "Epoch 39/100\n",
      "7/7 [==============================] - 0s 8ms/step - loss: 1013.8026 - mean_absolute_error: 26.9202 - val_loss: 222.3932 - val_mean_absolute_error: 13.2330\n",
      "Epoch 40/100\n",
      "7/7 [==============================] - 0s 11ms/step - loss: 1012.3469 - mean_absolute_error: 26.9066 - val_loss: 232.7147 - val_mean_absolute_error: 13.5923\n",
      "Epoch 41/100\n",
      "7/7 [==============================] - 0s 8ms/step - loss: 1010.7520 - mean_absolute_error: 26.8808 - val_loss: 256.5406 - val_mean_absolute_error: 14.3844\n",
      "Epoch 42/100\n",
      "7/7 [==============================] - 0s 9ms/step - loss: 1009.8579 - mean_absolute_error: 26.8624 - val_loss: 266.7662 - val_mean_absolute_error: 14.7100\n",
      "Epoch 43/100\n",
      "7/7 [==============================] - 0s 9ms/step - loss: 1010.0463 - mean_absolute_error: 26.8551 - val_loss: 271.5782 - val_mean_absolute_error: 14.8606\n",
      "Epoch 44/100\n",
      "7/7 [==============================] - 0s 11ms/step - loss: 1010.0551 - mean_absolute_error: 26.8575 - val_loss: 272.2540 - val_mean_absolute_error: 14.8816\n",
      "Epoch 45/100\n",
      "7/7 [==============================] - 0s 9ms/step - loss: 1010.3068 - mean_absolute_error: 26.8667 - val_loss: 263.9782 - val_mean_absolute_error: 14.6220\n",
      "Epoch 46/100\n",
      "7/7 [==============================] - 0s 9ms/step - loss: 1010.1257 - mean_absolute_error: 26.8616 - val_loss: 262.9160 - val_mean_absolute_error: 14.5883\n",
      "Epoch 47/100\n",
      "7/7 [==============================] - 0s 9ms/step - loss: 1010.1945 - mean_absolute_error: 26.8598 - val_loss: 259.2370 - val_mean_absolute_error: 14.4710\n",
      "Epoch 48/100\n",
      "7/7 [==============================] - 0s 8ms/step - loss: 1011.1028 - mean_absolute_error: 26.8769 - val_loss: 272.0169 - val_mean_absolute_error: 14.8742\n",
      "Epoch 49/100\n",
      "7/7 [==============================] - 0s 8ms/step - loss: 1009.9747 - mean_absolute_error: 26.8567 - val_loss: 270.4288 - val_mean_absolute_error: 14.8248\n",
      "Epoch 50/100\n",
      "7/7 [==============================] - 0s 11ms/step - loss: 1010.3344 - mean_absolute_error: 26.8638 - val_loss: 285.5393 - val_mean_absolute_error: 15.2882\n",
      "Epoch 51/100\n",
      "7/7 [==============================] - 0s 9ms/step - loss: 1008.5994 - mean_absolute_error: 26.8392 - val_loss: 292.5193 - val_mean_absolute_error: 15.5025\n",
      "Epoch 52/100\n",
      "7/7 [==============================] - 0s 8ms/step - loss: 986.3250 - mean_absolute_error: 26.3893 - val_loss: 421.9069 - val_mean_absolute_error: 19.2545\n",
      "Epoch 53/100\n",
      "7/7 [==============================] - 0s 8ms/step - loss: 967.2899 - mean_absolute_error: 26.3316 - val_loss: 315.8194 - val_mean_absolute_error: 16.2502\n",
      "Epoch 54/100\n",
      "7/7 [==============================] - 0s 8ms/step - loss: 1013.8334 - mean_absolute_error: 26.8279 - val_loss: 299.0802 - val_mean_absolute_error: 15.7646\n",
      "Epoch 55/100\n",
      "7/7 [==============================] - 0s 7ms/step - loss: 927.2444 - mean_absolute_error: 25.6842 - val_loss: 334.2292 - val_mean_absolute_error: 16.8802\n",
      "Epoch 56/100\n",
      "7/7 [==============================] - 0s 7ms/step - loss: 892.9664 - mean_absolute_error: 25.2285 - val_loss: 333.4496 - val_mean_absolute_error: 16.8799\n",
      "Epoch 57/100\n",
      "7/7 [==============================] - 0s 8ms/step - loss: 872.8107 - mean_absolute_error: 24.9308 - val_loss: 287.4545 - val_mean_absolute_error: 15.4690\n",
      "Epoch 58/100\n",
      "7/7 [==============================] - 0s 8ms/step - loss: 855.6681 - mean_absolute_error: 24.6882 - val_loss: 375.5327 - val_mean_absolute_error: 18.1253\n",
      "Epoch 59/100\n",
      "7/7 [==============================] - 0s 7ms/step - loss: 850.0400 - mean_absolute_error: 24.7328 - val_loss: 219.5001 - val_mean_absolute_error: 13.2665\n",
      "Epoch 60/100\n",
      "7/7 [==============================] - 0s 7ms/step - loss: 801.8354 - mean_absolute_error: 24.0233 - val_loss: 376.1196 - val_mean_absolute_error: 18.2003\n",
      "Epoch 61/100\n",
      "7/7 [==============================] - 0s 8ms/step - loss: 768.0778 - mean_absolute_error: 23.4602 - val_loss: 225.9908 - val_mean_absolute_error: 13.5378\n",
      "Epoch 62/100\n",
      "7/7 [==============================] - 0s 8ms/step - loss: 746.1993 - mean_absolute_error: 23.0221 - val_loss: 218.7456 - val_mean_absolute_error: 13.3086\n",
      "Epoch 63/100\n",
      "7/7 [==============================] - 0s 8ms/step - loss: 699.0637 - mean_absolute_error: 22.3458 - val_loss: 285.0223 - val_mean_absolute_error: 15.5767\n",
      "Epoch 64/100\n",
      "7/7 [==============================] - 0s 8ms/step - loss: 649.8628 - mean_absolute_error: 21.4302 - val_loss: 183.3122 - val_mean_absolute_error: 12.0559\n",
      "Epoch 65/100\n",
      "7/7 [==============================] - 0s 8ms/step - loss: 624.4424 - mean_absolute_error: 20.8902 - val_loss: 299.0005 - val_mean_absolute_error: 16.1122\n",
      "Epoch 66/100\n",
      "7/7 [==============================] - 0s 8ms/step - loss: 544.4468 - mean_absolute_error: 19.4982 - val_loss: 149.4643 - val_mean_absolute_error: 10.7217\n",
      "Epoch 67/100\n",
      "7/7 [==============================] - 0s 9ms/step - loss: 510.5703 - mean_absolute_error: 18.6516 - val_loss: 151.3435 - val_mean_absolute_error: 10.8464\n",
      "Epoch 68/100\n",
      "7/7 [==============================] - 0s 9ms/step - loss: 466.2649 - mean_absolute_error: 17.9911 - val_loss: 81.4677 - val_mean_absolute_error: 7.3755\n",
      "Epoch 69/100\n",
      "7/7 [==============================] - 0s 8ms/step - loss: 439.1342 - mean_absolute_error: 17.4508 - val_loss: 63.3542 - val_mean_absolute_error: 6.3637\n",
      "Epoch 70/100\n",
      "7/7 [==============================] - 0s 8ms/step - loss: 441.2135 - mean_absolute_error: 17.7463 - val_loss: 546.4009 - val_mean_absolute_error: 22.6578\n",
      "Epoch 71/100\n",
      "7/7 [==============================] - 0s 8ms/step - loss: 436.4881 - mean_absolute_error: 17.1155 - val_loss: 55.0890 - val_mean_absolute_error: 5.9210\n",
      "Epoch 72/100\n",
      "7/7 [==============================] - 0s 8ms/step - loss: 326.5264 - mean_absolute_error: 15.1065 - val_loss: 109.6737 - val_mean_absolute_error: 8.9939\n",
      "Epoch 73/100\n",
      "7/7 [==============================] - 0s 8ms/step - loss: 278.7895 - mean_absolute_error: 13.5979 - val_loss: 157.6391 - val_mean_absolute_error: 11.2055\n",
      "Epoch 74/100\n",
      "7/7 [==============================] - 0s 8ms/step - loss: 251.3093 - mean_absolute_error: 12.8743 - val_loss: 165.7005 - val_mean_absolute_error: 11.5825\n",
      "Epoch 75/100\n",
      "7/7 [==============================] - 0s 8ms/step - loss: 234.0866 - mean_absolute_error: 12.1178 - val_loss: 90.9265 - val_mean_absolute_error: 8.0752\n",
      "Epoch 76/100\n",
      "7/7 [==============================] - 0s 8ms/step - loss: 198.2290 - mean_absolute_error: 11.4566 - val_loss: 86.2349 - val_mean_absolute_error: 7.8223\n",
      "Epoch 77/100\n",
      "7/7 [==============================] - 0s 9ms/step - loss: 168.4362 - mean_absolute_error: 10.2559 - val_loss: 61.9419 - val_mean_absolute_error: 6.4661\n",
      "Epoch 78/100\n",
      "7/7 [==============================] - 0s 8ms/step - loss: 141.5502 - mean_absolute_error: 9.2118 - val_loss: 31.6406 - val_mean_absolute_error: 4.9098\n",
      "Epoch 79/100\n",
      "7/7 [==============================] - 0s 8ms/step - loss: 124.6906 - mean_absolute_error: 8.7312 - val_loss: 43.1584 - val_mean_absolute_error: 5.4436\n",
      "Epoch 80/100\n",
      "7/7 [==============================] - 0s 8ms/step - loss: 113.4453 - mean_absolute_error: 8.1844 - val_loss: 41.6004 - val_mean_absolute_error: 5.3833\n",
      "Epoch 81/100\n",
      "7/7 [==============================] - 0s 8ms/step - loss: 102.3586 - mean_absolute_error: 7.7241 - val_loss: 37.3726 - val_mean_absolute_error: 5.1923\n",
      "Epoch 82/100\n",
      "7/7 [==============================] - 0s 8ms/step - loss: 89.6883 - mean_absolute_error: 7.3637 - val_loss: 32.6256 - val_mean_absolute_error: 4.8218\n",
      "Epoch 83/100\n",
      "7/7 [==============================] - 0s 8ms/step - loss: 87.6206 - mean_absolute_error: 7.3200 - val_loss: 35.6198 - val_mean_absolute_error: 4.9308\n",
      "Epoch 84/100\n",
      "7/7 [==============================] - 0s 8ms/step - loss: 73.2840 - mean_absolute_error: 6.6440 - val_loss: 39.8299 - val_mean_absolute_error: 5.1109\n",
      "Epoch 85/100\n",
      "7/7 [==============================] - 0s 8ms/step - loss: 70.5986 - mean_absolute_error: 6.4361 - val_loss: 35.0168 - val_mean_absolute_error: 4.9080\n",
      "Epoch 86/100\n",
      "7/7 [==============================] - 0s 7ms/step - loss: 59.2972 - mean_absolute_error: 5.8221 - val_loss: 33.1847 - val_mean_absolute_error: 4.9728\n",
      "Epoch 87/100\n",
      "7/7 [==============================] - 0s 8ms/step - loss: 53.2053 - mean_absolute_error: 5.4731 - val_loss: 35.3076 - val_mean_absolute_error: 5.0838\n",
      "Epoch 88/100\n",
      "7/7 [==============================] - 0s 8ms/step - loss: 52.4542 - mean_absolute_error: 5.5311 - val_loss: 34.5226 - val_mean_absolute_error: 4.8869\n",
      "Epoch 89/100\n",
      "7/7 [==============================] - 0s 8ms/step - loss: 44.6569 - mean_absolute_error: 5.1762 - val_loss: 33.6075 - val_mean_absolute_error: 4.8555\n",
      "Epoch 90/100\n",
      "7/7 [==============================] - 0s 8ms/step - loss: 39.3026 - mean_absolute_error: 4.7043 - val_loss: 42.3390 - val_mean_absolute_error: 5.2056\n",
      "Epoch 91/100\n",
      "7/7 [==============================] - 0s 8ms/step - loss: 37.0627 - mean_absolute_error: 4.5726 - val_loss: 40.8716 - val_mean_absolute_error: 5.1358\n",
      "Epoch 92/100\n",
      "7/7 [==============================] - 0s 8ms/step - loss: 35.8645 - mean_absolute_error: 4.6156 - val_loss: 58.4895 - val_mean_absolute_error: 6.0651\n",
      "Epoch 93/100\n",
      "7/7 [==============================] - 0s 8ms/step - loss: 36.1639 - mean_absolute_error: 4.7774 - val_loss: 45.2835 - val_mean_absolute_error: 5.3876\n",
      "Epoch 94/100\n",
      "7/7 [==============================] - 0s 8ms/step - loss: 30.8201 - mean_absolute_error: 4.2507 - val_loss: 36.3284 - val_mean_absolute_error: 4.9233\n",
      "Epoch 95/100\n",
      "7/7 [==============================] - 0s 10ms/step - loss: 30.3560 - mean_absolute_error: 4.3570 - val_loss: 31.7427 - val_mean_absolute_error: 4.7993\n",
      "Epoch 96/100\n",
      "7/7 [==============================] - 0s 9ms/step - loss: 34.9420 - mean_absolute_error: 4.8390 - val_loss: 34.3160 - val_mean_absolute_error: 4.8546\n",
      "Epoch 97/100\n",
      "7/7 [==============================] - 0s 9ms/step - loss: 29.0521 - mean_absolute_error: 4.2493 - val_loss: 33.8423 - val_mean_absolute_error: 4.8325\n",
      "Epoch 98/100\n",
      "7/7 [==============================] - 0s 9ms/step - loss: 29.6475 - mean_absolute_error: 4.3113 - val_loss: 32.5852 - val_mean_absolute_error: 4.8035\n",
      "Epoch 99/100\n",
      "7/7 [==============================] - 0s 8ms/step - loss: 29.5941 - mean_absolute_error: 4.2652 - val_loss: 31.8159 - val_mean_absolute_error: 4.7710\n",
      "Epoch 100/100\n",
      "7/7 [==============================] - 0s 7ms/step - loss: 28.1075 - mean_absolute_error: 4.2511 - val_loss: 32.6415 - val_mean_absolute_error: 4.7969\n"
     ]
    },
    {
     "data": {
      "text/plain": [
       "<keras.callbacks.History at 0x2a312fe7190>"
      ]
     },
     "execution_count": 16,
     "metadata": {},
     "output_type": "execute_result"
    }
   ],
   "source": [
    "from tensorflow.keras.models import Sequential\n",
    "from tensorflow.keras.optimizers import Adam\n",
    "from tensorflow.keras import layers\n",
    "\n",
    "model = Sequential([layers.Input((3, 1)),\n",
    "                    layers.LSTM(64),\n",
    "                    layers.Dense(32, activation='relu'),\n",
    "                    layers.Dense(32, activation='relu'),\n",
    "                    layers.Dense(1)])\n",
    "\n",
    "model.compile(loss='mse',\n",
    "              optimizer=Adam(learning_rate=0.001),\n",
    "              metrics=['mean_absolute_error'])\n",
    "\n",
    "model.fit(X_train, y_train, validation_data=(X_val, y_val), epochs=100)\n"
   ]
  },
  {
   "cell_type": "code",
   "execution_count": null,
   "metadata": {},
   "outputs": [
    {
     "ename": "TypeError",
     "evalue": "'History' object is not callable",
     "output_type": "error",
     "traceback": [
      "\u001b[1;31m---------------------------------------------------------------------------\u001b[0m",
      "\u001b[1;31mTypeError\u001b[0m                                 Traceback (most recent call last)",
      "\u001b[1;32m~\\AppData\\Local\\Temp/ipykernel_18284/3819317356.py\u001b[0m in \u001b[0;36m<module>\u001b[1;34m\u001b[0m\n\u001b[1;32m----> 1\u001b[1;33m \u001b[0mmodel\u001b[0m\u001b[1;33m.\u001b[0m\u001b[0mhistory\u001b[0m\u001b[1;33m(\u001b[0m\u001b[1;33m)\u001b[0m\u001b[1;33m\u001b[0m\u001b[1;33m\u001b[0m\u001b[0m\n\u001b[0m",
      "\u001b[1;31mTypeError\u001b[0m: 'History' object is not callable"
     ]
    }
   ],
   "source": [
    "model.history()"
   ]
  },
  {
   "cell_type": "code",
   "execution_count": null,
   "metadata": {},
   "outputs": [
    {
     "ename": "NameError",
     "evalue": "name 'train_predictions' is not defined",
     "output_type": "error",
     "traceback": [
      "\u001b[1;31m---------------------------------------------------------------------------\u001b[0m",
      "\u001b[1;31mNameError\u001b[0m                                 Traceback (most recent call last)",
      "\u001b[1;32m~\\AppData\\Local\\Temp/ipykernel_18284/996351227.py\u001b[0m in \u001b[0;36m<module>\u001b[1;34m\u001b[0m\n\u001b[0;32m      2\u001b[0m \u001b[1;33m\u001b[0m\u001b[0m\n\u001b[0;32m      3\u001b[0m \u001b[0mx11\u001b[0m \u001b[1;33m=\u001b[0m \u001b[0mdates_train\u001b[0m\u001b[1;33m\u001b[0m\u001b[1;33m\u001b[0m\u001b[0m\n\u001b[1;32m----> 4\u001b[1;33m \u001b[0my11\u001b[0m \u001b[1;33m=\u001b[0m \u001b[0mtrain_predictions\u001b[0m\u001b[1;33m\u001b[0m\u001b[1;33m\u001b[0m\u001b[0m\n\u001b[0m\u001b[0;32m      5\u001b[0m \u001b[0mx22\u001b[0m \u001b[1;33m=\u001b[0m \u001b[0mdates_train\u001b[0m\u001b[1;33m\u001b[0m\u001b[1;33m\u001b[0m\u001b[0m\n\u001b[0;32m      6\u001b[0m \u001b[0my22\u001b[0m \u001b[1;33m=\u001b[0m \u001b[0my_train\u001b[0m\u001b[1;33m\u001b[0m\u001b[1;33m\u001b[0m\u001b[0m\n",
      "\u001b[1;31mNameError\u001b[0m: name 'train_predictions' is not defined"
     ]
    }
   ],
   "source": [
    "import plotly.graph_objects as go\n",
    "\n",
    "x11 = dates_train\n",
    "y11 = train_predictions\n",
    "x22 = dates_train\n",
    "y22 = y_train\n",
    "\n",
    "f1 = go.Figure(\n",
    "    data=[\n",
    "        go.Scatter(x=x11, y=y11, name=\"training predictions\"),\n",
    "        go.Scatter(x=x22, y=y22, name=\"training observation\"),\n",
    "    ],\n",
    "    layout={\"xaxis\": {\"title\": \"Date\"}, \"yaxis\": {\n",
    "        \"title\": \"Pengeluaran(Rp)\"}, \"title\": \"Forecasting ITSG\"}\n",
    ")\n",
    "f1\n"
   ]
  },
  {
   "cell_type": "code",
   "execution_count": null,
   "metadata": {},
   "outputs": [
    {
     "name": "stdout",
     "output_type": "stream",
     "text": [
      "7/7 [==============================] - 0s 1ms/step\n"
     ]
    },
    {
     "data": {
      "text/plain": [
       "<matplotlib.legend.Legend at 0x22af086b430>"
      ]
     },
     "execution_count": 60,
     "metadata": {},
     "output_type": "execute_result"
    },
    {
     "data": {
      "image/png": "[encoded data removed]",
      "text/plain": [
       "<Figure size 432x288 with 1 Axes>"
      ]
     },
     "metadata": {
      "needs_background": "light"
     },
     "output_type": "display_data"
    }
   ],
   "source": [
    "train_predictions = model.predict(X_train).flatten()\n",
    "\n",
    "plt.plot(dates_train, train_predictions)\n",
    "plt.plot(dates_train, y_train)\n",
    "plt.legend(['Training Predictions', 'Training Observations'])\n"
   ]
  }
 ],
 "metadata": {
  "kernelspec": {
   "display_name": "Python 3.10.1 64-bit",
   "language": "python",
   "name": "python3"
  },
  "language_info": {
   "codemirror_mode": {
    "name": "ipython",
    "version": 3
   },
   "file_extension": ".py",
   "mimetype": "text/x-python",
   "name": "python",
   "nbconvert_exporter": "python",
   "pygments_lexer": "ipython3",
   "version": "3.10.1"
  },
  "orig_nbformat": 4,
  "vscode": {
   "interpreter": {
    "hash": "9b00adcca2d127d9453d757094884878814abfad2252649bfcca8391f83476c8"
   }
  }
 },
 "nbformat": 4,
 "nbformat_minor": 2
}
